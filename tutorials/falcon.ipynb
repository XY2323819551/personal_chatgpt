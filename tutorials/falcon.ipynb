{
 "cells": [
  {
   "cell_type": "markdown",
   "id": "a4f28f54",
   "metadata": {},
   "source": [
    "## basics"
   ]
  },
  {
   "cell_type": "markdown",
   "id": "dc288bc8",
   "metadata": {},
   "source": [
    "- huggingface leaderboard\n",
    "    - https://huggingface.co/spaces/HuggingFaceH4/open_llm_leaderboard\n",
    "    - TII: Technology Innovation Institute\n",
    "- 两个 size\n",
    "    - 7b\n",
    "        - falcon-7b\n",
    "        - falcon-7b-instruct\n",
    "    - 40b\n",
    "        - falcon-40b\n",
    "        - falcon-40b-instruct\n",
    "        "
   ]
  },
  {
   "cell_type": "markdown",
   "id": "464b3f3e",
   "metadata": {},
   "source": [
    "## load"
   ]
  },
  {
   "cell_type": "code",
   "execution_count": 1,
   "id": "32946924",
   "metadata": {
    "ExecuteTime": {
     "end_time": "2023-07-15T10:57:43.660390Z",
     "start_time": "2023-07-15T10:57:43.373444Z"
    }
   },
   "outputs": [],
   "source": [
    "from transformers import AutoTokenizer, AutoModelForCausalLM"
   ]
  },
  {
   "cell_type": "code",
   "execution_count": 2,
   "id": "315e29a5",
   "metadata": {
    "ExecuteTime": {
     "end_time": "2023-07-15T10:57:43.664934Z",
     "start_time": "2023-07-15T10:57:43.662204Z"
    }
   },
   "outputs": [],
   "source": [
    "import os\n",
    "os.environ['HTTP_PROXY'] = 'http://127.0.0.1:7890'\n",
    "os.environ['HTTPS_PROXY'] = 'http://127.0.0.1:7890'"
   ]
  },
  {
   "cell_type": "code",
   "execution_count": null,
   "id": "acfba679",
   "metadata": {
    "ExecuteTime": {
     "start_time": "2023-07-15T11:07:39.786Z"
    }
   },
   "outputs": [
    {
     "name": "stderr",
     "output_type": "stream",
     "text": [
      "Explicitly passing a `revision` is encouraged when loading a configuration with custom code to ensure no malicious code has been contributed in a newer revision.\n",
      "Explicitly passing a `revision` is encouraged when loading a model with custom code to ensure no malicious code has been contributed in a newer revision.\n",
      "Overriding torch_dtype=None with `torch_dtype=torch.float16` due to requirements of `bitsandbytes` to enable model loading in mixed int8. Either pass torch_dtype=torch.float16 or don't pass this argument at all to remove this warning.\n"
     ]
    },
    {
     "data": {
      "application/vnd.jupyter.widget-view+json": {
       "model_id": "246469cbcc994b98a2f44139861c442b",
       "version_major": 2,
       "version_minor": 0
      },
      "text/plain": [
       "Downloading shards:   0%|          | 0/9 [00:00<?, ?it/s]"
      ]
     },
     "metadata": {},
     "output_type": "display_data"
    },
    {
     "data": {
      "application/vnd.jupyter.widget-view+json": {
       "model_id": "eb3e3a5c3abc4774a6208b98615be6f0",
       "version_major": 2,
       "version_minor": 0
      },
      "text/plain": [
       "Downloading (…)l-00002-of-00009.bin:   0%|          | 0.00/9.51G [00:00<?, ?B/s]"
      ]
     },
     "metadata": {},
     "output_type": "display_data"
    }
   ],
   "source": [
    "# model_id = 'tiiuae/falcon-7b-instruct'\n",
    "model_id = 'tiiuae/falcon-40b-instruct'\n",
    "model = AutoModelForCausalLM.from_pretrained(model_id, \n",
    "                                             load_in_8bit=True, \n",
    "                                             device_map='auto', \n",
    "                                             trust_remote_code=True)"
   ]
  },
  {
   "cell_type": "code",
   "execution_count": null,
   "id": "5667bb2f",
   "metadata": {},
   "outputs": [],
   "source": []
  }
 ],
 "metadata": {
  "kernelspec": {
   "display_name": "Python 3 (ipykernel)",
   "language": "python",
   "name": "python3"
  },
  "language_info": {
   "codemirror_mode": {
    "name": "ipython",
    "version": 3
   },
   "file_extension": ".py",
   "mimetype": "text/x-python",
   "name": "python",
   "nbconvert_exporter": "python",
   "pygments_lexer": "ipython3",
   "version": "3.10.9"
  },
  "toc": {
   "base_numbering": 1,
   "nav_menu": {},
   "number_sections": true,
   "sideBar": true,
   "skip_h1_title": false,
   "title_cell": "Table of Contents",
   "title_sidebar": "Contents",
   "toc_cell": false,
   "toc_position": {},
   "toc_section_display": true,
   "toc_window_display": false
  }
 },
 "nbformat": 4,
 "nbformat_minor": 5
}
