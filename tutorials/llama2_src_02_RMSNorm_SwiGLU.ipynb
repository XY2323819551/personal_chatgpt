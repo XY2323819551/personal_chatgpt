{
 "cells": [
  {
   "cell_type": "markdown",
   "id": "927c0a80",
   "metadata": {},
   "source": [
    "## basics"
   ]
  },
  {
   "cell_type": "markdown",
   "id": "19ab1ca7",
   "metadata": {},
   "source": [
    "## RMSNorm"
   ]
  },
  {
   "cell_type": "markdown",
   "id": "08e66e71",
   "metadata": {},
   "source": [
    "- Pre-normalization Using RMSNorm \n",
    "    - root mean square norm\n",
    "\n",
    "        $$ \\begin{align} \\begin{split} & \\bar{a}_i = \\frac{a_i}{\\text{RMS}(\\mathbf{a})} \\odot g_i, \\quad \\text{where}~~ \\text{RMS}(\\mathbf{a}) = \\sqrt{\\frac{1}{n} \\sum_{i=1}^{n} a_i^2}. \\end{split}\\nonumber \\end{align} $$\n",
    "\n",
    "    - 我们自然地可以得到一个结论就是，经过 rms norm 之后的 $\\bar{\\mathbf{a}}$ 其 $\\ell_2$ norm 为 $\\sqrt n$\n",
    "       \n",
    "$$\n",
    "\\|\\bar{\\mathbf{a}}\\|_2=\\sqrt{\\frac{\\sum a_i^2}{\\frac1n\\sum a_i^2}}=\\sqrt{n}\n",
    "$$\n",
    "       \n",
    "```\n",
    "class RMSNorm(torch.nn.Module):\n",
    "    def __init__(self, dim: int, eps: float = 1e-6):\n",
    "        super().__init__()\n",
    "        self.eps = eps\n",
    "        self.weight = nn.Parameter(torch.ones(dim))\n",
    "\n",
    "    def _norm(self, x):\n",
    "        return x * torch.rsqrt(x.pow(2).mean(-1, keepdim=True) + self.eps)\n",
    "\n",
    "    def forward(self, x):\n",
    "        output = self._norm(x.float()).type_as(x)\n",
    "        return output * self.weight\n",
    "```"
   ]
  },
  {
   "cell_type": "code",
   "execution_count": 31,
   "id": "267d91fb",
   "metadata": {
    "ExecuteTime": {
     "end_time": "2023-08-26T13:10:29.403949Z",
     "start_time": "2023-08-26T13:10:29.397166Z"
    }
   },
   "outputs": [],
   "source": [
    "import numpy as np\n",
    "import torch\n",
    "from torch import nn"
   ]
  },
  {
   "cell_type": "code",
   "execution_count": 4,
   "id": "e890ab3c",
   "metadata": {
    "ExecuteTime": {
     "end_time": "2023-08-26T12:59:24.793172Z",
     "start_time": "2023-08-26T12:59:24.787421Z"
    }
   },
   "outputs": [],
   "source": [
    "bs, seq_len, embedding_dim = 20, 5, 10\n",
    "x = torch.randn(bs, seq_len, embedding_dim)"
   ]
  },
  {
   "cell_type": "markdown",
   "id": "fda79747",
   "metadata": {},
   "source": [
    "### layer norm"
   ]
  },
  {
   "cell_type": "code",
   "execution_count": 5,
   "id": "814e6604",
   "metadata": {
    "ExecuteTime": {
     "end_time": "2023-08-26T12:59:34.836825Z",
     "start_time": "2023-08-26T12:59:34.828174Z"
    }
   },
   "outputs": [],
   "source": [
    "ln = nn.LayerNorm(embedding_dim)"
   ]
  },
  {
   "cell_type": "code",
   "execution_count": 6,
   "id": "dcacb3eb",
   "metadata": {
    "ExecuteTime": {
     "end_time": "2023-08-26T12:59:39.817105Z",
     "start_time": "2023-08-26T12:59:39.799215Z"
    }
   },
   "outputs": [],
   "source": [
    "x_ln = ln(x)"
   ]
  },
  {
   "cell_type": "code",
   "execution_count": 14,
   "id": "f305c7ab",
   "metadata": {
    "ExecuteTime": {
     "end_time": "2023-08-26T13:00:40.162048Z",
     "start_time": "2023-08-26T13:00:40.149648Z"
    },
    "scrolled": true
   },
   "outputs": [
    {
     "name": "stdout",
     "output_type": "stream",
     "text": [
      "tensor(-2.4587e-08, grad_fn=<MeanBackward0>)\n",
      "tensor(1.0000, grad_fn=<StdBackward0>)\n"
     ]
    }
   ],
   "source": [
    "print(x_ln[1, 4, :].mean())\n",
    "print(x_ln[1, 4, :].std(unbiased=False))"
   ]
  },
  {
   "cell_type": "markdown",
   "id": "91af91a3",
   "metadata": {},
   "source": [
    "### RMSNorm"
   ]
  },
  {
   "cell_type": "code",
   "execution_count": 16,
   "id": "2cdd81d8",
   "metadata": {
    "ExecuteTime": {
     "end_time": "2023-08-26T13:01:53.755558Z",
     "start_time": "2023-08-26T13:01:53.743868Z"
    }
   },
   "outputs": [],
   "source": [
    "class RMSNorm(torch.nn.Module):\n",
    "    def __init__(self, dim: int, eps: float = 1e-6):\n",
    "        super().__init__()\n",
    "        self.eps = eps\n",
    "        self.weight = nn.Parameter(torch.ones(dim))\n",
    "\n",
    "    def _norm(self, x):\n",
    "        return x * torch.rsqrt(x.pow(2).mean(-1, keepdim=True) + self.eps)\n",
    "\n",
    "    def forward(self, x):\n",
    "        output = self._norm(x.float()).type_as(x)\n",
    "        return output * self.weight"
   ]
  },
  {
   "cell_type": "code",
   "execution_count": 17,
   "id": "1c3d6b3b",
   "metadata": {
    "ExecuteTime": {
     "end_time": "2023-08-26T13:02:01.977951Z",
     "start_time": "2023-08-26T13:02:01.971281Z"
    }
   },
   "outputs": [],
   "source": [
    "rms_norm = RMSNorm(embedding_dim)"
   ]
  },
  {
   "cell_type": "code",
   "execution_count": 18,
   "id": "41a024e6",
   "metadata": {
    "ExecuteTime": {
     "end_time": "2023-08-26T13:02:10.003247Z",
     "start_time": "2023-08-26T13:02:09.987037Z"
    }
   },
   "outputs": [],
   "source": [
    "x_rms = rms_norm(x)"
   ]
  },
  {
   "cell_type": "code",
   "execution_count": 23,
   "id": "67d3d659",
   "metadata": {
    "ExecuteTime": {
     "end_time": "2023-08-26T13:02:40.028967Z",
     "start_time": "2023-08-26T13:02:40.016907Z"
    }
   },
   "outputs": [
    {
     "data": {
      "text/plain": [
       "tensor([-0.0535,  1.1672,  0.9935,  2.2605,  1.7659,  0.6190,  0.8559, -2.4298,\n",
       "        -0.2863, -0.9913])"
      ]
     },
     "execution_count": 23,
     "metadata": {},
     "output_type": "execute_result"
    }
   ],
   "source": [
    "x[0, 0, :]"
   ]
  },
  {
   "cell_type": "code",
   "execution_count": 27,
   "id": "ce71e0c5",
   "metadata": {
    "ExecuteTime": {
     "end_time": "2023-08-26T13:05:18.835154Z",
     "start_time": "2023-08-26T13:05:18.813846Z"
    }
   },
   "outputs": [
    {
     "data": {
      "text/plain": [
       "tensor(1.3662)"
      ]
     },
     "execution_count": 27,
     "metadata": {},
     "output_type": "execute_result"
    }
   ],
   "source": [
    "torch.sqrt(torch.sum(x[0, 0, :].pow(2)) / embedding_dim)"
   ]
  },
  {
   "cell_type": "code",
   "execution_count": 24,
   "id": "965379eb",
   "metadata": {
    "ExecuteTime": {
     "end_time": "2023-08-26T13:03:31.724286Z",
     "start_time": "2023-08-26T13:03:31.712520Z"
    }
   },
   "outputs": [
    {
     "data": {
      "text/plain": [
       "tensor(4.3203)"
      ]
     },
     "execution_count": 24,
     "metadata": {},
     "output_type": "execute_result"
    }
   ],
   "source": [
    "torch.norm(x[0, 0, :])"
   ]
  },
  {
   "cell_type": "code",
   "execution_count": 28,
   "id": "6f733477",
   "metadata": {
    "ExecuteTime": {
     "end_time": "2023-08-26T13:05:32.940223Z",
     "start_time": "2023-08-26T13:05:32.926801Z"
    }
   },
   "outputs": [
    {
     "data": {
      "text/plain": [
       "tensor([-0.0392,  0.8543,  0.7272,  1.6546,  1.2926,  0.4531,  0.6265, -1.7785,\n",
       "        -0.2096, -0.7256])"
      ]
     },
     "execution_count": 28,
     "metadata": {},
     "output_type": "execute_result"
    }
   ],
   "source": [
    "x[0, 0, :] / torch.sqrt(torch.sum(x[0, 0, :].pow(2)) / embedding_dim)"
   ]
  },
  {
   "cell_type": "code",
   "execution_count": 22,
   "id": "620c1a78",
   "metadata": {
    "ExecuteTime": {
     "end_time": "2023-08-26T13:02:30.452220Z",
     "start_time": "2023-08-26T13:02:30.440130Z"
    }
   },
   "outputs": [
    {
     "data": {
      "text/plain": [
       "tensor([-0.0392,  0.8543,  0.7272,  1.6546,  1.2926,  0.4531,  0.6265, -1.7785,\n",
       "        -0.2096, -0.7256], grad_fn=<SliceBackward0>)"
      ]
     },
     "execution_count": 22,
     "metadata": {},
     "output_type": "execute_result"
    }
   ],
   "source": [
    "x_rms[0, 0, :]"
   ]
  },
  {
   "cell_type": "code",
   "execution_count": 29,
   "id": "5238efcd",
   "metadata": {
    "ExecuteTime": {
     "end_time": "2023-08-26T13:10:10.882324Z",
     "start_time": "2023-08-26T13:10:10.872818Z"
    }
   },
   "outputs": [
    {
     "data": {
      "text/plain": [
       "tensor(3.1623, grad_fn=<LinalgVectorNormBackward0>)"
      ]
     },
     "execution_count": 29,
     "metadata": {},
     "output_type": "execute_result"
    }
   ],
   "source": [
    "torch.norm(x_rms[0, 0, :])"
   ]
  },
  {
   "cell_type": "code",
   "execution_count": 32,
   "id": "b3e5dca8",
   "metadata": {
    "ExecuteTime": {
     "end_time": "2023-08-26T13:10:34.884267Z",
     "start_time": "2023-08-26T13:10:34.876175Z"
    }
   },
   "outputs": [
    {
     "data": {
      "text/plain": [
       "3.1622776601683795"
      ]
     },
     "execution_count": 32,
     "metadata": {},
     "output_type": "execute_result"
    }
   ],
   "source": [
    "np.sqrt(embedding_dim)"
   ]
  },
  {
   "cell_type": "markdown",
   "id": "56b4aeba",
   "metadata": {},
   "source": [
    "## SwiGLU"
   ]
  },
  {
   "cell_type": "markdown",
   "id": "3cb097ad",
   "metadata": {},
   "source": [
    "- Inspiration of using SwiGLU in LLaMA is taken from PaLM.\n",
    "- 也叫 SiLU (Sigmoid Linear Unit)，\n",
    "\n",
    "$$\n",
    "\\text{silu}(x)=x\\cdot\\sigma(x)=x\\cdot\\frac{1}{1+\\exp(-x)}=\\frac{x}{1+\\exp(-x)}\n",
    "$$"
   ]
  },
  {
   "cell_type": "code",
   "execution_count": 33,
   "id": "4f0bca30",
   "metadata": {
    "ExecuteTime": {
     "end_time": "2023-08-26T13:16:46.627986Z",
     "start_time": "2023-08-26T13:16:46.620652Z"
    }
   },
   "outputs": [],
   "source": [
    "def sigmoid(x):\n",
    "    return  1/(1 + np.exp(-x))\n",
    "\n",
    "def swish(x):\n",
    "    return x*sigmoid(x)"
   ]
  },
  {
   "cell_type": "code",
   "execution_count": 35,
   "id": "bd2e5e04",
   "metadata": {
    "ExecuteTime": {
     "end_time": "2023-08-26T13:19:05.458090Z",
     "start_time": "2023-08-26T13:19:05.454168Z"
    }
   },
   "outputs": [],
   "source": [
    "import matplotlib.pyplot as plt\n",
    "plt.rcParams['figure.dpi'] = 120"
   ]
  },
  {
   "cell_type": "code",
   "execution_count": 36,
   "id": "0b4f302d",
   "metadata": {
    "ExecuteTime": {
     "end_time": "2023-08-26T13:19:22.571211Z",
     "start_time": "2023-08-26T13:19:22.356719Z"
    }
   },
   "outputs": [
    {
     "data": {
      "text/plain": [
       "[<matplotlib.lines.Line2D at 0x7f936421ac50>]"
      ]
     },
     "execution_count": 36,
     "metadata": {},
     "output_type": "execute_result"
    },
    {
     "data": {
      "image/png": "[encoded data removed]",
      "text/plain": [
       "<Figure size 768x576 with 1 Axes>"
      ]
     },
     "metadata": {},
     "output_type": "display_data"
    }
   ],
   "source": [
    "x = np.arange(-5, 5, .01)\n",
    "plt.plot(x, swish(x))"
   ]
  },
  {
   "cell_type": "code",
   "execution_count": 38,
   "id": "640640ea",
   "metadata": {
    "ExecuteTime": {
     "end_time": "2023-08-26T13:23:30.050952Z",
     "start_time": "2023-08-26T13:23:30.038535Z"
    }
   },
   "outputs": [
    {
     "data": {
      "text/plain": [
       "tensor([-1.3027,  1.0918, -1.4094,  1.5364,  1.8968])"
      ]
     },
     "execution_count": 38,
     "metadata": {},
     "output_type": "execute_result"
    }
   ],
   "source": [
    "x = torch.randn(5)\n",
    "x"
   ]
  },
  {
   "cell_type": "code",
   "execution_count": 39,
   "id": "ea54ba9c",
   "metadata": {
    "ExecuteTime": {
     "end_time": "2023-08-26T13:23:41.387160Z",
     "start_time": "2023-08-26T13:23:41.368910Z"
    }
   },
   "outputs": [
    {
     "data": {
      "text/plain": [
       "tensor([-0.2784,  0.8175, -0.2767,  1.2644,  1.6493])"
      ]
     },
     "execution_count": 39,
     "metadata": {},
     "output_type": "execute_result"
    }
   ],
   "source": [
    "x/(1+torch.exp(-x))"
   ]
  },
  {
   "cell_type": "code",
   "execution_count": 40,
   "id": "64ff0911",
   "metadata": {
    "ExecuteTime": {
     "end_time": "2023-08-26T13:23:52.305936Z",
     "start_time": "2023-08-26T13:23:52.299935Z"
    }
   },
   "outputs": [],
   "source": [
    "import torch.nn.functional as F"
   ]
  },
  {
   "cell_type": "code",
   "execution_count": 41,
   "id": "5bc2c339",
   "metadata": {
    "ExecuteTime": {
     "end_time": "2023-08-26T13:23:57.414168Z",
     "start_time": "2023-08-26T13:23:57.376083Z"
    }
   },
   "outputs": [
    {
     "data": {
      "text/plain": [
       "tensor([-0.2784,  0.8175, -0.2767,  1.2644,  1.6493])"
      ]
     },
     "execution_count": 41,
     "metadata": {},
     "output_type": "execute_result"
    }
   ],
   "source": [
    "F.silu(x)"
   ]
  }
 ],
 "metadata": {
  "kernelspec": {
   "display_name": "Python 3 (ipykernel)",
   "language": "python",
   "name": "python3"
  },
  "language_info": {
   "codemirror_mode": {
    "name": "ipython",
    "version": 3
   },
   "file_extension": ".py",
   "mimetype": "text/x-python",
   "name": "python",
   "nbconvert_exporter": "python",
   "pygments_lexer": "ipython3",
   "version": "3.10.9"
  },
  "toc": {
   "base_numbering": 1,
   "nav_menu": {},
   "number_sections": true,
   "sideBar": true,
   "skip_h1_title": false,
   "title_cell": "Table of Contents",
   "title_sidebar": "Contents",
   "toc_cell": false,
   "toc_position": {},
   "toc_section_display": true,
   "toc_window_display": false
  }
 },
 "nbformat": 4,
 "nbformat_minor": 5
}
