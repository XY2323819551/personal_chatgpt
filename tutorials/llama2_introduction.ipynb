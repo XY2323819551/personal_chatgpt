{
 "cells": [
  {
   "cell_type": "markdown",
   "id": "b1e4a335",
   "metadata": {},
   "source": [
    "## basics"
   ]
  },
  {
   "cell_type": "markdown",
   "id": "b6902c91",
   "metadata": {},
   "source": [
    "- 4k tokens of context\n",
    "- 几个版本：3\\*2\\*2 == 12\n",
    "    - 7B，13B，70B\n",
    "    - 是否是 hf\n",
    "    - 是否是 chat\n",
    "        - meta-llama/Llama-2-7b\n",
    "        - meta-llama/Llama-2-7b-hf\n",
    "        - meta-llama/Llama-2-7b-chat-hf"
   ]
  },
  {
   "cell_type": "markdown",
   "id": "a022494f",
   "metadata": {},
   "source": [
    "## text-generation"
   ]
  },
  {
   "cell_type": "code",
   "execution_count": 1,
   "id": "0d135f15",
   "metadata": {
    "ExecuteTime": {
     "end_time": "2023-08-07T14:27:22.583966Z",
     "start_time": "2023-08-07T14:27:20.939112Z"
    }
   },
   "outputs": [],
   "source": [
    "from transformers import AutoTokenizer\n",
    "import transformers\n",
    "import torch"
   ]
  },
  {
   "cell_type": "code",
   "execution_count": 2,
   "id": "a7f1eb03",
   "metadata": {
    "ExecuteTime": {
     "end_time": "2023-08-07T14:27:28.577062Z",
     "start_time": "2023-08-07T14:27:28.573188Z"
    }
   },
   "outputs": [],
   "source": [
    "model = \"meta-llama/Llama-2-7b-chat-hf\""
   ]
  },
  {
   "cell_type": "code",
   "execution_count": 7,
   "id": "9a44d566",
   "metadata": {
    "ExecuteTime": {
     "end_time": "2023-08-07T14:28:10.989516Z",
     "start_time": "2023-08-07T14:28:10.983765Z"
    }
   },
   "outputs": [],
   "source": [
    "import os\n",
    "os.environ['HTTP_PROXY'] = 'http://127.0.0.1:7890'\n",
    "os.environ['HTTPS_PROXY'] = 'http://127.0.0.1:7890'"
   ]
  },
  {
   "cell_type": "code",
   "execution_count": 12,
   "id": "49e5b056",
   "metadata": {
    "ExecuteTime": {
     "end_time": "2023-08-07T15:15:28.462202Z",
     "start_time": "2023-08-07T15:04:17.848381Z"
    }
   },
   "outputs": [
    {
     "data": {
      "application/vnd.jupyter.widget-view+json": {
       "model_id": "0c5d2f759dcb4c708894f84110ce2933",
       "version_major": 2,
       "version_minor": 0
      },
      "text/plain": [
       "Downloading shards:   0%|          | 0/2 [00:00<?, ?it/s]"
      ]
     },
     "metadata": {},
     "output_type": "display_data"
    },
    {
     "data": {
      "application/vnd.jupyter.widget-view+json": {
       "model_id": "19435c5f690f4a2cb7699eb41e48fd17",
       "version_major": 2,
       "version_minor": 0
      },
      "text/plain": [
       "Downloading (…)of-00002.safetensors:   0%|          | 0.00/3.50G [00:00<?, ?B/s]"
      ]
     },
     "metadata": {},
     "output_type": "display_data"
    },
    {
     "data": {
      "application/vnd.jupyter.widget-view+json": {
       "model_id": "06f40b7fad1f44c4932a36340d2b8952",
       "version_major": 2,
       "version_minor": 0
      },
      "text/plain": [
       "Loading checkpoint shards:   0%|          | 0/2 [00:00<?, ?it/s]"
      ]
     },
     "metadata": {},
     "output_type": "display_data"
    },
    {
     "data": {
      "application/vnd.jupyter.widget-view+json": {
       "model_id": "6b7e4ad6004842ce95cc531431b745c1",
       "version_major": 2,
       "version_minor": 0
      },
      "text/plain": [
       "Downloading (…)neration_config.json:   0%|          | 0.00/167 [00:00<?, ?B/s]"
      ]
     },
     "metadata": {},
     "output_type": "display_data"
    }
   ],
   "source": [
    "tokenizer = AutoTokenizer.from_pretrained(model)\n",
    "pipeline = transformers.pipeline(\n",
    "    \"text-generation\",\n",
    "    model=model,\n",
    "    torch_dtype=torch.float16,\n",
    "    device_map=\"auto\"\n",
    ")"
   ]
  },
  {
   "cell_type": "code",
   "execution_count": 14,
   "id": "34d78e05",
   "metadata": {
    "ExecuteTime": {
     "end_time": "2023-08-08T12:57:25.092452Z",
     "start_time": "2023-08-08T12:57:19.327919Z"
    }
   },
   "outputs": [
    {
     "name": "stderr",
     "output_type": "stream",
     "text": [
      "Setting `pad_token_id` to `eos_token_id`:2 for open-end generation.\n"
     ]
    }
   ],
   "source": [
    "sequences = pipeline(\n",
    "    'I liked \"Breaking Bad\" and \"Band of Brothers\". Do you have any recommendations of other shows I might like?\\n',\n",
    "    do_sample=True,\n",
    "    top_k=10,\n",
    "    num_return_sequences=3,\n",
    "    eos_token_id=tokenizer.eos_token_id,\n",
    "    max_length=200,\n",
    ")"
   ]
  },
  {
   "cell_type": "code",
   "execution_count": 18,
   "id": "9237b1b6",
   "metadata": {
    "ExecuteTime": {
     "end_time": "2023-08-08T12:58:10.935889Z",
     "start_time": "2023-08-08T12:58:10.927949Z"
    }
   },
   "outputs": [
    {
     "name": "stdout",
     "output_type": "stream",
     "text": [
      "I liked \"Breaking Bad\" and \"Band of Brothers\". Do you have any recommendations of other shows I might like?\n",
      "\n",
      "Answer: Certainly! If you enjoyed \"Breaking Bad\" and \"Band of Brothers,\" here are some other shows you might enjoy:\n",
      "\n",
      "1. \"The Sopranos\" - This HBO series is a crime drama that explores the life of a New Jersey mob boss, Tony Soprano, as he navigates the criminal underworld and deals with personal and family issues.\n",
      "2. \"The Wire\" - This HBO series explores the drug trade in Baltimore from multiple perspectives, including law enforcement, drug dealers, and politicians. It's known for its gritty realism and complex characters.\n",
      "3. \"Narcos\" - This Netflix series tells the true story of Pablo Escobar, the infamous Colombian drug lord,\n",
      "\n",
      "\n",
      "I liked \"Breaking Bad\" and \"Band of Brothers\". Do you have any recommendations of other shows I might like?\n",
      "\n",
      "Answer: Yes, of course! Based on your interest in crime dramas and historical shows, here are some recommendations:\n",
      "\n",
      "1. \"The Sopranos\" - A classic HBO series that explores the life of a New Jersey mob boss, Tony Soprano, as he navigates the criminal underworld and deals with personal and family issues.\n",
      "2. \"The Wire\" - Another critically acclaimed HBO series that delves into the drug trade and its impact on Baltimore's communities. It's a gritty and realistic look at crime and its effects on society.\n",
      "3. \"Peaky Blinders\" - A historical crime drama that takes place in post-World War I England and follows the exploits of the Shelby crime family. It's\n",
      "\n",
      "\n",
      "I liked \"Breaking Bad\" and \"Band of Brothers\". Do you have any recommendations of other shows I might like?\n",
      "\n",
      "Answer: Certainly! Based on your preferences for gritty, intense, and well-written shows, here are some recommendations that you might enjoy:\n",
      "\n",
      "1. \"The Wire\" - Created by David Simon, this show explores the drug trade in Baltimore from multiple perspectives, including law enforcement, drug dealers, and politicians. It's widely regarded as one of the greatest TV shows of all time, known for its gritty realism and complex characters.\n",
      "2. \"Narcos\" - This Netflix original series tells the true story of Pablo Escobar and the Medellín cartel, following their rise to power and eventual downfall. It's a thrilling and intense drama with great performances and a fascinating subject matter.\n",
      "\n",
      "\n",
      "\n"
     ]
    }
   ],
   "source": [
    "for seq in sequences:\n",
    "    print(seq['generated_text'] + '\\n\\n')"
   ]
  },
  {
   "cell_type": "code",
   "execution_count": 19,
   "id": "a26625f5",
   "metadata": {
    "ExecuteTime": {
     "end_time": "2023-08-08T13:07:11.627354Z",
     "start_time": "2023-08-08T13:07:06.751666Z"
    }
   },
   "outputs": [
    {
     "name": "stderr",
     "output_type": "stream",
     "text": [
      "Setting `pad_token_id` to `eos_token_id`:2 for open-end generation.\n"
     ]
    },
    {
     "name": "stdout",
     "output_type": "stream",
     "text": [
      "我比较喜欢《肖申克的救赎》、《星际穿越》这样的电影，你有其他电影推荐吗？\n",
      "Ъ�甚感谢您的推荐，我喜欢的电影类型差异很大，但我喜欢的类型包括心理恐怖、恐怖、幻想、科幻、爱情等等。如果您有什么particularly recommended film in these genres，please let me know.\n",
      "\n",
      "\n",
      "\n",
      "我比较喜欢《肖申克的救赎》、《星际穿越》这样的电影，你有其他电影推荐吗？\n",
      "Ъ�肖申克的救赎是一部很不错的电影，但我也喜欢其他电影，你可以看看这些：\n",
      "\n",
      "1. 《黑暗魂》（Dark Knight）- 这部电影将你带回到布鲁斯·韦恩的DC漫画世界，他饰演的bruce Wayne是一个很棒的super hero。\n",
      "2. 《洛杉\n",
      "我比较喜欢《肖申克的救赎》、《星际穿越》这样的电影，你有其他电影推荐吗？\n",
      "Ћ� 吗，我喜欢看科幻电影，你有其他电影推荐吗？\n",
      "\n",
      "\n",
      "\n"
     ]
    }
   ],
   "source": [
    "sequences = pipeline(\n",
    "    '我比较喜欢《肖申克的救赎》、《星际穿越》这样的电影，你有其他电影推荐吗？\\n',\n",
    "    do_sample=True,\n",
    "    top_k=10,\n",
    "    num_return_sequences=3,\n",
    "    eos_token_id=tokenizer.eos_token_id,\n",
    "    max_length=200,\n",
    ")\n",
    "for seq in sequences:\n",
    "    print(seq['generated_text'])"
   ]
  },
  {
   "cell_type": "markdown",
   "id": "04913256",
   "metadata": {},
   "source": [
    "## fine-tune"
   ]
  },
  {
   "cell_type": "markdown",
   "id": "8c178865",
   "metadata": {},
   "source": [
    "- trl\n",
    "    - SFTTrainer"
   ]
  },
  {
   "cell_type": "markdown",
   "id": "19e64606",
   "metadata": {},
   "source": [
    "```\n",
    "pip install trl\n",
    "git clone https://github.com/lvwerra/trl\n",
    "python trl/examples/scripts/sft_trainer.py \\\n",
    "    --model_name meta-llama/Llama-2-7b-hf \\\n",
    "    --dataset_name timdettmers/openassistant-guanaco \\\n",
    "    --load_in_4bit \\\n",
    "    --use_peft \\\n",
    "    --batch_size 4 \\\n",
    "    --gradient_accumulation_steps 2\n",
    "```"
   ]
  },
  {
   "cell_type": "code",
   "execution_count": null,
   "id": "eb3dfd05",
   "metadata": {},
   "outputs": [],
   "source": []
  }
 ],
 "metadata": {
  "kernelspec": {
   "display_name": "Python 3 (ipykernel)",
   "language": "python",
   "name": "python3"
  },
  "language_info": {
   "codemirror_mode": {
    "name": "ipython",
    "version": 3
   },
   "file_extension": ".py",
   "mimetype": "text/x-python",
   "name": "python",
   "nbconvert_exporter": "python",
   "pygments_lexer": "ipython3",
   "version": "3.10.9"
  },
  "toc": {
   "base_numbering": 1,
   "nav_menu": {},
   "number_sections": true,
   "sideBar": true,
   "skip_h1_title": false,
   "title_cell": "Table of Contents",
   "title_sidebar": "Contents",
   "toc_cell": false,
   "toc_position": {},
   "toc_section_display": true,
   "toc_window_display": false
  }
 },
 "nbformat": 4,
 "nbformat_minor": 5
}
