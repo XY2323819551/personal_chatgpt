{
 "cells": [
  {
   "cell_type": "code",
   "execution_count": 1,
   "id": "65fd6e87-031c-49cf-be45-0aac32430e72",
   "metadata": {
    "execution": {
     "iopub.execute_input": "2024-07-23T15:16:22.909762Z",
     "iopub.status.busy": "2024-07-23T15:16:22.909078Z",
     "iopub.status.idle": "2024-07-23T15:16:22.919007Z",
     "shell.execute_reply": "2024-07-23T15:16:22.917263Z",
     "shell.execute_reply.started": "2024-07-23T15:16:22.909639Z"
    }
   },
   "outputs": [],
   "source": [
    "from IPython.display import Image"
   ]
  },
  {
   "cell_type": "markdown",
   "id": "6d6d86b0-212a-4255-afde-86668e10512b",
   "metadata": {},
   "source": [
    "- references\n",
    "    - https://pub.towardsai.net/reinforcement-learning-from-human-feedback-rlhf-f88687d5402e\n",
    "    - https://medium.com/@joaolages/direct-preference-optimization-dpo-622fc1f18707\n",
    "    - https://huggingface.co/blog/putting_rl_back_in_rlhf_with_rloo"
   ]
  },
  {
   "cell_type": "markdown",
   "id": "ff554c61-1a9d-4eb7-a061-c717b2567f01",
   "metadata": {},
   "source": [
    "### notes"
   ]
  },
  {
   "cell_type": "markdown",
   "id": "e77b062f-bb09-4fd6-90ff-d1d17ecc43b3",
   "metadata": {},
   "source": [
    "- In DPO, there is no reinforcement learning, and the model is directly optimized in this preference data.\n",
    "    - unlike RLHF, these responses do not have to be **sampled from the language model** that we are optimizing."
   ]
  },
  {
   "cell_type": "code",
   "execution_count": 4,
   "id": "cc81fc86-6ae1-4565-ab2a-97ee236190b0",
   "metadata": {
    "execution": {
     "iopub.execute_input": "2024-07-23T15:16:57.777219Z",
     "iopub.status.busy": "2024-07-23T15:16:57.776621Z",
     "iopub.status.idle": "2024-07-23T15:16:57.789537Z",
     "shell.execute_reply": "2024-07-23T15:16:57.787401Z",
     "shell.execute_reply.started": "2024-07-23T15:16:57.777171Z"
    }
   },
   "outputs": [
    {
     "data": {
      "text/html": [
       "<img src=\"https://miro.medium.com/v2/resize:fit:1400/format:webp/1*AqKOT0pxzi5kOgiobb-Fvg.png\" width=\"600\"/>"
      ],
      "text/plain": [
       "<IPython.core.display.Image object>"
      ]
     },
     "execution_count": 4,
     "metadata": {},
     "output_type": "execute_result"
    }
   ],
   "source": [
    "# DPO\n",
    "Image(url='https://miro.medium.com/v2/resize:fit:1400/format:webp/1*AqKOT0pxzi5kOgiobb-Fvg.png', width=600)"
   ]
  },
  {
   "cell_type": "markdown",
   "id": "df1b13b3-3386-49a3-a504-a504503f8b1e",
   "metadata": {},
   "source": [
    "- chosen **score** / rejected **score**\n",
    "    - This **score** is the product of the probabilities associated with the desired response token for each step."
   ]
  }
 ],
 "metadata": {
  "kernelspec": {
   "display_name": "Python 3 (ipykernel)",
   "language": "python",
   "name": "python3"
  },
  "language_info": {
   "codemirror_mode": {
    "name": "ipython",
    "version": 3
   },
   "file_extension": ".py",
   "mimetype": "text/x-python",
   "name": "python",
   "nbconvert_exporter": "python",
   "pygments_lexer": "ipython3",
   "version": "3.10.13"
  }
 },
 "nbformat": 4,
 "nbformat_minor": 5
}
