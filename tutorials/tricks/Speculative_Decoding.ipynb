{
 "cells": [
  {
   "cell_type": "code",
   "execution_count": 1,
   "id": "081b4022-ca3a-431d-b476-3a6558a5f8fd",
   "metadata": {},
   "outputs": [],
   "source": [
    "from IPython.display import Image"
   ]
  },
  {
   "cell_type": "markdown",
   "id": "f3712619-04f9-4052-bd89-79deb9c666f6",
   "metadata": {},
   "source": [
    "- strategy of generation：生成的策略，李宏毅\n",
    "    - https://drive.google.com/file/d/1Ac3oFUtq6ThokrMvB7VUfBCUFsoMPba-/view\n",
    "- paper\n",
    "    - https://github.com/lucidrains/speculative-decoding/tree/main\n",
    "    - https://pytorch.org/blog/hitchhikers-guide-speculative-decoding/"
   ]
  },
  {
   "cell_type": "code",
   "execution_count": 2,
   "id": "4e91baee-508d-4c67-a87e-62f748ad9acb",
   "metadata": {},
   "outputs": [
    {
     "data": {
      "text/html": [
       "<img src=\"./speculative_decoding.png\" width=\"800\"/>"
      ],
      "text/plain": [
       "<IPython.core.display.Image object>"
      ]
     },
     "execution_count": 2,
     "metadata": {},
     "output_type": "execute_result"
    }
   ],
   "source": [
    "Image(url='./speculative_decoding.png', width=800)"
   ]
  },
  {
   "cell_type": "markdown",
   "id": "6b0711e1-255c-4397-a198-ffc1e9fed25b",
   "metadata": {},
   "source": [
    "- 投机采样（猜测、随机)"
   ]
  }
 ],
 "metadata": {
  "kernelspec": {
   "display_name": "Python 3 (ipykernel)",
   "language": "python",
   "name": "python3"
  },
  "language_info": {
   "codemirror_mode": {
    "name": "ipython",
    "version": 3
   },
   "file_extension": ".py",
   "mimetype": "text/x-python",
   "name": "python",
   "nbconvert_exporter": "python",
   "pygments_lexer": "ipython3",
   "version": "3.10.13"
  }
 },
 "nbformat": 4,
 "nbformat_minor": 5
}
