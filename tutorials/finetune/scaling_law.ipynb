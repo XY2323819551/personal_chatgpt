{
 "cells": [
  {
   "cell_type": "markdown",
   "id": "6e5353da-f8bf-48d1-971e-8d7b7b8c1a0f",
   "metadata": {},
   "source": [
    "## $C=6ND$"
   ]
  },
  {
   "cell_type": "markdown",
   "id": "f2a0c1da-969f-400a-84f4-09c63882f621",
   "metadata": {},
   "source": [
    "- $N$: attention + ffn = $12\\ell d^2$\n",
    "    - attention: $Wq + Wk + Wv + Wo = 4d^2$\n",
    "    - ffn: $2\\cdot 4d^2=8d^2$\n",
    "- 前向+后向: $6N$\n",
    "    - 前向：$Wx=b$ => 对于 weights $W$，一个参数对应2次运算，1次乘法，1次加法 => $2N$\n",
    "    - 反向：$dx,dW$ => 2倍的前向 => $4N$"
   ]
  }
 ],
 "metadata": {
  "kernelspec": {
   "display_name": "Python 3 (ipykernel)",
   "language": "python",
   "name": "python3"
  },
  "language_info": {
   "codemirror_mode": {
    "name": "ipython",
    "version": 3
   },
   "file_extension": ".py",
   "mimetype": "text/x-python",
   "name": "python",
   "nbconvert_exporter": "python",
   "pygments_lexer": "ipython3",
   "version": "3.10.13"
  }
 },
 "nbformat": 4,
 "nbformat_minor": 5
}
