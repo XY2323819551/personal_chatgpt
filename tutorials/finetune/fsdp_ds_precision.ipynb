{
 "cells": [
  {
   "cell_type": "code",
   "execution_count": 1,
   "id": "c4b83cef-d0ee-40ee-b538-5b25d1dc05bb",
   "metadata": {
    "execution": {
     "iopub.execute_input": "2024-07-02T12:07:00.175517Z",
     "iopub.status.busy": "2024-07-02T12:07:00.174964Z",
     "iopub.status.idle": "2024-07-02T12:07:01.989120Z",
     "shell.execute_reply": "2024-07-02T12:07:01.988307Z",
     "shell.execute_reply.started": "2024-07-02T12:07:00.175470Z"
    }
   },
   "outputs": [
    {
     "name": "stdout",
     "output_type": "stream",
     "text": [
      "[2024-07-02 20:07:01,696] [INFO] [real_accelerator.py:161:get_accelerator] Setting ds_accelerator to cuda (auto detect)\n"
     ]
    }
   ],
   "source": [
    "import accelerate, deepspeed"
   ]
  },
  {
   "cell_type": "code",
   "execution_count": 2,
   "id": "e9504e71-c8bb-4110-b5fe-5f5535cc60ed",
   "metadata": {
    "execution": {
     "iopub.execute_input": "2024-07-02T12:07:13.680387Z",
     "iopub.status.busy": "2024-07-02T12:07:13.679776Z",
     "iopub.status.idle": "2024-07-02T12:07:13.698606Z",
     "shell.execute_reply": "2024-07-02T12:07:13.696563Z",
     "shell.execute_reply.started": "2024-07-02T12:07:13.680341Z"
    }
   },
   "outputs": [
    {
     "data": {
      "text/plain": [
       "('0.29.3', '0.12.5')"
      ]
     },
     "execution_count": 2,
     "metadata": {},
     "output_type": "execute_result"
    }
   ],
   "source": [
    "accelerate.__version__, deepspeed.version"
   ]
  },
  {
   "cell_type": "markdown",
   "id": "22095f6a-cfbd-47de-a686-5067d64e9e27",
   "metadata": {},
   "source": [
    "## loss "
   ]
  },
  {
   "cell_type": "markdown",
   "id": "b070e491-744d-4faf-9c4a-52b6355e22f2",
   "metadata": {},
   "source": [
    "- https://huggingface.co/blog/deepspeed-to-fsdp-and-back\n",
    "    - Accelerate fsdp 对齐 Accelerate deepspeed\n",
    "    - 之前会存在 Accelerate fsdp loss 不收敛的问题，对齐（混合）精度之后，问题解决；\n",
    "        - 更具体来说是模型/优化器精度问题；\n",
    "        - we can perform upcasting automatically for FSDP when mixed precision is enabled. We created a pull request with this change that was included in the 0.30.0 release."
   ]
  },
  {
   "cell_type": "markdown",
   "id": "4efd5c98-0a1c-41c4-8a4e-5b5ce965b455",
   "metadata": {},
   "source": [
    "### Precision Matters"
   ]
  },
  {
   "cell_type": "markdown",
   "id": "83fa27fe-40ce-4873-b878-deff9f59c35e",
   "metadata": {},
   "source": [
    "- As the fp32 in the name suggests, DeepSpeed was performing **upcasting internally**, and it always keeps its **master weights in fp32 by design**. This upcasting to full precision meant that **the optimizer could converge at learning rates that it would not converge in lower precision**. "
   ]
  }
 ],
 "metadata": {
  "kernelspec": {
   "display_name": "Python 3 (ipykernel)",
   "language": "python",
   "name": "python3"
  },
  "language_info": {
   "codemirror_mode": {
    "name": "ipython",
    "version": 3
   },
   "file_extension": ".py",
   "mimetype": "text/x-python",
   "name": "python",
   "nbconvert_exporter": "python",
   "pygments_lexer": "ipython3",
   "version": "3.10.13"
  }
 },
 "nbformat": 4,
 "nbformat_minor": 5
}
