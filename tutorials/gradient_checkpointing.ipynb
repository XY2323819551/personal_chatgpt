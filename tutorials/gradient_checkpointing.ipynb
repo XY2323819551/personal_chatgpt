{
 "cells": [
  {
   "cell_type": "markdown",
   "id": "b19b81b9",
   "metadata": {},
   "source": [
    "## basics"
   ]
  },
  {
   "cell_type": "markdown",
   "id": "48e5c2aa",
   "metadata": {},
   "source": [
    "- https://arxiv.org/pdf/1604.06174.pdf\n",
    "- https://medium.com/tensorflow/fitting-larger-networks-into-memory-583e3c758ff9\n",
    "- https://huggingface.co/docs/transformers/v4.18.0/en/performance"
   ]
  },
  {
   "cell_type": "markdown",
   "id": "625f3dfc",
   "metadata": {},
   "source": [
    "- 依然是显存占用优化算法\n",
    "    - 当然是 memory usage 与 computation time 之间的 tradeoff 在反向传播过程中；\n",
    "- In deep neural networks, backpropagation requires storing **intermediate activations** for computing gradients during the backward pass. \n",
    "    - 但是当层数变多时，存储所有的中间层的激活值（intermediate activations）非常地占用显存；\n",
    "- gradient checkpointing 选择性地重新计算（recompute）一部分的 intermediate activations 在反向传播过程中来缓解显存的压力；\n",
    "    - Instead of storing all activations (**during the forward pass**), only a **subset** of them, typically those necessary for computing gradients, are cached. \n",
    "    - The remaining intermediate activations are recomputed on-the-fly **during the backward pass**. By recomputing rather than storing all intermediate activations, memory usage is reduced at the cost of increased computation time."
   ]
  },
  {
   "cell_type": "markdown",
   "id": "e7603f98",
   "metadata": {},
   "source": [
    "## pytorch"
   ]
  },
  {
   "cell_type": "code",
   "execution_count": 1,
   "id": "14a08296",
   "metadata": {
    "ExecuteTime": {
     "end_time": "2023-07-17T14:58:04.963526Z",
     "start_time": "2023-07-17T14:58:03.478944Z"
    }
   },
   "outputs": [],
   "source": [
    "from torch.utils.checkpoint import checkpoint_sequential"
   ]
  },
  {
   "cell_type": "markdown",
   "id": "4bf5c80e",
   "metadata": {},
   "source": [
    "## huggingface"
   ]
  },
  {
   "cell_type": "markdown",
   "id": "5671adb1",
   "metadata": {},
   "source": [
    "- checkpoint default module\n",
    "\n",
    "```\n",
    "class BertPreTrainedModel(PreTrainedModel):\n",
    "    def _set_gradient_checkpointing(self, module, value=False):\n",
    "        # 只对 BertEncoder 进行 checkpoint\n",
    "        if isinstance(module, BertEncoder):\n",
    "            module.gradient_checkpointing = value\n",
    "```"
   ]
  },
  {
   "cell_type": "code",
   "execution_count": null,
   "id": "4ff62430",
   "metadata": {},
   "outputs": [],
   "source": []
  }
 ],
 "metadata": {
  "kernelspec": {
   "display_name": "Python 3 (ipykernel)",
   "language": "python",
   "name": "python3"
  },
  "language_info": {
   "codemirror_mode": {
    "name": "ipython",
    "version": 3
   },
   "file_extension": ".py",
   "mimetype": "text/x-python",
   "name": "python",
   "nbconvert_exporter": "python",
   "pygments_lexer": "ipython3",
   "version": "3.10.9"
  },
  "toc": {
   "base_numbering": 1,
   "nav_menu": {},
   "number_sections": true,
   "sideBar": true,
   "skip_h1_title": false,
   "title_cell": "Table of Contents",
   "title_sidebar": "Contents",
   "toc_cell": false,
   "toc_position": {},
   "toc_section_display": true,
   "toc_window_display": false
  }
 },
 "nbformat": 4,
 "nbformat_minor": 5
}
