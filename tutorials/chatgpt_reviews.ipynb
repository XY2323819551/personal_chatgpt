{
 "cells": [
  {
   "cell_type": "markdown",
   "id": "88c4dafb",
   "metadata": {},
   "source": [
    "- 主要是重新 review 以 gpt 为代表的 auto-regressive 模型；\n",
    "\n",
    "    - Auto-regressive models for code generation from natural language have a similar limitation: they do not easily allow reconsidering earlier tokens generated.\n",
    "        - https://arxiv.org/abs/2310.17680"
   ]
  },
  {
   "cell_type": "markdown",
   "id": "3aa05678",
   "metadata": {},
   "source": [
    "- strong prior vs. in-context learning\n",
    "    - 数据中学到的强先验，很难被 in-context learning 中的 prompt 掰回来；"
   ]
  }
 ],
 "metadata": {
  "kernelspec": {
   "display_name": "Python 3 (ipykernel)",
   "language": "python",
   "name": "python3"
  },
  "language_info": {
   "codemirror_mode": {
    "name": "ipython",
    "version": 3
   },
   "file_extension": ".py",
   "mimetype": "text/x-python",
   "name": "python",
   "nbconvert_exporter": "python",
   "pygments_lexer": "ipython3",
   "version": "3.10.9"
  },
  "toc": {
   "base_numbering": 1,
   "nav_menu": {},
   "number_sections": true,
   "sideBar": true,
   "skip_h1_title": false,
   "title_cell": "Table of Contents",
   "title_sidebar": "Contents",
   "toc_cell": false,
   "toc_position": {},
   "toc_section_display": true,
   "toc_window_display": false
  }
 },
 "nbformat": 4,
 "nbformat_minor": 5
}
