{
 "cells": [
  {
   "cell_type": "code",
   "execution_count": null,
   "id": "480dd70d",
   "metadata": {
    "ExecuteTime": {
     "end_time": "2023-07-30T08:36:00.400500Z",
     "start_time": "2023-07-30T08:36:00.400491Z"
    }
   },
   "outputs": [],
   "source": [
    "#!pip install -q git+ssh://git@github.com/huggingface/transformers.git\n",
    "#!pip install -U git+ssh://git@github.com/huggingface/accelerate.git\n",
    "#!pip install --upgrade bitsandbytes\n",
    "#!pip install trl"
   ]
  },
  {
   "cell_type": "code",
   "execution_count": 1,
   "id": "5a77e99b",
   "metadata": {
    "ExecuteTime": {
     "end_time": "2023-07-30T08:36:44.135480Z",
     "start_time": "2023-07-30T08:36:41.283655Z"
    }
   },
   "outputs": [],
   "source": [
    "import torch\n",
    "from datasets import load_dataset\n",
    "from peft import LoraConfig, get_peft_model, prepare_model_for_int8_training\n",
    "from transformers import AutoModelForCausalLM, AutoTokenizer, TrainingArguments\n",
    "from trl import SFTTrainer"
   ]
  },
  {
   "cell_type": "markdown",
   "id": "b40aa3cd",
   "metadata": {},
   "source": [
    "## dataset"
   ]
  },
  {
   "cell_type": "code",
   "execution_count": 4,
   "id": "08d0eebc",
   "metadata": {
    "ExecuteTime": {
     "end_time": "2023-07-30T08:37:12.509200Z",
     "start_time": "2023-07-30T08:37:12.502951Z"
    }
   },
   "outputs": [],
   "source": [
    "import os\n",
    "os.environ['HTTP_PROXY'] = 'http://127.0.0.1:7890'\n",
    "os.environ['HTTPS_PROXY'] = 'http://127.0.0.1:7890'"
   ]
  },
  {
   "cell_type": "code",
   "execution_count": 5,
   "id": "425a1c1c",
   "metadata": {
    "ExecuteTime": {
     "end_time": "2023-07-30T08:37:18.878847Z",
     "start_time": "2023-07-30T08:37:13.905159Z"
    }
   },
   "outputs": [
    {
     "name": "stderr",
     "output_type": "stream",
     "text": [
      "Found cached dataset parquet (/media/whaow/.cache/huggingface/datasets/tatsu-lab___parquet/tatsu-lab--alpaca-2b32f0433506ef5f/0.0.0/2a3b91fbd88a2c90d1dbbb32b460cf621d31bd5b05b934492fdef7d8d6f236ec)\n"
     ]
    }
   ],
   "source": [
    "train_dataset = load_dataset(\"tatsu-lab/alpaca\", split=\"train\")"
   ]
  },
  {
   "cell_type": "code",
   "execution_count": 18,
   "id": "5c8e5e02",
   "metadata": {
    "ExecuteTime": {
     "end_time": "2023-07-30T08:45:13.587343Z",
     "start_time": "2023-07-30T08:45:13.577181Z"
    }
   },
   "outputs": [
    {
     "data": {
      "text/plain": [
       "{'instruction': 'Give three tips for staying healthy.',\n",
       " 'input': '',\n",
       " 'output': '1.Eat a balanced diet and make sure to include plenty of fruits and vegetables. \\n2. Exercise regularly to keep your body active and strong. \\n3. Get enough sleep and maintain a consistent sleep schedule.',\n",
       " 'text': 'Below is an instruction that describes a task. Write a response that appropriately completes the request.\\n\\n### Instruction:\\nGive three tips for staying healthy.\\n\\n### Response:\\n1.Eat a balanced diet and make sure to include plenty of fruits and vegetables. \\n2. Exercise regularly to keep your body active and strong. \\n3. Get enough sleep and maintain a consistent sleep schedule.'}"
      ]
     },
     "execution_count": 18,
     "metadata": {},
     "output_type": "execute_result"
    }
   ],
   "source": [
    "# without input\n",
    "train_dataset[0]"
   ]
  },
  {
   "cell_type": "code",
   "execution_count": 8,
   "id": "d49a0d90",
   "metadata": {
    "ExecuteTime": {
     "end_time": "2023-07-30T08:37:37.668000Z",
     "start_time": "2023-07-30T08:37:37.658751Z"
    }
   },
   "outputs": [
    {
     "name": "stdout",
     "output_type": "stream",
     "text": [
      "Below is an instruction that describes a task. Write a response that appropriately completes the request.\n",
      "\n",
      "### Instruction:\n",
      "Give three tips for staying healthy.\n",
      "\n",
      "### Response:\n",
      "1.Eat a balanced diet and make sure to include plenty of fruits and vegetables. \n",
      "2. Exercise regularly to keep your body active and strong. \n",
      "3. Get enough sleep and maintain a consistent sleep schedule.\n"
     ]
    }
   ],
   "source": [
    "print(train_dataset[0]['text'])"
   ]
  },
  {
   "cell_type": "code",
   "execution_count": 12,
   "id": "191c048d",
   "metadata": {
    "ExecuteTime": {
     "end_time": "2023-07-30T08:38:16.631180Z",
     "start_time": "2023-07-30T08:38:16.621058Z"
    }
   },
   "outputs": [
    {
     "data": {
      "text/plain": [
       "{'instruction': 'Identify the odd one out.',\n",
       " 'input': 'Twitter, Instagram, Telegram',\n",
       " 'output': 'Telegram',\n",
       " 'text': 'Below is an instruction that describes a task, paired with an input that provides further context. Write a response that appropriately completes the request.\\n\\n### Instruction:\\nIdentify the odd one out.\\n\\n### Input:\\nTwitter, Instagram, Telegram\\n\\n### Response:\\nTelegram'}"
      ]
     },
     "execution_count": 12,
     "metadata": {},
     "output_type": "execute_result"
    }
   ],
   "source": [
    "# with input\n",
    "train_dataset[5]"
   ]
  },
  {
   "cell_type": "code",
   "execution_count": 13,
   "id": "b94bf40e",
   "metadata": {
    "ExecuteTime": {
     "end_time": "2023-07-30T08:38:30.637211Z",
     "start_time": "2023-07-30T08:38:30.628316Z"
    }
   },
   "outputs": [
    {
     "name": "stdout",
     "output_type": "stream",
     "text": [
      "Below is an instruction that describes a task, paired with an input that provides further context. Write a response that appropriately completes the request.\n",
      "\n",
      "### Instruction:\n",
      "Identify the odd one out.\n",
      "\n",
      "### Input:\n",
      "Twitter, Instagram, Telegram\n",
      "\n",
      "### Response:\n",
      "Telegram\n"
     ]
    }
   ],
   "source": [
    "print(train_dataset[5]['text'])"
   ]
  },
  {
   "cell_type": "markdown",
   "id": "8a1ea694",
   "metadata": {},
   "source": [
    "## tokenizer & model"
   ]
  },
  {
   "cell_type": "code",
   "execution_count": 14,
   "id": "8ed080f6",
   "metadata": {
    "ExecuteTime": {
     "end_time": "2023-07-30T08:38:42.888760Z",
     "start_time": "2023-07-30T08:38:41.504012Z"
    }
   },
   "outputs": [
    {
     "name": "stderr",
     "output_type": "stream",
     "text": [
      "Using unk_token, but it is not set yet.\n",
      "Using unk_token, but it is not set yet.\n"
     ]
    }
   ],
   "source": [
    "model_ckpt = \"Salesforce/xgen-7b-8k-base\"\n",
    "tokenizer = AutoTokenizer.from_pretrained(model_ckpt, trust_remote_code=True)\n",
    "tokenizer.pad_token = tokenizer.eos_token"
   ]
  },
  {
   "cell_type": "code",
   "execution_count": 15,
   "id": "382e04a7",
   "metadata": {
    "ExecuteTime": {
     "end_time": "2023-07-30T08:38:48.134000Z",
     "start_time": "2023-07-30T08:38:48.125439Z"
    }
   },
   "outputs": [
    {
     "data": {
      "text/plain": [
       "XgenTokenizer(name_or_path='Salesforce/xgen-7b-8k-base', vocab_size=50313, model_max_length=8192, is_fast=False, padding_side='right', truncation_side='right', special_tokens={'eos_token': AddedToken(\"<|endoftext|>\", rstrip=False, lstrip=False, single_word=False, normalized=True), 'pad_token': '<|endoftext|>'}, clean_up_tokenization_spaces=True)"
      ]
     },
     "execution_count": 15,
     "metadata": {},
     "output_type": "execute_result"
    }
   ],
   "source": [
    "tokenizer"
   ]
  },
  {
   "cell_type": "code",
   "execution_count": 16,
   "id": "acfbb83b",
   "metadata": {
    "ExecuteTime": {
     "end_time": "2023-07-30T08:39:12.960300Z",
     "start_time": "2023-07-30T08:38:54.109511Z"
    }
   },
   "outputs": [
    {
     "data": {
      "application/vnd.jupyter.widget-view+json": {
       "model_id": "ac299a8a7f8f438083c1921f0210421b",
       "version_major": 2,
       "version_minor": 0
      },
      "text/plain": [
       "Loading checkpoint shards:   0%|          | 0/3 [00:00<?, ?it/s]"
      ]
     },
     "metadata": {},
     "output_type": "display_data"
    }
   ],
   "source": [
    "model = AutoModelForCausalLM.from_pretrained(\n",
    "        model_ckpt, load_in_4bit=True, torch_dtype=torch.float16, device_map=\"auto\"\n",
    "    )"
   ]
  },
  {
   "cell_type": "code",
   "execution_count": 27,
   "id": "fa94aef8",
   "metadata": {
    "ExecuteTime": {
     "end_time": "2023-07-30T08:59:31.636928Z",
     "start_time": "2023-07-30T08:59:31.626452Z"
    },
    "collapsed": true
   },
   "outputs": [
    {
     "name": "stdout",
     "output_type": "stream",
     "text": [
      "0 model.embed_tokens.weight torch.float16 cuda:0\n",
      "1 model.layers.0.self_attn.q_proj.weight torch.uint8 cuda:0\n",
      "2 model.layers.0.self_attn.k_proj.weight torch.uint8 cuda:0\n",
      "3 model.layers.0.self_attn.v_proj.weight torch.uint8 cuda:0\n",
      "4 model.layers.0.self_attn.o_proj.weight torch.uint8 cuda:0\n",
      "5 model.layers.0.mlp.gate_proj.weight torch.uint8 cuda:0\n",
      "6 model.layers.0.mlp.up_proj.weight torch.uint8 cuda:0\n",
      "7 model.layers.0.mlp.down_proj.weight torch.uint8 cuda:0\n",
      "8 model.layers.0.input_layernorm.weight torch.float16 cuda:0\n",
      "9 model.layers.0.post_attention_layernorm.weight torch.float16 cuda:0\n",
      "10 model.layers.1.self_attn.q_proj.weight torch.uint8 cuda:0\n",
      "11 model.layers.1.self_attn.k_proj.weight torch.uint8 cuda:0\n",
      "12 model.layers.1.self_attn.v_proj.weight torch.uint8 cuda:0\n",
      "13 model.layers.1.self_attn.o_proj.weight torch.uint8 cuda:0\n",
      "14 model.layers.1.mlp.gate_proj.weight torch.uint8 cuda:0\n",
      "15 model.layers.1.mlp.up_proj.weight torch.uint8 cuda:0\n",
      "16 model.layers.1.mlp.down_proj.weight torch.uint8 cuda:0\n",
      "17 model.layers.1.input_layernorm.weight torch.float16 cuda:0\n",
      "18 model.layers.1.post_attention_layernorm.weight torch.float16 cuda:0\n",
      "19 model.layers.2.self_attn.q_proj.weight torch.uint8 cuda:0\n",
      "20 model.layers.2.self_attn.k_proj.weight torch.uint8 cuda:0\n",
      "21 model.layers.2.self_attn.v_proj.weight torch.uint8 cuda:0\n",
      "22 model.layers.2.self_attn.o_proj.weight torch.uint8 cuda:0\n",
      "23 model.layers.2.mlp.gate_proj.weight torch.uint8 cuda:0\n",
      "24 model.layers.2.mlp.up_proj.weight torch.uint8 cuda:0\n",
      "25 model.layers.2.mlp.down_proj.weight torch.uint8 cuda:0\n",
      "26 model.layers.2.input_layernorm.weight torch.float16 cuda:0\n",
      "27 model.layers.2.post_attention_layernorm.weight torch.float16 cuda:0\n",
      "28 model.layers.3.self_attn.q_proj.weight torch.uint8 cuda:0\n",
      "29 model.layers.3.self_attn.k_proj.weight torch.uint8 cuda:0\n",
      "30 model.layers.3.self_attn.v_proj.weight torch.uint8 cuda:0\n",
      "31 model.layers.3.self_attn.o_proj.weight torch.uint8 cuda:0\n",
      "32 model.layers.3.mlp.gate_proj.weight torch.uint8 cuda:0\n",
      "33 model.layers.3.mlp.up_proj.weight torch.uint8 cuda:0\n",
      "34 model.layers.3.mlp.down_proj.weight torch.uint8 cuda:0\n",
      "35 model.layers.3.input_layernorm.weight torch.float16 cuda:0\n",
      "36 model.layers.3.post_attention_layernorm.weight torch.float16 cuda:0\n",
      "37 model.layers.4.self_attn.q_proj.weight torch.uint8 cuda:0\n",
      "38 model.layers.4.self_attn.k_proj.weight torch.uint8 cuda:0\n",
      "39 model.layers.4.self_attn.v_proj.weight torch.uint8 cuda:0\n",
      "40 model.layers.4.self_attn.o_proj.weight torch.uint8 cuda:0\n",
      "41 model.layers.4.mlp.gate_proj.weight torch.uint8 cuda:0\n",
      "42 model.layers.4.mlp.up_proj.weight torch.uint8 cuda:0\n",
      "43 model.layers.4.mlp.down_proj.weight torch.uint8 cuda:0\n",
      "44 model.layers.4.input_layernorm.weight torch.float16 cuda:0\n",
      "45 model.layers.4.post_attention_layernorm.weight torch.float16 cuda:0\n",
      "46 model.layers.5.self_attn.q_proj.weight torch.uint8 cuda:0\n",
      "47 model.layers.5.self_attn.k_proj.weight torch.uint8 cuda:0\n",
      "48 model.layers.5.self_attn.v_proj.weight torch.uint8 cuda:0\n",
      "49 model.layers.5.self_attn.o_proj.weight torch.uint8 cuda:0\n",
      "50 model.layers.5.mlp.gate_proj.weight torch.uint8 cuda:0\n",
      "51 model.layers.5.mlp.up_proj.weight torch.uint8 cuda:0\n",
      "52 model.layers.5.mlp.down_proj.weight torch.uint8 cuda:0\n",
      "53 model.layers.5.input_layernorm.weight torch.float16 cuda:0\n",
      "54 model.layers.5.post_attention_layernorm.weight torch.float16 cuda:0\n",
      "55 model.layers.6.self_attn.q_proj.weight torch.uint8 cuda:0\n",
      "56 model.layers.6.self_attn.k_proj.weight torch.uint8 cuda:0\n",
      "57 model.layers.6.self_attn.v_proj.weight torch.uint8 cuda:0\n",
      "58 model.layers.6.self_attn.o_proj.weight torch.uint8 cuda:0\n",
      "59 model.layers.6.mlp.gate_proj.weight torch.uint8 cuda:0\n",
      "60 model.layers.6.mlp.up_proj.weight torch.uint8 cuda:0\n",
      "61 model.layers.6.mlp.down_proj.weight torch.uint8 cuda:0\n",
      "62 model.layers.6.input_layernorm.weight torch.float16 cuda:0\n",
      "63 model.layers.6.post_attention_layernorm.weight torch.float16 cuda:0\n",
      "64 model.layers.7.self_attn.q_proj.weight torch.uint8 cuda:0\n",
      "65 model.layers.7.self_attn.k_proj.weight torch.uint8 cuda:0\n",
      "66 model.layers.7.self_attn.v_proj.weight torch.uint8 cuda:0\n",
      "67 model.layers.7.self_attn.o_proj.weight torch.uint8 cuda:0\n",
      "68 model.layers.7.mlp.gate_proj.weight torch.uint8 cuda:0\n",
      "69 model.layers.7.mlp.up_proj.weight torch.uint8 cuda:0\n",
      "70 model.layers.7.mlp.down_proj.weight torch.uint8 cuda:0\n",
      "71 model.layers.7.input_layernorm.weight torch.float16 cuda:0\n",
      "72 model.layers.7.post_attention_layernorm.weight torch.float16 cuda:0\n",
      "73 model.layers.8.self_attn.q_proj.weight torch.uint8 cuda:0\n",
      "74 model.layers.8.self_attn.k_proj.weight torch.uint8 cuda:0\n",
      "75 model.layers.8.self_attn.v_proj.weight torch.uint8 cuda:0\n",
      "76 model.layers.8.self_attn.o_proj.weight torch.uint8 cuda:0\n",
      "77 model.layers.8.mlp.gate_proj.weight torch.uint8 cuda:0\n",
      "78 model.layers.8.mlp.up_proj.weight torch.uint8 cuda:0\n",
      "79 model.layers.8.mlp.down_proj.weight torch.uint8 cuda:0\n",
      "80 model.layers.8.input_layernorm.weight torch.float16 cuda:0\n",
      "81 model.layers.8.post_attention_layernorm.weight torch.float16 cuda:0\n",
      "82 model.layers.9.self_attn.q_proj.weight torch.uint8 cuda:0\n",
      "83 model.layers.9.self_attn.k_proj.weight torch.uint8 cuda:0\n",
      "84 model.layers.9.self_attn.v_proj.weight torch.uint8 cuda:0\n",
      "85 model.layers.9.self_attn.o_proj.weight torch.uint8 cuda:0\n",
      "86 model.layers.9.mlp.gate_proj.weight torch.uint8 cuda:0\n",
      "87 model.layers.9.mlp.up_proj.weight torch.uint8 cuda:0\n",
      "88 model.layers.9.mlp.down_proj.weight torch.uint8 cuda:0\n",
      "89 model.layers.9.input_layernorm.weight torch.float16 cuda:0\n",
      "90 model.layers.9.post_attention_layernorm.weight torch.float16 cuda:0\n",
      "91 model.layers.10.self_attn.q_proj.weight torch.uint8 cuda:0\n",
      "92 model.layers.10.self_attn.k_proj.weight torch.uint8 cuda:0\n",
      "93 model.layers.10.self_attn.v_proj.weight torch.uint8 cuda:0\n",
      "94 model.layers.10.self_attn.o_proj.weight torch.uint8 cuda:0\n",
      "95 model.layers.10.mlp.gate_proj.weight torch.uint8 cuda:0\n",
      "96 model.layers.10.mlp.up_proj.weight torch.uint8 cuda:0\n",
      "97 model.layers.10.mlp.down_proj.weight torch.uint8 cuda:0\n",
      "98 model.layers.10.input_layernorm.weight torch.float16 cuda:0\n",
      "99 model.layers.10.post_attention_layernorm.weight torch.float16 cuda:0\n",
      "100 model.layers.11.self_attn.q_proj.weight torch.uint8 cuda:0\n",
      "101 model.layers.11.self_attn.k_proj.weight torch.uint8 cuda:0\n",
      "102 model.layers.11.self_attn.v_proj.weight torch.uint8 cuda:0\n",
      "103 model.layers.11.self_attn.o_proj.weight torch.uint8 cuda:0\n",
      "104 model.layers.11.mlp.gate_proj.weight torch.uint8 cuda:0\n",
      "105 model.layers.11.mlp.up_proj.weight torch.uint8 cuda:0\n",
      "106 model.layers.11.mlp.down_proj.weight torch.uint8 cuda:0\n",
      "107 model.layers.11.input_layernorm.weight torch.float16 cuda:0\n",
      "108 model.layers.11.post_attention_layernorm.weight torch.float16 cuda:0\n",
      "109 model.layers.12.self_attn.q_proj.weight torch.uint8 cuda:0\n",
      "110 model.layers.12.self_attn.k_proj.weight torch.uint8 cuda:0\n",
      "111 model.layers.12.self_attn.v_proj.weight torch.uint8 cuda:0\n",
      "112 model.layers.12.self_attn.o_proj.weight torch.uint8 cuda:0\n",
      "113 model.layers.12.mlp.gate_proj.weight torch.uint8 cuda:0\n",
      "114 model.layers.12.mlp.up_proj.weight torch.uint8 cuda:0\n",
      "115 model.layers.12.mlp.down_proj.weight torch.uint8 cuda:0\n",
      "116 model.layers.12.input_layernorm.weight torch.float16 cuda:0\n",
      "117 model.layers.12.post_attention_layernorm.weight torch.float16 cuda:0\n",
      "118 model.layers.13.self_attn.q_proj.weight torch.uint8 cuda:0\n",
      "119 model.layers.13.self_attn.k_proj.weight torch.uint8 cuda:0\n",
      "120 model.layers.13.self_attn.v_proj.weight torch.uint8 cuda:0\n",
      "121 model.layers.13.self_attn.o_proj.weight torch.uint8 cuda:0\n",
      "122 model.layers.13.mlp.gate_proj.weight torch.uint8 cuda:0\n",
      "123 model.layers.13.mlp.up_proj.weight torch.uint8 cuda:0\n",
      "124 model.layers.13.mlp.down_proj.weight torch.uint8 cuda:0\n",
      "125 model.layers.13.input_layernorm.weight torch.float16 cuda:0\n",
      "126 model.layers.13.post_attention_layernorm.weight torch.float16 cuda:0\n",
      "127 model.layers.14.self_attn.q_proj.weight torch.uint8 cuda:1\n",
      "128 model.layers.14.self_attn.k_proj.weight torch.uint8 cuda:1\n",
      "129 model.layers.14.self_attn.v_proj.weight torch.uint8 cuda:1\n",
      "130 model.layers.14.self_attn.o_proj.weight torch.uint8 cuda:1\n",
      "131 model.layers.14.mlp.gate_proj.weight torch.uint8 cuda:1\n",
      "132 model.layers.14.mlp.up_proj.weight torch.uint8 cuda:1\n",
      "133 model.layers.14.mlp.down_proj.weight torch.uint8 cuda:1\n",
      "134 model.layers.14.input_layernorm.weight torch.float16 cuda:1\n",
      "135 model.layers.14.post_attention_layernorm.weight torch.float16 cuda:1\n",
      "136 model.layers.15.self_attn.q_proj.weight torch.uint8 cuda:1\n",
      "137 model.layers.15.self_attn.k_proj.weight torch.uint8 cuda:1\n",
      "138 model.layers.15.self_attn.v_proj.weight torch.uint8 cuda:1\n",
      "139 model.layers.15.self_attn.o_proj.weight torch.uint8 cuda:1\n",
      "140 model.layers.15.mlp.gate_proj.weight torch.uint8 cuda:1\n",
      "141 model.layers.15.mlp.up_proj.weight torch.uint8 cuda:1\n",
      "142 model.layers.15.mlp.down_proj.weight torch.uint8 cuda:1\n",
      "143 model.layers.15.input_layernorm.weight torch.float16 cuda:1\n",
      "144 model.layers.15.post_attention_layernorm.weight torch.float16 cuda:1\n",
      "145 model.layers.16.self_attn.q_proj.weight torch.uint8 cuda:1\n",
      "146 model.layers.16.self_attn.k_proj.weight torch.uint8 cuda:1\n",
      "147 model.layers.16.self_attn.v_proj.weight torch.uint8 cuda:1\n",
      "148 model.layers.16.self_attn.o_proj.weight torch.uint8 cuda:1\n",
      "149 model.layers.16.mlp.gate_proj.weight torch.uint8 cuda:1\n",
      "150 model.layers.16.mlp.up_proj.weight torch.uint8 cuda:1\n",
      "151 model.layers.16.mlp.down_proj.weight torch.uint8 cuda:1\n",
      "152 model.layers.16.input_layernorm.weight torch.float16 cuda:1\n",
      "153 model.layers.16.post_attention_layernorm.weight torch.float16 cuda:1\n",
      "154 model.layers.17.self_attn.q_proj.weight torch.uint8 cuda:1\n",
      "155 model.layers.17.self_attn.k_proj.weight torch.uint8 cuda:1\n",
      "156 model.layers.17.self_attn.v_proj.weight torch.uint8 cuda:1\n",
      "157 model.layers.17.self_attn.o_proj.weight torch.uint8 cuda:1\n",
      "158 model.layers.17.mlp.gate_proj.weight torch.uint8 cuda:1\n",
      "159 model.layers.17.mlp.up_proj.weight torch.uint8 cuda:1\n",
      "160 model.layers.17.mlp.down_proj.weight torch.uint8 cuda:1\n",
      "161 model.layers.17.input_layernorm.weight torch.float16 cuda:1\n",
      "162 model.layers.17.post_attention_layernorm.weight torch.float16 cuda:1\n",
      "163 model.layers.18.self_attn.q_proj.weight torch.uint8 cuda:1\n",
      "164 model.layers.18.self_attn.k_proj.weight torch.uint8 cuda:1\n",
      "165 model.layers.18.self_attn.v_proj.weight torch.uint8 cuda:1\n",
      "166 model.layers.18.self_attn.o_proj.weight torch.uint8 cuda:1\n",
      "167 model.layers.18.mlp.gate_proj.weight torch.uint8 cuda:1\n",
      "168 model.layers.18.mlp.up_proj.weight torch.uint8 cuda:1\n",
      "169 model.layers.18.mlp.down_proj.weight torch.uint8 cuda:1\n",
      "170 model.layers.18.input_layernorm.weight torch.float16 cuda:1\n",
      "171 model.layers.18.post_attention_layernorm.weight torch.float16 cuda:1\n",
      "172 model.layers.19.self_attn.q_proj.weight torch.uint8 cuda:1\n",
      "173 model.layers.19.self_attn.k_proj.weight torch.uint8 cuda:1\n",
      "174 model.layers.19.self_attn.v_proj.weight torch.uint8 cuda:1\n",
      "175 model.layers.19.self_attn.o_proj.weight torch.uint8 cuda:1\n",
      "176 model.layers.19.mlp.gate_proj.weight torch.uint8 cuda:1\n",
      "177 model.layers.19.mlp.up_proj.weight torch.uint8 cuda:1\n",
      "178 model.layers.19.mlp.down_proj.weight torch.uint8 cuda:1\n",
      "179 model.layers.19.input_layernorm.weight torch.float16 cuda:1\n",
      "180 model.layers.19.post_attention_layernorm.weight torch.float16 cuda:1\n",
      "181 model.layers.20.self_attn.q_proj.weight torch.uint8 cuda:1\n",
      "182 model.layers.20.self_attn.k_proj.weight torch.uint8 cuda:1\n",
      "183 model.layers.20.self_attn.v_proj.weight torch.uint8 cuda:1\n",
      "184 model.layers.20.self_attn.o_proj.weight torch.uint8 cuda:1\n",
      "185 model.layers.20.mlp.gate_proj.weight torch.uint8 cuda:1\n",
      "186 model.layers.20.mlp.up_proj.weight torch.uint8 cuda:1\n",
      "187 model.layers.20.mlp.down_proj.weight torch.uint8 cuda:1\n",
      "188 model.layers.20.input_layernorm.weight torch.float16 cuda:1\n",
      "189 model.layers.20.post_attention_layernorm.weight torch.float16 cuda:1\n",
      "190 model.layers.21.self_attn.q_proj.weight torch.uint8 cuda:1\n",
      "191 model.layers.21.self_attn.k_proj.weight torch.uint8 cuda:1\n",
      "192 model.layers.21.self_attn.v_proj.weight torch.uint8 cuda:1\n",
      "193 model.layers.21.self_attn.o_proj.weight torch.uint8 cuda:1\n",
      "194 model.layers.21.mlp.gate_proj.weight torch.uint8 cuda:1\n",
      "195 model.layers.21.mlp.up_proj.weight torch.uint8 cuda:1\n",
      "196 model.layers.21.mlp.down_proj.weight torch.uint8 cuda:1\n",
      "197 model.layers.21.input_layernorm.weight torch.float16 cuda:1\n",
      "198 model.layers.21.post_attention_layernorm.weight torch.float16 cuda:1\n",
      "199 model.layers.22.self_attn.q_proj.weight torch.uint8 cuda:1\n",
      "200 model.layers.22.self_attn.k_proj.weight torch.uint8 cuda:1\n",
      "201 model.layers.22.self_attn.v_proj.weight torch.uint8 cuda:1\n",
      "202 model.layers.22.self_attn.o_proj.weight torch.uint8 cuda:1\n",
      "203 model.layers.22.mlp.gate_proj.weight torch.uint8 cuda:1\n",
      "204 model.layers.22.mlp.up_proj.weight torch.uint8 cuda:1\n",
      "205 model.layers.22.mlp.down_proj.weight torch.uint8 cuda:1\n",
      "206 model.layers.22.input_layernorm.weight torch.float16 cuda:1\n",
      "207 model.layers.22.post_attention_layernorm.weight torch.float16 cuda:1\n",
      "208 model.layers.23.self_attn.q_proj.weight torch.uint8 cuda:1\n",
      "209 model.layers.23.self_attn.k_proj.weight torch.uint8 cuda:1\n",
      "210 model.layers.23.self_attn.v_proj.weight torch.uint8 cuda:1\n",
      "211 model.layers.23.self_attn.o_proj.weight torch.uint8 cuda:1\n",
      "212 model.layers.23.mlp.gate_proj.weight torch.uint8 cuda:1\n",
      "213 model.layers.23.mlp.up_proj.weight torch.uint8 cuda:1\n",
      "214 model.layers.23.mlp.down_proj.weight torch.uint8 cuda:1\n",
      "215 model.layers.23.input_layernorm.weight torch.float16 cuda:1\n",
      "216 model.layers.23.post_attention_layernorm.weight torch.float16 cuda:1\n",
      "217 model.layers.24.self_attn.q_proj.weight torch.uint8 cuda:1\n",
      "218 model.layers.24.self_attn.k_proj.weight torch.uint8 cuda:1\n",
      "219 model.layers.24.self_attn.v_proj.weight torch.uint8 cuda:1\n",
      "220 model.layers.24.self_attn.o_proj.weight torch.uint8 cuda:1\n",
      "221 model.layers.24.mlp.gate_proj.weight torch.uint8 cuda:1\n",
      "222 model.layers.24.mlp.up_proj.weight torch.uint8 cuda:1\n",
      "223 model.layers.24.mlp.down_proj.weight torch.uint8 cuda:1\n",
      "224 model.layers.24.input_layernorm.weight torch.float16 cuda:1\n",
      "225 model.layers.24.post_attention_layernorm.weight torch.float16 cuda:1\n",
      "226 model.layers.25.self_attn.q_proj.weight torch.uint8 cuda:1\n",
      "227 model.layers.25.self_attn.k_proj.weight torch.uint8 cuda:1\n",
      "228 model.layers.25.self_attn.v_proj.weight torch.uint8 cuda:1\n",
      "229 model.layers.25.self_attn.o_proj.weight torch.uint8 cuda:1\n",
      "230 model.layers.25.mlp.gate_proj.weight torch.uint8 cuda:1\n",
      "231 model.layers.25.mlp.up_proj.weight torch.uint8 cuda:1\n",
      "232 model.layers.25.mlp.down_proj.weight torch.uint8 cuda:1\n",
      "233 model.layers.25.input_layernorm.weight torch.float16 cuda:1\n",
      "234 model.layers.25.post_attention_layernorm.weight torch.float16 cuda:1\n",
      "235 model.layers.26.self_attn.q_proj.weight torch.uint8 cuda:1\n",
      "236 model.layers.26.self_attn.k_proj.weight torch.uint8 cuda:1\n",
      "237 model.layers.26.self_attn.v_proj.weight torch.uint8 cuda:1\n",
      "238 model.layers.26.self_attn.o_proj.weight torch.uint8 cuda:1\n",
      "239 model.layers.26.mlp.gate_proj.weight torch.uint8 cuda:1\n",
      "240 model.layers.26.mlp.up_proj.weight torch.uint8 cuda:1\n",
      "241 model.layers.26.mlp.down_proj.weight torch.uint8 cuda:1\n",
      "242 model.layers.26.input_layernorm.weight torch.float16 cuda:1\n",
      "243 model.layers.26.post_attention_layernorm.weight torch.float16 cuda:1\n",
      "244 model.layers.27.self_attn.q_proj.weight torch.uint8 cuda:1\n",
      "245 model.layers.27.self_attn.k_proj.weight torch.uint8 cuda:1\n",
      "246 model.layers.27.self_attn.v_proj.weight torch.uint8 cuda:1\n",
      "247 model.layers.27.self_attn.o_proj.weight torch.uint8 cuda:1\n",
      "248 model.layers.27.mlp.gate_proj.weight torch.uint8 cuda:1\n",
      "249 model.layers.27.mlp.up_proj.weight torch.uint8 cuda:1\n",
      "250 model.layers.27.mlp.down_proj.weight torch.uint8 cuda:1\n",
      "251 model.layers.27.input_layernorm.weight torch.float16 cuda:1\n",
      "252 model.layers.27.post_attention_layernorm.weight torch.float16 cuda:1\n",
      "253 model.layers.28.self_attn.q_proj.weight torch.uint8 cuda:1\n",
      "254 model.layers.28.self_attn.k_proj.weight torch.uint8 cuda:1\n",
      "255 model.layers.28.self_attn.v_proj.weight torch.uint8 cuda:1\n",
      "256 model.layers.28.self_attn.o_proj.weight torch.uint8 cuda:1\n",
      "257 model.layers.28.mlp.gate_proj.weight torch.uint8 cuda:1\n",
      "258 model.layers.28.mlp.up_proj.weight torch.uint8 cuda:1\n",
      "259 model.layers.28.mlp.down_proj.weight torch.uint8 cuda:1\n",
      "260 model.layers.28.input_layernorm.weight torch.float16 cuda:1\n",
      "261 model.layers.28.post_attention_layernorm.weight torch.float16 cuda:1\n",
      "262 model.layers.29.self_attn.q_proj.weight torch.uint8 cuda:1\n",
      "263 model.layers.29.self_attn.k_proj.weight torch.uint8 cuda:1\n",
      "264 model.layers.29.self_attn.v_proj.weight torch.uint8 cuda:1\n",
      "265 model.layers.29.self_attn.o_proj.weight torch.uint8 cuda:1\n",
      "266 model.layers.29.mlp.gate_proj.weight torch.uint8 cuda:1\n",
      "267 model.layers.29.mlp.up_proj.weight torch.uint8 cuda:1\n",
      "268 model.layers.29.mlp.down_proj.weight torch.uint8 cuda:1\n",
      "269 model.layers.29.input_layernorm.weight torch.float16 cuda:1\n",
      "270 model.layers.29.post_attention_layernorm.weight torch.float16 cuda:1\n",
      "271 model.layers.30.self_attn.q_proj.weight torch.uint8 cuda:1\n",
      "272 model.layers.30.self_attn.k_proj.weight torch.uint8 cuda:1\n",
      "273 model.layers.30.self_attn.v_proj.weight torch.uint8 cuda:1\n",
      "274 model.layers.30.self_attn.o_proj.weight torch.uint8 cuda:1\n",
      "275 model.layers.30.mlp.gate_proj.weight torch.uint8 cuda:1\n",
      "276 model.layers.30.mlp.up_proj.weight torch.uint8 cuda:1\n",
      "277 model.layers.30.mlp.down_proj.weight torch.uint8 cuda:1\n",
      "278 model.layers.30.input_layernorm.weight torch.float16 cuda:1\n",
      "279 model.layers.30.post_attention_layernorm.weight torch.float16 cuda:1\n",
      "280 model.layers.31.self_attn.q_proj.weight torch.uint8 cuda:1\n",
      "281 model.layers.31.self_attn.k_proj.weight torch.uint8 cuda:1\n",
      "282 model.layers.31.self_attn.v_proj.weight torch.uint8 cuda:1\n",
      "283 model.layers.31.self_attn.o_proj.weight torch.uint8 cuda:1\n",
      "284 model.layers.31.mlp.gate_proj.weight torch.uint8 cuda:1\n",
      "285 model.layers.31.mlp.up_proj.weight torch.uint8 cuda:1\n",
      "286 model.layers.31.mlp.down_proj.weight torch.uint8 cuda:1\n",
      "287 model.layers.31.input_layernorm.weight torch.float16 cuda:1\n",
      "288 model.layers.31.post_attention_layernorm.weight torch.float16 cuda:1\n",
      "289 model.norm.weight torch.float16 cuda:1\n",
      "290 lm_head.weight torch.float16 cuda:1\n"
     ]
    }
   ],
   "source": [
    "for i, (name, layer) in enumerate(model.named_parameters()):\n",
    "    print(i, name, layer.dtype, layer.device)"
   ]
  },
  {
   "cell_type": "code",
   "execution_count": 38,
   "id": "c779771e",
   "metadata": {
    "ExecuteTime": {
     "end_time": "2023-07-30T09:01:00.841331Z",
     "start_time": "2023-07-30T09:01:00.831013Z"
    }
   },
   "outputs": [
    {
     "data": {
      "text/plain": [
       "LlamaDecoderLayer(\n",
       "  (self_attn): LlamaAttention(\n",
       "    (q_proj): Linear4bit(in_features=4096, out_features=4096, bias=False)\n",
       "    (k_proj): Linear4bit(in_features=4096, out_features=4096, bias=False)\n",
       "    (v_proj): Linear4bit(in_features=4096, out_features=4096, bias=False)\n",
       "    (o_proj): Linear4bit(in_features=4096, out_features=4096, bias=False)\n",
       "    (rotary_emb): LlamaRotaryEmbedding()\n",
       "  )\n",
       "  (mlp): LlamaMLP(\n",
       "    (gate_proj): Linear4bit(in_features=4096, out_features=11008, bias=False)\n",
       "    (up_proj): Linear4bit(in_features=4096, out_features=11008, bias=False)\n",
       "    (down_proj): Linear4bit(in_features=11008, out_features=4096, bias=False)\n",
       "    (act_fn): SiLUActivation()\n",
       "  )\n",
       "  (input_layernorm): LlamaRMSNorm()\n",
       "  (post_attention_layernorm): LlamaRMSNorm()\n",
       ")"
      ]
     },
     "execution_count": 38,
     "metadata": {},
     "output_type": "execute_result"
    }
   ],
   "source": [
    "model.model.layers[0]"
   ]
  },
  {
   "cell_type": "markdown",
   "id": "aefbd61e",
   "metadata": {},
   "source": [
    "### embedding"
   ]
  },
  {
   "cell_type": "markdown",
   "id": "6e0ba18d",
   "metadata": {},
   "source": [
    "- 未必是必要的，需要check tokenizer 的 vocab_size 与 model embedding layer 是否一致"
   ]
  },
  {
   "cell_type": "code",
   "execution_count": 42,
   "id": "fd8998fa",
   "metadata": {
    "ExecuteTime": {
     "end_time": "2023-07-30T09:03:41.816392Z",
     "start_time": "2023-07-30T09:03:41.806026Z"
    }
   },
   "outputs": [
    {
     "data": {
      "text/plain": [
       "XgenTokenizer(name_or_path='Salesforce/xgen-7b-8k-base', vocab_size=50313, model_max_length=8192, is_fast=False, padding_side='right', truncation_side='right', special_tokens={'eos_token': AddedToken(\"<|endoftext|>\", rstrip=False, lstrip=False, single_word=False, normalized=True), 'pad_token': '<|endoftext|>'}, clean_up_tokenization_spaces=True)"
      ]
     },
     "execution_count": 42,
     "metadata": {},
     "output_type": "execute_result"
    }
   ],
   "source": [
    "tokenizer"
   ]
  },
  {
   "cell_type": "code",
   "execution_count": 41,
   "id": "4aa36d36",
   "metadata": {
    "ExecuteTime": {
     "end_time": "2023-07-30T09:03:33.352996Z",
     "start_time": "2023-07-30T09:03:33.342862Z"
    }
   },
   "outputs": [
    {
     "data": {
      "text/plain": [
       "Embedding(51200, 4096, padding_idx=0)"
      ]
     },
     "execution_count": 41,
     "metadata": {},
     "output_type": "execute_result"
    }
   ],
   "source": [
    "model.model.embed_tokens"
   ]
  },
  {
   "cell_type": "code",
   "execution_count": 43,
   "id": "c8e66934",
   "metadata": {
    "ExecuteTime": {
     "end_time": "2023-07-30T09:03:53.359593Z",
     "start_time": "2023-07-30T09:03:50.035526Z"
    }
   },
   "outputs": [
    {
     "data": {
      "text/plain": [
       "Embedding(50313, 4096)"
      ]
     },
     "execution_count": 43,
     "metadata": {},
     "output_type": "execute_result"
    }
   ],
   "source": [
    "model.resize_token_embeddings(len(tokenizer))"
   ]
  },
  {
   "cell_type": "markdown",
   "id": "0f9b0ddc",
   "metadata": {},
   "source": [
    "###  peft model"
   ]
  },
  {
   "cell_type": "code",
   "execution_count": null,
   "id": "ed23a56a",
   "metadata": {
    "ExecuteTime": {
     "end_time": "2023-07-30T08:11:14.161396Z",
     "start_time": "2023-07-30T08:11:14.147608Z"
    }
   },
   "outputs": [],
   "source": [
    "model = prepare_model_for_int8_training(model)"
   ]
  },
  {
   "cell_type": "code",
   "execution_count": null,
   "id": "a7fe0b10",
   "metadata": {
    "ExecuteTime": {
     "end_time": "2023-07-30T08:11:38.020383Z",
     "start_time": "2023-07-30T08:11:30.909020Z"
    }
   },
   "outputs": [],
   "source": [
    "peft_config = LoraConfig(r=16, lora_alpha=32, lora_dropout=0.05, bias=\"none\", task_type=\"CAUSAL_LM\")\n",
    "model = get_peft_model(model, peft_config)"
   ]
  },
  {
   "cell_type": "code",
   "execution_count": null,
   "id": "05c60e43",
   "metadata": {
    "ExecuteTime": {
     "end_time": "2023-07-30T08:17:04.456846Z",
     "start_time": "2023-07-30T08:17:04.446517Z"
    }
   },
   "outputs": [],
   "source": [
    "training_args = TrainingArguments(\n",
    "        output_dir=\"xgen-7b-tuned-alpaca-l1\",\n",
    "        per_device_train_batch_size=4,\n",
    "        optim=\"adamw_torch\",\n",
    "        logging_steps=10,\n",
    "        learning_rate=2e-4,\n",
    "        fp16=True,\n",
    "        warmup_ratio=0.1,\n",
    "        lr_scheduler_type=\"linear\",\n",
    "        num_train_epochs=1,\n",
    "        save_strategy=\"epoch\",\n",
    "        push_to_hub=False,\n",
    "    )"
   ]
  },
  {
   "cell_type": "code",
   "execution_count": null,
   "id": "b66aaee5",
   "metadata": {
    "ExecuteTime": {
     "end_time": "2023-07-30T08:36:00.398826Z",
     "start_time": "2023-07-30T08:17:05.380623Z"
    }
   },
   "outputs": [],
   "source": [
    "trainer = SFTTrainer(\n",
    "    model=model,\n",
    "    train_dataset=train_dataset,\n",
    "    dataset_text_field=\"text\",\n",
    "    max_seq_length=1024,\n",
    "    tokenizer=tokenizer,\n",
    "    args=training_args,\n",
    "    packing=True,\n",
    "    peft_config=peft_config,\n",
    ")\n",
    "trainer.train()"
   ]
  },
  {
   "cell_type": "code",
   "execution_count": null,
   "id": "1ceb2838",
   "metadata": {},
   "outputs": [],
   "source": []
  }
 ],
 "metadata": {
  "kernelspec": {
   "display_name": "Python 3 (ipykernel)",
   "language": "python",
   "name": "python3"
  },
  "language_info": {
   "codemirror_mode": {
    "name": "ipython",
    "version": 3
   },
   "file_extension": ".py",
   "mimetype": "text/x-python",
   "name": "python",
   "nbconvert_exporter": "python",
   "pygments_lexer": "ipython3",
   "version": "3.10.9"
  },
  "toc": {
   "base_numbering": 1,
   "nav_menu": {},
   "number_sections": true,
   "sideBar": true,
   "skip_h1_title": false,
   "title_cell": "Table of Contents",
   "title_sidebar": "Contents",
   "toc_cell": false,
   "toc_position": {},
   "toc_section_display": true,
   "toc_window_display": false
  }
 },
 "nbformat": 4,
 "nbformat_minor": 5
}
