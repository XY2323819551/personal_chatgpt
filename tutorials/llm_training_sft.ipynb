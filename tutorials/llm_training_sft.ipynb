{
 "cells": [
  {
   "cell_type": "code",
   "execution_count": null,
   "id": "480dd70d",
   "metadata": {
    "ExecuteTime": {
     "end_time": "2023-07-30T08:36:00.400500Z",
     "start_time": "2023-07-30T08:36:00.400491Z"
    }
   },
   "outputs": [],
   "source": [
    "#!pip install -q git+ssh://git@github.com/huggingface/transformers.git\n",
    "#!pip install -U git+ssh://git@github.com/huggingface/accelerate.git\n",
    "#!pip install --upgrade bitsandbytes\n",
    "#!pip install trl"
   ]
  },
  {
   "cell_type": "code",
   "execution_count": 1,
   "id": "5a77e99b",
   "metadata": {
    "ExecuteTime": {
     "end_time": "2023-07-30T08:36:44.135480Z",
     "start_time": "2023-07-30T08:36:41.283655Z"
    }
   },
   "outputs": [],
   "source": [
    "import torch\n",
    "from datasets import load_dataset\n",
    "from peft import LoraConfig, get_peft_model, prepare_model_for_int8_training\n",
    "from transformers import AutoModelForCausalLM, AutoTokenizer, TrainingArguments\n",
    "from trl import SFTTrainer"
   ]
  },
  {
   "cell_type": "markdown",
   "id": "b40aa3cd",
   "metadata": {},
   "source": [
    "## dataset"
   ]
  },
  {
   "cell_type": "code",
   "execution_count": 4,
   "id": "08d0eebc",
   "metadata": {
    "ExecuteTime": {
     "end_time": "2023-07-30T08:37:12.509200Z",
     "start_time": "2023-07-30T08:37:12.502951Z"
    }
   },
   "outputs": [],
   "source": [
    "import os\n",
    "os.environ['HTTP_PROXY'] = 'http://127.0.0.1:7890'\n",
    "os.environ['HTTPS_PROXY'] = 'http://127.0.0.1:7890'"
   ]
  },
  {
   "cell_type": "code",
   "execution_count": 5,
   "id": "425a1c1c",
   "metadata": {
    "ExecuteTime": {
     "end_time": "2023-07-30T08:37:18.878847Z",
     "start_time": "2023-07-30T08:37:13.905159Z"
    }
   },
   "outputs": [
    {
     "name": "stderr",
     "output_type": "stream",
     "text": [
      "Found cached dataset parquet (/media/whaow/.cache/huggingface/datasets/tatsu-lab___parquet/tatsu-lab--alpaca-2b32f0433506ef5f/0.0.0/2a3b91fbd88a2c90d1dbbb32b460cf621d31bd5b05b934492fdef7d8d6f236ec)\n"
     ]
    }
   ],
   "source": [
    "train_dataset = load_dataset(\"tatsu-lab/alpaca\", split=\"train\")"
   ]
  },
  {
   "cell_type": "code",
   "execution_count": 9,
   "id": "5c8e5e02",
   "metadata": {
    "ExecuteTime": {
     "end_time": "2023-07-30T08:37:49.844284Z",
     "start_time": "2023-07-30T08:37:49.834130Z"
    }
   },
   "outputs": [
    {
     "data": {
      "text/plain": [
       "{'instruction': 'Give three tips for staying healthy.',\n",
       " 'input': '',\n",
       " 'output': '1.Eat a balanced diet and make sure to include plenty of fruits and vegetables. \\n2. Exercise regularly to keep your body active and strong. \\n3. Get enough sleep and maintain a consistent sleep schedule.',\n",
       " 'text': 'Below is an instruction that describes a task. Write a response that appropriately completes the request.\\n\\n### Instruction:\\nGive three tips for staying healthy.\\n\\n### Response:\\n1.Eat a balanced diet and make sure to include plenty of fruits and vegetables. \\n2. Exercise regularly to keep your body active and strong. \\n3. Get enough sleep and maintain a consistent sleep schedule.'}"
      ]
     },
     "execution_count": 9,
     "metadata": {},
     "output_type": "execute_result"
    }
   ],
   "source": [
    "train_dataset[0]"
   ]
  },
  {
   "cell_type": "code",
   "execution_count": 8,
   "id": "d49a0d90",
   "metadata": {
    "ExecuteTime": {
     "end_time": "2023-07-30T08:37:37.668000Z",
     "start_time": "2023-07-30T08:37:37.658751Z"
    }
   },
   "outputs": [
    {
     "name": "stdout",
     "output_type": "stream",
     "text": [
      "Below is an instruction that describes a task. Write a response that appropriately completes the request.\n",
      "\n",
      "### Instruction:\n",
      "Give three tips for staying healthy.\n",
      "\n",
      "### Response:\n",
      "1.Eat a balanced diet and make sure to include plenty of fruits and vegetables. \n",
      "2. Exercise regularly to keep your body active and strong. \n",
      "3. Get enough sleep and maintain a consistent sleep schedule.\n"
     ]
    }
   ],
   "source": [
    "print(train_dataset[0]['text'])"
   ]
  },
  {
   "cell_type": "code",
   "execution_count": 12,
   "id": "191c048d",
   "metadata": {
    "ExecuteTime": {
     "end_time": "2023-07-30T08:38:16.631180Z",
     "start_time": "2023-07-30T08:38:16.621058Z"
    }
   },
   "outputs": [
    {
     "data": {
      "text/plain": [
       "{'instruction': 'Identify the odd one out.',\n",
       " 'input': 'Twitter, Instagram, Telegram',\n",
       " 'output': 'Telegram',\n",
       " 'text': 'Below is an instruction that describes a task, paired with an input that provides further context. Write a response that appropriately completes the request.\\n\\n### Instruction:\\nIdentify the odd one out.\\n\\n### Input:\\nTwitter, Instagram, Telegram\\n\\n### Response:\\nTelegram'}"
      ]
     },
     "execution_count": 12,
     "metadata": {},
     "output_type": "execute_result"
    }
   ],
   "source": [
    "train_dataset[5]"
   ]
  },
  {
   "cell_type": "code",
   "execution_count": 13,
   "id": "b94bf40e",
   "metadata": {
    "ExecuteTime": {
     "end_time": "2023-07-30T08:38:30.637211Z",
     "start_time": "2023-07-30T08:38:30.628316Z"
    }
   },
   "outputs": [
    {
     "name": "stdout",
     "output_type": "stream",
     "text": [
      "Below is an instruction that describes a task, paired with an input that provides further context. Write a response that appropriately completes the request.\n",
      "\n",
      "### Instruction:\n",
      "Identify the odd one out.\n",
      "\n",
      "### Input:\n",
      "Twitter, Instagram, Telegram\n",
      "\n",
      "### Response:\n",
      "Telegram\n"
     ]
    }
   ],
   "source": [
    "print(train_dataset[5]['text'])"
   ]
  },
  {
   "cell_type": "markdown",
   "id": "8a1ea694",
   "metadata": {},
   "source": [
    "## tokenizer & model"
   ]
  },
  {
   "cell_type": "code",
   "execution_count": 14,
   "id": "8ed080f6",
   "metadata": {
    "ExecuteTime": {
     "end_time": "2023-07-30T08:38:42.888760Z",
     "start_time": "2023-07-30T08:38:41.504012Z"
    }
   },
   "outputs": [
    {
     "name": "stderr",
     "output_type": "stream",
     "text": [
      "Using unk_token, but it is not set yet.\n",
      "Using unk_token, but it is not set yet.\n"
     ]
    }
   ],
   "source": [
    "model_ckpt = \"Salesforce/xgen-7b-8k-base\"\n",
    "tokenizer = AutoTokenizer.from_pretrained(model_ckpt, trust_remote_code=True)\n",
    "tokenizer.pad_token = tokenizer.eos_token"
   ]
  },
  {
   "cell_type": "code",
   "execution_count": 15,
   "id": "382e04a7",
   "metadata": {
    "ExecuteTime": {
     "end_time": "2023-07-30T08:38:48.134000Z",
     "start_time": "2023-07-30T08:38:48.125439Z"
    }
   },
   "outputs": [
    {
     "data": {
      "text/plain": [
       "XgenTokenizer(name_or_path='Salesforce/xgen-7b-8k-base', vocab_size=50313, model_max_length=8192, is_fast=False, padding_side='right', truncation_side='right', special_tokens={'eos_token': AddedToken(\"<|endoftext|>\", rstrip=False, lstrip=False, single_word=False, normalized=True), 'pad_token': '<|endoftext|>'}, clean_up_tokenization_spaces=True)"
      ]
     },
     "execution_count": 15,
     "metadata": {},
     "output_type": "execute_result"
    }
   ],
   "source": [
    "tokenizer"
   ]
  },
  {
   "cell_type": "code",
   "execution_count": 16,
   "id": "acfbb83b",
   "metadata": {
    "ExecuteTime": {
     "end_time": "2023-07-30T08:39:12.960300Z",
     "start_time": "2023-07-30T08:38:54.109511Z"
    }
   },
   "outputs": [
    {
     "data": {
      "application/vnd.jupyter.widget-view+json": {
       "model_id": "ac299a8a7f8f438083c1921f0210421b",
       "version_major": 2,
       "version_minor": 0
      },
      "text/plain": [
       "Loading checkpoint shards:   0%|          | 0/3 [00:00<?, ?it/s]"
      ]
     },
     "metadata": {},
     "output_type": "display_data"
    }
   ],
   "source": [
    "model = AutoModelForCausalLM.from_pretrained(\n",
    "        model_ckpt, load_in_4bit=True, torch_dtype=torch.float16, device_map=\"auto\"\n",
    "    )"
   ]
  },
  {
   "cell_type": "code",
   "execution_count": 17,
   "id": "fa94aef8",
   "metadata": {
    "ExecuteTime": {
     "end_time": "2023-07-30T08:39:16.841365Z",
     "start_time": "2023-07-30T08:39:16.833240Z"
    }
   },
   "outputs": [
    {
     "data": {
      "text/plain": [
       "LlamaForCausalLM(\n",
       "  (model): LlamaModel(\n",
       "    (embed_tokens): Embedding(51200, 4096, padding_idx=0)\n",
       "    (layers): ModuleList(\n",
       "      (0-31): 32 x LlamaDecoderLayer(\n",
       "        (self_attn): LlamaAttention(\n",
       "          (q_proj): Linear4bit(in_features=4096, out_features=4096, bias=False)\n",
       "          (k_proj): Linear4bit(in_features=4096, out_features=4096, bias=False)\n",
       "          (v_proj): Linear4bit(in_features=4096, out_features=4096, bias=False)\n",
       "          (o_proj): Linear4bit(in_features=4096, out_features=4096, bias=False)\n",
       "          (rotary_emb): LlamaRotaryEmbedding()\n",
       "        )\n",
       "        (mlp): LlamaMLP(\n",
       "          (gate_proj): Linear4bit(in_features=4096, out_features=11008, bias=False)\n",
       "          (up_proj): Linear4bit(in_features=4096, out_features=11008, bias=False)\n",
       "          (down_proj): Linear4bit(in_features=11008, out_features=4096, bias=False)\n",
       "          (act_fn): SiLUActivation()\n",
       "        )\n",
       "        (input_layernorm): LlamaRMSNorm()\n",
       "        (post_attention_layernorm): LlamaRMSNorm()\n",
       "      )\n",
       "    )\n",
       "    (norm): LlamaRMSNorm()\n",
       "  )\n",
       "  (lm_head): Linear(in_features=4096, out_features=51200, bias=False)\n",
       ")"
      ]
     },
     "execution_count": 17,
     "metadata": {},
     "output_type": "execute_result"
    }
   ],
   "source": [
    "model"
   ]
  },
  {
   "cell_type": "code",
   "execution_count": null,
   "id": "c8e66934",
   "metadata": {
    "ExecuteTime": {
     "end_time": "2023-07-30T08:11:07.543028Z",
     "start_time": "2023-07-30T08:11:04.463743Z"
    }
   },
   "outputs": [],
   "source": [
    "model.resize_token_embeddings(len(tokenizer))"
   ]
  },
  {
   "cell_type": "code",
   "execution_count": null,
   "id": "ed23a56a",
   "metadata": {
    "ExecuteTime": {
     "end_time": "2023-07-30T08:11:14.161396Z",
     "start_time": "2023-07-30T08:11:14.147608Z"
    }
   },
   "outputs": [],
   "source": [
    "model = prepare_model_for_int8_training(model)"
   ]
  },
  {
   "cell_type": "code",
   "execution_count": null,
   "id": "a7fe0b10",
   "metadata": {
    "ExecuteTime": {
     "end_time": "2023-07-30T08:11:38.020383Z",
     "start_time": "2023-07-30T08:11:30.909020Z"
    }
   },
   "outputs": [],
   "source": [
    "peft_config = LoraConfig(r=16, lora_alpha=32, lora_dropout=0.05, bias=\"none\", task_type=\"CAUSAL_LM\")\n",
    "model = get_peft_model(model, peft_config)"
   ]
  },
  {
   "cell_type": "code",
   "execution_count": null,
   "id": "05c60e43",
   "metadata": {
    "ExecuteTime": {
     "end_time": "2023-07-30T08:17:04.456846Z",
     "start_time": "2023-07-30T08:17:04.446517Z"
    }
   },
   "outputs": [],
   "source": [
    "training_args = TrainingArguments(\n",
    "        output_dir=\"xgen-7b-tuned-alpaca-l1\",\n",
    "        per_device_train_batch_size=4,\n",
    "        optim=\"adamw_torch\",\n",
    "        logging_steps=10,\n",
    "        learning_rate=2e-4,\n",
    "        fp16=True,\n",
    "        warmup_ratio=0.1,\n",
    "        lr_scheduler_type=\"linear\",\n",
    "        num_train_epochs=1,\n",
    "        save_strategy=\"epoch\",\n",
    "        push_to_hub=False,\n",
    "    )"
   ]
  },
  {
   "cell_type": "code",
   "execution_count": null,
   "id": "b66aaee5",
   "metadata": {
    "ExecuteTime": {
     "end_time": "2023-07-30T08:36:00.398826Z",
     "start_time": "2023-07-30T08:17:05.380623Z"
    }
   },
   "outputs": [],
   "source": [
    "trainer = SFTTrainer(\n",
    "    model=model,\n",
    "    train_dataset=train_dataset,\n",
    "    dataset_text_field=\"text\",\n",
    "    max_seq_length=1024,\n",
    "    tokenizer=tokenizer,\n",
    "    args=training_args,\n",
    "    packing=True,\n",
    "    peft_config=peft_config,\n",
    ")\n",
    "trainer.train()"
   ]
  },
  {
   "cell_type": "code",
   "execution_count": null,
   "id": "1ceb2838",
   "metadata": {},
   "outputs": [],
   "source": []
  }
 ],
 "metadata": {
  "kernelspec": {
   "display_name": "Python 3 (ipykernel)",
   "language": "python",
   "name": "python3"
  },
  "language_info": {
   "codemirror_mode": {
    "name": "ipython",
    "version": 3
   },
   "file_extension": ".py",
   "mimetype": "text/x-python",
   "name": "python",
   "nbconvert_exporter": "python",
   "pygments_lexer": "ipython3",
   "version": "3.10.9"
  },
  "toc": {
   "base_numbering": 1,
   "nav_menu": {},
   "number_sections": true,
   "sideBar": true,
   "skip_h1_title": false,
   "title_cell": "Table of Contents",
   "title_sidebar": "Contents",
   "toc_cell": false,
   "toc_position": {},
   "toc_section_display": true,
   "toc_window_display": false
  }
 },
 "nbformat": 4,
 "nbformat_minor": 5
}
