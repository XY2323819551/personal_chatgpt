{
 "cells": [
  {
   "cell_type": "code",
   "execution_count": 1,
   "id": "b3b861e1",
   "metadata": {
    "ExecuteTime": {
     "end_time": "2023-10-12T13:41:33.273558Z",
     "start_time": "2023-10-12T13:41:33.256780Z"
    }
   },
   "outputs": [],
   "source": [
    "text = \"I believe the meaning of life is\""
   ]
  },
  {
   "cell_type": "code",
   "execution_count": 2,
   "id": "b80eb53b",
   "metadata": {
    "ExecuteTime": {
     "end_time": "2023-10-12T13:41:48.556461Z",
     "start_time": "2023-10-12T13:41:48.504192Z"
    }
   },
   "outputs": [],
   "source": [
    "from sentencepiece import SentencePieceProcessor\n",
    "sp_model = SentencePieceProcessor(model_file='./tokenizer.model')"
   ]
  },
  {
   "cell_type": "code",
   "execution_count": 13,
   "id": "9190542f",
   "metadata": {
    "ExecuteTime": {
     "end_time": "2023-10-12T13:52:23.641942Z",
     "start_time": "2023-10-12T13:52:23.636257Z"
    }
   },
   "outputs": [
    {
     "name": "stdout",
     "output_type": "stream",
     "text": [
      "1\n",
      "2\n",
      "-1\n",
      "32000\n"
     ]
    }
   ],
   "source": [
    "print(sp_model.bos_id())\n",
    "print(sp_model.eos_id())\n",
    "print(sp_model.pad_id())\n",
    "print(sp_model.vocab_size())"
   ]
  },
  {
   "cell_type": "code",
   "execution_count": 6,
   "id": "efb86fe7",
   "metadata": {
    "ExecuteTime": {
     "end_time": "2023-10-12T13:42:39.316049Z",
     "start_time": "2023-10-12T13:42:39.305490Z"
    }
   },
   "outputs": [
    {
     "data": {
      "text/plain": [
       "[1, 306, 4658, 278, 6593, 310, 2834, 338]"
      ]
     },
     "execution_count": 6,
     "metadata": {},
     "output_type": "execute_result"
    }
   ],
   "source": [
    "prompt_tokens = [sp_model.bos_id(), *sp_model.encode(text)]\n",
    "prompt_tokens"
   ]
  },
  {
   "cell_type": "markdown",
   "id": "1316eb1b",
   "metadata": {},
   "source": [
    "```\n",
    "generation_tokens, generation_logprobs = self.generate(\n",
    "    prompt_tokens=prompt_tokens,\n",
    "    max_gen_len=max_gen_len,\n",
    "    temperature=temperature,\n",
    "    top_p=top_p,\n",
    "    logprobs=logprobs,\n",
    "    echo=echo,\n",
    ")\n",
    "```\n",
    "\n",
    "- `echo (bool, optional): `\n",
    "    - `Flag indicating whether to include prompt tokens in the generated output. Defaults to False.`\n",
    "- `total_len = min(params.max_seq_len, max_gen_len + max_prompt_len)`\n",
    "    - `params.max_seq_len`: 1024 (2048)\n",
    "    - max_gen_len + max_prompt_len = 64 + 8 = 72"
   ]
  },
  {
   "cell_type": "markdown",
   "id": "e541edb9",
   "metadata": {},
   "source": [
    "## 特殊控制"
   ]
  },
  {
   "cell_type": "markdown",
   "id": "a0286c50",
   "metadata": {},
   "source": [
    "### penalty"
   ]
  }
 ],
 "metadata": {
  "kernelspec": {
   "display_name": "Python 3 (ipykernel)",
   "language": "python",
   "name": "python3"
  },
  "language_info": {
   "codemirror_mode": {
    "name": "ipython",
    "version": 3
   },
   "file_extension": ".py",
   "mimetype": "text/x-python",
   "name": "python",
   "nbconvert_exporter": "python",
   "pygments_lexer": "ipython3",
   "version": "3.10.9"
  },
  "toc": {
   "base_numbering": 1,
   "nav_menu": {},
   "number_sections": true,
   "sideBar": true,
   "skip_h1_title": false,
   "title_cell": "Table of Contents",
   "title_sidebar": "Contents",
   "toc_cell": false,
   "toc_position": {},
   "toc_section_display": true,
   "toc_window_display": false
  }
 },
 "nbformat": 4,
 "nbformat_minor": 5
}
