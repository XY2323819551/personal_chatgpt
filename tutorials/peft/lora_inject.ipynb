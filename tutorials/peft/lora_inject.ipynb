{
 "cells": [
  {
   "cell_type": "markdown",
   "id": "8d1dc610-d090-413a-9acb-5e82626195c0",
   "metadata": {},
   "source": [
    "- references\n",
    "    - https://github.com/geekplux/cv_resume"
   ]
  },
  {
   "cell_type": "code",
   "execution_count": 42,
   "id": "8ed03695-bd55-4ab9-9b6b-824a491391d2",
   "metadata": {},
   "outputs": [],
   "source": [
    "import inspect\n",
    "import torch\n",
    "from torch import nn\n",
    "from peft import inject_adapter_in_model, LoraConfig"
   ]
  },
  {
   "cell_type": "code",
   "execution_count": 19,
   "id": "1702c0ca-285f-46ca-a694-47bcf8ca7a20",
   "metadata": {},
   "outputs": [],
   "source": [
    "class DummyModel(torch.nn.Module):\n",
    "    def __init__(self):\n",
    "        super().__init__()\n",
    "        self.embedding = torch.nn.Embedding(100, 1000)\n",
    "        self.linear = torch.nn.Linear(1000, 1000)\n",
    "        self.lm_head = torch.nn.Linear(1000, 100)\n",
    "\n",
    "    def forward(self, input_ids):\n",
    "        x = self.embedding(input_ids)\n",
    "        x = self.linear(x)\n",
    "        x = self.lm_head(x)\n",
    "        return x"
   ]
  },
  {
   "cell_type": "code",
   "execution_count": 24,
   "id": "2fd5c877-03b5-4c43-826a-284aa872d61e",
   "metadata": {},
   "outputs": [],
   "source": [
    "lora_config = LoraConfig(\n",
    "    lora_alpha=16,\n",
    "    lora_dropout=0.1,\n",
    "    r=64,\n",
    "    bias=\"none\",\n",
    "    target_modules=[\"linear\"],\n",
    ")"
   ]
  },
  {
   "cell_type": "code",
   "execution_count": 4,
   "id": "c30c6e0d-d46a-43fd-b2fb-3d35a2195215",
   "metadata": {},
   "outputs": [
    {
     "data": {
      "text/plain": [
       "LoraConfig(peft_type=<PeftType.LORA: 'LORA'>, auto_mapping=None, base_model_name_or_path=None, revision=None, task_type=None, inference_mode=False, r=64, target_modules={'linear'}, lora_alpha=16, lora_dropout=0.1, fan_in_fan_out=False, bias='none', use_rslora=False, modules_to_save=None, init_lora_weights=True, layers_to_transform=None, layers_pattern=None, rank_pattern={}, alpha_pattern={}, megatron_config=None, megatron_core='megatron.core', loftq_config={}, use_dora=False, layer_replication=None)"
      ]
     },
     "execution_count": 4,
     "metadata": {},
     "output_type": "execute_result"
    }
   ],
   "source": [
    "lora_config"
   ]
  },
  {
   "cell_type": "markdown",
   "id": "8301646a-a235-414f-aec0-59db2485c263",
   "metadata": {},
   "source": [
    "## dummy model"
   ]
  },
  {
   "cell_type": "code",
   "execution_count": 36,
   "id": "693039a1-c859-419e-9c44-61e164fada91",
   "metadata": {},
   "outputs": [
    {
     "data": {
      "text/plain": [
       "DummyModel(\n",
       "  (embedding): Embedding(100, 1000)\n",
       "  (linear): Linear(in_features=1000, out_features=1000, bias=True)\n",
       "  (lm_head): Linear(in_features=1000, out_features=100, bias=True)\n",
       ")"
      ]
     },
     "execution_count": 36,
     "metadata": {},
     "output_type": "execute_result"
    }
   ],
   "source": [
    "model = DummyModel()\n",
    "model"
   ]
  },
  {
   "cell_type": "code",
   "execution_count": 39,
   "id": "14d00a06-c6c4-4bd5-a2ec-139355fa7726",
   "metadata": {},
   "outputs": [
    {
     "data": {
      "text/plain": [
       "torch.nn.modules.linear.Linear"
      ]
     },
     "execution_count": 39,
     "metadata": {},
     "output_type": "execute_result"
    }
   ],
   "source": [
    "type(model.linear)"
   ]
  },
  {
   "cell_type": "code",
   "execution_count": 22,
   "id": "96651330-621e-4f17-81d2-6f8fd2e38373",
   "metadata": {},
   "outputs": [
    {
     "data": {
      "text/plain": [
       "torch.Size([1, 8, 100])"
      ]
     },
     "execution_count": 22,
     "metadata": {},
     "output_type": "execute_result"
    }
   ],
   "source": [
    "dummy_inputs = torch.LongTensor([[0, 1, 2, 3, 4, 5, 6, 7]])\n",
    "model(dummy_inputs).shape"
   ]
  },
  {
   "cell_type": "markdown",
   "id": "2ee12e47-41d5-47ec-b596-5237334998e7",
   "metadata": {},
   "source": [
    "## lora model"
   ]
  },
  {
   "cell_type": "code",
   "execution_count": 28,
   "id": "ab5586a9-f065-4f32-902e-4bffae4d4976",
   "metadata": {},
   "outputs": [
    {
     "data": {
      "text/plain": [
       "DummyModel(\n",
       "  (embedding): Embedding(100, 1000)\n",
       "  (linear): lora.Linear(\n",
       "    (base_layer): Linear(in_features=1000, out_features=1000, bias=True)\n",
       "    (lora_dropout): ModuleDict(\n",
       "      (default): Dropout(p=0.1, inplace=False)\n",
       "    )\n",
       "    (lora_A): ModuleDict(\n",
       "      (default): Linear(in_features=1000, out_features=64, bias=False)\n",
       "    )\n",
       "    (lora_B): ModuleDict(\n",
       "      (default): Linear(in_features=64, out_features=1000, bias=False)\n",
       "    )\n",
       "    (lora_embedding_A): ParameterDict()\n",
       "    (lora_embedding_B): ParameterDict()\n",
       "  )\n",
       "  (lm_head): Linear(in_features=1000, out_features=100, bias=True)\n",
       ")"
      ]
     },
     "execution_count": 28,
     "metadata": {},
     "output_type": "execute_result"
    }
   ],
   "source": [
    "model = inject_adapter_in_model(lora_config, model)\n",
    "model"
   ]
  },
  {
   "cell_type": "code",
   "execution_count": 40,
   "id": "1e787a87-85d2-4755-ab91-2c0f79849596",
   "metadata": {},
   "outputs": [
    {
     "data": {
      "text/plain": [
       "(torch.nn.modules.sparse.Embedding, torch.nn.modules.linear.Linear)"
      ]
     },
     "execution_count": 40,
     "metadata": {},
     "output_type": "execute_result"
    }
   ],
   "source": [
    "type(model.embedding), type(model.linear)"
   ]
  },
  {
   "cell_type": "code",
   "execution_count": 41,
   "id": "fc9d1b15-a17d-497a-81a9-aaf549b3e52d",
   "metadata": {},
   "outputs": [
    {
     "data": {
      "text/plain": [
       "True"
      ]
     },
     "execution_count": 41,
     "metadata": {},
     "output_type": "execute_result"
    }
   ],
   "source": [
    "isinstance(model.linear, nn.Module)"
   ]
  },
  {
   "cell_type": "code",
   "execution_count": 44,
   "id": "27bb8cb5-39c9-46e1-881e-6cc6a9e7250d",
   "metadata": {},
   "outputs": [
    {
     "data": {
      "text/plain": [
       "(torch.nn.modules.linear.Linear, torch.nn.modules.module.Module, object)"
      ]
     },
     "execution_count": 44,
     "metadata": {},
     "output_type": "execute_result"
    }
   ],
   "source": [
    "inspect.getmro(type(model.linear))"
   ]
  }
 ],
 "metadata": {
  "kernelspec": {
   "display_name": "Python 3 (ipykernel)",
   "language": "python",
   "name": "python3"
  },
  "language_info": {
   "codemirror_mode": {
    "name": "ipython",
    "version": 3
   },
   "file_extension": ".py",
   "mimetype": "text/x-python",
   "name": "python",
   "nbconvert_exporter": "python",
   "pygments_lexer": "ipython3",
   "version": "3.10.13"
  }
 },
 "nbformat": 4,
 "nbformat_minor": 5
}
