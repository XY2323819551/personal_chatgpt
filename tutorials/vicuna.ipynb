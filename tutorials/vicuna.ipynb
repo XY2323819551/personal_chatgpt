{
 "cells": [
  {
   "cell_type": "markdown",
   "id": "55f1646f",
   "metadata": {},
   "source": [
    "## about"
   ]
  },
  {
   "cell_type": "markdown",
   "id": "6be39d62",
   "metadata": {},
   "source": [
    "- lmsys: Large Model Systems Organization\n"
   ]
  },
  {
   "cell_type": "markdown",
   "id": "287a2522",
   "metadata": {},
   "source": [
    "## chatting"
   ]
  },
  {
   "cell_type": "markdown",
   "id": "57a7ef58",
   "metadata": {},
   "source": [
    "> We release Vicuna weights v1.3 as merged weights directly. \n",
    "\n",
    "- `python -m fastchat.serve.cli --model-path lmsys/vicuna-7b-v1.3`\n",
    "    - `lmsys/vicuna-7b-v1.3`: 指的是 Huggingface 的 checkpoint\n",
    "        - 内部还是通过 from_pretrained 的方式 load 进来的；\n",
    "            - https://huggingface.co/lmsys/vicuna-7b-v1.3/tree/main\n",
    "        - 2 checkpoint shards\n",
    "    - `python -m fastchat.serve.cli --model-path lmsys/vicuna-13b-v1.3`\n",
    "        - 对于 13b 版本；\n",
    "        - 单卡（4090, 24GB）放不下\n",
    "            - `python -m fastchat.serve.cli --model-path lmsys/vicuna-13b-v1.3 --num-gpus 2 --style rich`\n",
    "            \n",
    "\n",
    "```\n",
    "model = AutoModelForCausalLM.from_pretrained('lmsys/vicuna-7b-v1.3')\n",
    "```"
   ]
  },
  {
   "cell_type": "code",
   "execution_count": 1,
   "id": "35689370",
   "metadata": {
    "ExecuteTime": {
     "end_time": "2023-06-19T15:16:01.557169Z",
     "start_time": "2023-06-19T15:15:13.726106Z"
    }
   },
   "outputs": [
    {
     "data": {
      "application/vnd.jupyter.widget-view+json": {
       "model_id": "368c063fe3104c9da990800bde13055d",
       "version_major": 2,
       "version_minor": 0
      },
      "text/plain": [
       "Loading checkpoint shards:   0%|          | 0/2 [00:00<?, ?it/s]"
      ]
     },
     "metadata": {},
     "output_type": "display_data"
    }
   ],
   "source": [
    "from transformers import AutoModelForCausalLM\n",
    "model = AutoModelForCausalLM.from_pretrained('lmsys/vicuna-7b-v1.3')"
   ]
  },
  {
   "cell_type": "code",
   "execution_count": 4,
   "id": "63cc5d2f",
   "metadata": {
    "ExecuteTime": {
     "end_time": "2023-06-19T15:16:48.452839Z",
     "start_time": "2023-06-19T15:16:48.438615Z"
    }
   },
   "outputs": [
    {
     "data": {
      "text/plain": [
       "LlamaForCausalLM(\n",
       "  (model): LlamaModel(\n",
       "    (embed_tokens): Embedding(32000, 4096, padding_idx=0)\n",
       "    (layers): ModuleList(\n",
       "      (0-31): 32 x LlamaDecoderLayer(\n",
       "        (self_attn): LlamaAttention(\n",
       "          (q_proj): Linear(in_features=4096, out_features=4096, bias=False)\n",
       "          (k_proj): Linear(in_features=4096, out_features=4096, bias=False)\n",
       "          (v_proj): Linear(in_features=4096, out_features=4096, bias=False)\n",
       "          (o_proj): Linear(in_features=4096, out_features=4096, bias=False)\n",
       "          (rotary_emb): LlamaRotaryEmbedding()\n",
       "        )\n",
       "        (mlp): LlamaMLP(\n",
       "          (gate_proj): Linear(in_features=4096, out_features=11008, bias=False)\n",
       "          (down_proj): Linear(in_features=11008, out_features=4096, bias=False)\n",
       "          (up_proj): Linear(in_features=4096, out_features=11008, bias=False)\n",
       "          (act_fn): SiLUActivation()\n",
       "        )\n",
       "        (input_layernorm): LlamaRMSNorm()\n",
       "        (post_attention_layernorm): LlamaRMSNorm()\n",
       "      )\n",
       "    )\n",
       "    (norm): LlamaRMSNorm()\n",
       "  )\n",
       "  (lm_head): Linear(in_features=4096, out_features=32000, bias=False)\n",
       ")"
      ]
     },
     "execution_count": 4,
     "metadata": {},
     "output_type": "execute_result"
    }
   ],
   "source": [
    "# LlamaModel with lm_head\n",
    "model"
   ]
  }
 ],
 "metadata": {
  "kernelspec": {
   "display_name": "Python 3 (ipykernel)",
   "language": "python",
   "name": "python3"
  },
  "language_info": {
   "codemirror_mode": {
    "name": "ipython",
    "version": 3
   },
   "file_extension": ".py",
   "mimetype": "text/x-python",
   "name": "python",
   "nbconvert_exporter": "python",
   "pygments_lexer": "ipython3",
   "version": "3.10.9"
  },
  "toc": {
   "base_numbering": 1,
   "nav_menu": {},
   "number_sections": true,
   "sideBar": true,
   "skip_h1_title": false,
   "title_cell": "Table of Contents",
   "title_sidebar": "Contents",
   "toc_cell": false,
   "toc_position": {},
   "toc_section_display": true,
   "toc_window_display": false
  }
 },
 "nbformat": 4,
 "nbformat_minor": 5
}
