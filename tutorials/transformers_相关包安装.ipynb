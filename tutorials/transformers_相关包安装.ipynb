{
 "cells": [
  {
   "cell_type": "code",
   "execution_count": 1,
   "id": "098c6a5c",
   "metadata": {
    "ExecuteTime": {
     "end_time": "2023-07-30T08:23:57.403533Z",
     "start_time": "2023-07-30T08:23:57.398821Z"
    }
   },
   "outputs": [],
   "source": [
    "#!pip install -q git+ssh://git@github.com/huggingface/transformers.git\n",
    "#!pip install -U git+ssh://git@github.com/huggingface/accelerate.git\n",
    "#!pip install --upgrade bitsandbytes\n",
    "#!pip install trl"
   ]
  }
 ],
 "metadata": {
  "kernelspec": {
   "display_name": "Python 3 (ipykernel)",
   "language": "python",
   "name": "python3"
  },
  "language_info": {
   "codemirror_mode": {
    "name": "ipython",
    "version": 3
   },
   "file_extension": ".py",
   "mimetype": "text/x-python",
   "name": "python",
   "nbconvert_exporter": "python",
   "pygments_lexer": "ipython3",
   "version": "3.10.9"
  },
  "toc": {
   "base_numbering": 1,
   "nav_menu": {},
   "number_sections": true,
   "sideBar": true,
   "skip_h1_title": false,
   "title_cell": "Table of Contents",
   "title_sidebar": "Contents",
   "toc_cell": false,
   "toc_position": {},
   "toc_section_display": true,
   "toc_window_display": false
  }
 },
 "nbformat": 4,
 "nbformat_minor": 5
}
