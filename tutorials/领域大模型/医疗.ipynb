{
 "cells": [
  {
   "cell_type": "code",
   "execution_count": 1,
   "id": "7ff002c8",
   "metadata": {
    "ExecuteTime": {
     "end_time": "2023-08-19T11:10:12.367051Z",
     "start_time": "2023-08-19T11:10:12.357602Z"
    }
   },
   "outputs": [],
   "source": [
    "from datasets import load_dataset, concatenate_datasets"
   ]
  },
  {
   "cell_type": "markdown",
   "id": "198a0155",
   "metadata": {},
   "source": [
    "## 数据集"
   ]
  },
  {
   "cell_type": "markdown",
   "id": "cf3d414c",
   "metadata": {},
   "source": [
    "- `\"GBaker/MedQA-USMLE-4-options\"`\n",
    "    - 选择题的形式提供，四选题；"
   ]
  },
  {
   "cell_type": "code",
   "execution_count": 2,
   "id": "56d20d2a",
   "metadata": {
    "ExecuteTime": {
     "end_time": "2023-08-19T11:10:22.911862Z",
     "start_time": "2023-08-19T11:10:20.192502Z"
    }
   },
   "outputs": [
    {
     "name": "stderr",
     "output_type": "stream",
     "text": [
      "Found cached dataset json (/media/whaow/.cache/huggingface/datasets/GBaker___json/GBaker--MedQA-USMLE-4-options-4a9914430e36c3d0/0.0.0/0f7e3662623656454fcd2b650f34e886a7db4b9104504885bd462096cc7a9f51)\n"
     ]
    }
   ],
   "source": [
    "dataset = load_dataset(\"GBaker/MedQA-USMLE-4-options\", split='train')"
   ]
  },
  {
   "cell_type": "code",
   "execution_count": 3,
   "id": "f30f8a81",
   "metadata": {
    "ExecuteTime": {
     "end_time": "2023-08-19T11:10:26.033948Z",
     "start_time": "2023-08-19T11:10:26.019830Z"
    }
   },
   "outputs": [
    {
     "data": {
      "text/plain": [
       "Dataset({\n",
       "    features: ['question', 'answer', 'options', 'meta_info', 'answer_idx', 'metamap_phrases'],\n",
       "    num_rows: 10178\n",
       "})"
      ]
     },
     "execution_count": 3,
     "metadata": {},
     "output_type": "execute_result"
    }
   ],
   "source": [
    "dataset"
   ]
  },
  {
   "cell_type": "code",
   "execution_count": 5,
   "id": "183238db",
   "metadata": {
    "ExecuteTime": {
     "end_time": "2023-08-19T11:10:50.479614Z",
     "start_time": "2023-08-19T11:10:50.467753Z"
    }
   },
   "outputs": [
    {
     "data": {
      "text/plain": [
       "{'question': \"A mother brings her 3-week-old infant to the pediatrician's office because she is concerned about his feeding habits. He was born without complications and has not had any medical problems up until this time. However, for the past 4 days, he has been fussy, is regurgitating all of his feeds, and his vomit is yellow in color. On physical exam, the child's abdomen is minimally distended but no other abnormalities are appreciated. Which of the following embryologic errors could account for this presentation?\",\n",
       " 'answer': 'Abnormal migration of ventral pancreatic bud',\n",
       " 'options': {'A': 'Abnormal migration of ventral pancreatic bud',\n",
       "  'B': 'Complete failure of proximal duodenum to recanalize',\n",
       "  'C': 'Abnormal hypertrophy of the pylorus',\n",
       "  'D': 'Failure of lateral body folds to move ventrally and fuse in the midline'},\n",
       " 'meta_info': 'step1',\n",
       " 'answer_idx': 'A',\n",
       " 'metamap_phrases': ['mother',\n",
       "  'week old infant',\n",
       "  \"pediatrician's office\",\n",
       "  'concerned',\n",
       "  'feeding habits',\n",
       "  'born',\n",
       "  'complications',\n",
       "  'not',\n",
       "  'medical problems',\n",
       "  'time',\n",
       "  'past',\n",
       "  'days',\n",
       "  'fussy',\n",
       "  'regurgitating',\n",
       "  'feeds',\n",
       "  'vomit',\n",
       "  'yellow',\n",
       "  'color',\n",
       "  'physical exam',\n",
       "  \"child's abdomen\",\n",
       "  'distended',\n",
       "  'abnormalities',\n",
       "  'following embryologic errors',\n",
       "  'account',\n",
       "  'presentation']}"
      ]
     },
     "execution_count": 5,
     "metadata": {},
     "output_type": "execute_result"
    }
   ],
   "source": [
    "dataset[2]"
   ]
  }
 ],
 "metadata": {
  "kernelspec": {
   "display_name": "Python 3 (ipykernel)",
   "language": "python",
   "name": "python3"
  },
  "language_info": {
   "codemirror_mode": {
    "name": "ipython",
    "version": 3
   },
   "file_extension": ".py",
   "mimetype": "text/x-python",
   "name": "python",
   "nbconvert_exporter": "python",
   "pygments_lexer": "ipython3",
   "version": "3.10.9"
  },
  "toc": {
   "base_numbering": 1,
   "nav_menu": {},
   "number_sections": true,
   "sideBar": true,
   "skip_h1_title": false,
   "title_cell": "Table of Contents",
   "title_sidebar": "Contents",
   "toc_cell": false,
   "toc_position": {},
   "toc_section_display": true,
   "toc_window_display": false
  }
 },
 "nbformat": 4,
 "nbformat_minor": 5
}
