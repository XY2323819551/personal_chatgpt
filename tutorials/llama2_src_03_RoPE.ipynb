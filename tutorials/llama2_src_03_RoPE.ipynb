{
 "cells": [
  {
   "cell_type": "markdown",
   "id": "902e7e5e",
   "metadata": {},
   "source": [
    "## basics"
   ]
  },
  {
   "cell_type": "markdown",
   "id": "3ee6a99e",
   "metadata": {},
   "source": [
    "- RoPE: rotary position embeddings\n",
    "    - https://arxiv.org/pdf/2104.09864v4.pdf\n",
    "        - ROFORMER, Jianlin Su\n",
    "    - 属于 position embedding 的范畴\n",
    "    - 通过旋转矩阵（rotation matrix）编码绝对位置信息\n",
    "- 参考\n",
    "    - https://blog.eleuther.ai/rotary-embeddings/\n",
    "    - https://sh-tsang.medium.com/brief-review-roformer-enhanced-transformer-with-rotary-position-embedding-36f67a619442"
   ]
  },
  {
   "cell_type": "markdown",
   "id": "1f1c3a99",
   "metadata": {},
   "source": [
    "- position encoding：位置编码核心要做的事情\n",
    "\n",
    "$$\n",
    "f(\\mathbf{x}, \\ell)\n",
    "$$"
   ]
  },
  {
   "cell_type": "markdown",
   "id": "4765d09c",
   "metadata": {},
   "source": [
    "## freqs_cis"
   ]
  }
 ],
 "metadata": {
  "kernelspec": {
   "display_name": "Python 3 (ipykernel)",
   "language": "python",
   "name": "python3"
  },
  "language_info": {
   "codemirror_mode": {
    "name": "ipython",
    "version": 3
   },
   "file_extension": ".py",
   "mimetype": "text/x-python",
   "name": "python",
   "nbconvert_exporter": "python",
   "pygments_lexer": "ipython3",
   "version": "3.10.9"
  },
  "toc": {
   "base_numbering": 1,
   "nav_menu": {},
   "number_sections": true,
   "sideBar": true,
   "skip_h1_title": false,
   "title_cell": "Table of Contents",
   "title_sidebar": "Contents",
   "toc_cell": false,
   "toc_position": {},
   "toc_section_display": true,
   "toc_window_display": false
  }
 },
 "nbformat": 4,
 "nbformat_minor": 5
}
