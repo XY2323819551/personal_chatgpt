{
 "cells": [
  {
   "cell_type": "code",
   "execution_count": 4,
   "id": "827cae09-b0dd-4163-a269-de7db2274e53",
   "metadata": {
    "execution": {
     "iopub.execute_input": "2024-07-15T12:56:19.753450Z",
     "iopub.status.busy": "2024-07-15T12:56:19.752798Z",
     "iopub.status.idle": "2024-07-15T12:56:19.762287Z",
     "shell.execute_reply": "2024-07-15T12:56:19.760498Z",
     "shell.execute_reply.started": "2024-07-15T12:56:19.753405Z"
    }
   },
   "outputs": [],
   "source": [
    "# !wget -c https://cdn-datasets.huggingface.co/EsperBERTo/data/oscar.eo.txt"
   ]
  },
  {
   "cell_type": "markdown",
   "id": "ddca9c4e-46c6-4848-b59c-4da83706de01",
   "metadata": {},
   "source": [
    "## train a tokenizer"
   ]
  },
  {
   "cell_type": "markdown",
   "id": "b1828dab-1320-4bb9-8227-6255f01d9525",
   "metadata": {},
   "source": [
    "- https://colab.research.google.com/github/huggingface/blog/blob/main/notebooks/01_how_to_train.ipynb#scrollTo=hO5M3vrAhcuj"
   ]
  },
  {
   "cell_type": "code",
   "execution_count": 5,
   "id": "8f3e3505-7b94-4df9-92a8-768e120e540d",
   "metadata": {
    "execution": {
     "iopub.execute_input": "2024-07-15T12:57:52.373124Z",
     "iopub.status.busy": "2024-07-15T12:57:52.372520Z",
     "iopub.status.idle": "2024-07-15T12:57:53.258851Z",
     "shell.execute_reply": "2024-07-15T12:57:53.256539Z",
     "shell.execute_reply.started": "2024-07-15T12:57:52.373079Z"
    }
   },
   "outputs": [
    {
     "name": "stdout",
     "output_type": "stream",
     "text": [
      "sentence-transformers                   2.2.2\n",
      "tokenizers                              0.19.1\n",
      "transformers                            4.42.3\n"
     ]
    }
   ],
   "source": [
    "!pip list | grep -E 'transformers|tokenizers'"
   ]
  },
  {
   "cell_type": "code",
   "execution_count": 7,
   "id": "a3c51899-0538-47fd-9e57-dde84bde0bdb",
   "metadata": {
    "execution": {
     "iopub.execute_input": "2024-07-15T12:58:25.989168Z",
     "iopub.status.busy": "2024-07-15T12:58:25.988561Z",
     "iopub.status.idle": "2024-07-15T12:58:25.997479Z",
     "shell.execute_reply": "2024-07-15T12:58:25.995346Z",
     "shell.execute_reply.started": "2024-07-15T12:58:25.989123Z"
    }
   },
   "outputs": [],
   "source": [
    "from tokenizers import ByteLevelBPETokenizer\n",
    "from pathlib import Path"
   ]
  },
  {
   "cell_type": "code",
   "execution_count": 11,
   "id": "49dd0d8c-7478-4bfd-a9db-ebf176a3ff2a",
   "metadata": {
    "execution": {
     "iopub.execute_input": "2024-07-15T12:59:17.440471Z",
     "iopub.status.busy": "2024-07-15T12:59:17.439903Z",
     "iopub.status.idle": "2024-07-15T12:59:17.449406Z",
     "shell.execute_reply": "2024-07-15T12:59:17.447398Z",
     "shell.execute_reply.started": "2024-07-15T12:59:17.440427Z"
    }
   },
   "outputs": [],
   "source": [
    "tokenizer = ByteLevelBPETokenizer()\n",
    "paths = ['./oscar.eo.txt']"
   ]
  },
  {
   "cell_type": "code",
   "execution_count": 12,
   "id": "b0286278-162f-49f5-9c26-0b2a665f0762",
   "metadata": {
    "execution": {
     "iopub.execute_input": "2024-07-15T12:59:33.842170Z",
     "iopub.status.busy": "2024-07-15T12:59:33.841528Z",
     "iopub.status.idle": "2024-07-15T13:00:05.320366Z",
     "shell.execute_reply": "2024-07-15T13:00:05.319023Z",
     "shell.execute_reply.started": "2024-07-15T12:59:33.842125Z"
    }
   },
   "outputs": [
    {
     "name": "stdout",
     "output_type": "stream",
     "text": [
      "\n",
      "\n",
      "\n"
     ]
    }
   ],
   "source": [
    "# cpu \n",
    "tokenizer.train(files=paths, vocab_size=52_000, min_frequency=2, special_tokens=[\n",
    "    \"<s>\",\n",
    "    \"<pad>\",\n",
    "    \"</s>\",\n",
    "    \"<unk>\",\n",
    "    \"<mask>\",\n",
    "])"
   ]
  },
  {
   "cell_type": "code",
   "execution_count": 14,
   "id": "9fd9b92a-8ac4-414b-b2fd-cb441083a843",
   "metadata": {
    "execution": {
     "iopub.execute_input": "2024-07-15T13:00:29.176492Z",
     "iopub.status.busy": "2024-07-15T13:00:29.176258Z",
     "iopub.status.idle": "2024-07-15T13:00:29.203129Z",
     "shell.execute_reply": "2024-07-15T13:00:29.202358Z",
     "shell.execute_reply.started": "2024-07-15T13:00:29.176477Z"
    }
   },
   "outputs": [
    {
     "data": {
      "text/plain": [
       "['EsperBERTo/vocab.json', 'EsperBERTo/merges.txt']"
      ]
     },
     "execution_count": 14,
     "metadata": {},
     "output_type": "execute_result"
    }
   ],
   "source": [
    "tokenizer.save_model(\"EsperBERTo\")\n",
    "\n",
    "# tokenizer = ByteLevelBPETokenizer(\n",
    "#     \"./EsperBERTo/vocab.json\",\n",
    "#     \"./EsperBERTo/merges.txt\",\n",
    "# )"
   ]
  },
  {
   "cell_type": "code",
   "execution_count": 18,
   "id": "a21a394a-ba67-48c6-bd4b-15583ca0ef2f",
   "metadata": {
    "execution": {
     "iopub.execute_input": "2024-07-15T13:02:20.510313Z",
     "iopub.status.busy": "2024-07-15T13:02:20.509860Z",
     "iopub.status.idle": "2024-07-15T13:02:20.521419Z",
     "shell.execute_reply": "2024-07-15T13:02:20.519368Z",
     "shell.execute_reply.started": "2024-07-15T13:02:20.510276Z"
    }
   },
   "outputs": [
    {
     "data": {
      "text/plain": [
       "2"
      ]
     },
     "execution_count": 18,
     "metadata": {},
     "output_type": "execute_result"
    }
   ],
   "source": [
    "tokenizer.token_to_id('</s>')"
   ]
  },
  {
   "cell_type": "code",
   "execution_count": 19,
   "id": "1f0eda07-7aa1-410a-9a76-13116cab67f5",
   "metadata": {
    "execution": {
     "iopub.execute_input": "2024-07-15T13:03:27.425227Z",
     "iopub.status.busy": "2024-07-15T13:03:27.424619Z",
     "iopub.status.idle": "2024-07-15T13:03:27.437592Z",
     "shell.execute_reply": "2024-07-15T13:03:27.435514Z",
     "shell.execute_reply.started": "2024-07-15T13:03:27.425181Z"
    }
   },
   "outputs": [
    {
     "data": {
      "text/plain": [
       "['</s>']"
      ]
     },
     "execution_count": 19,
     "metadata": {},
     "output_type": "execute_result"
    }
   ],
   "source": [
    "tokenizer.encode('</s>').tokens"
   ]
  },
  {
   "cell_type": "code",
   "execution_count": null,
   "id": "51758b89-e2ef-46fd-bd50-d6be029934ce",
   "metadata": {},
   "outputs": [],
   "source": []
  }
 ],
 "metadata": {
  "kernelspec": {
   "display_name": "Python 3 (ipykernel)",
   "language": "python",
   "name": "python3"
  },
  "language_info": {
   "codemirror_mode": {
    "name": "ipython",
    "version": 3
   },
   "file_extension": ".py",
   "mimetype": "text/x-python",
   "name": "python",
   "nbconvert_exporter": "python",
   "pygments_lexer": "ipython3",
   "version": "3.10.13"
  }
 },
 "nbformat": 4,
 "nbformat_minor": 5
}
