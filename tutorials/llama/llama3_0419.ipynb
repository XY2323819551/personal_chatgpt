{
 "cells": [
  {
   "cell_type": "code",
   "execution_count": 2,
   "id": "136da083-bf21-4008-9cbe-afae9a96c49d",
   "metadata": {},
   "outputs": [
    {
     "data": {
      "text/plain": [
       "datetime.datetime(2024, 4, 19, 21, 18, 20, 56121)"
      ]
     },
     "execution_count": 2,
     "metadata": {},
     "output_type": "execute_result"
    }
   ],
   "source": [
    "from datetime import datetime\n",
    "datetime.now()"
   ]
  },
  {
   "cell_type": "code",
   "execution_count": 10,
   "id": "d11a2b9d-2af5-4b6e-bdce-d809abe45a1e",
   "metadata": {},
   "outputs": [],
   "source": [
    "import os\n",
    "os.environ['http_proxy'] = 'http://127.0.0.1:7890'\n",
    "os.environ['https_proxy'] = 'http://127.0.0.1:7890'"
   ]
  },
  {
   "cell_type": "code",
   "execution_count": 12,
   "id": "f6cadddd-deea-45e8-8896-b41d8966ab68",
   "metadata": {},
   "outputs": [],
   "source": [
    "import transformers\n",
    "import torch"
   ]
  },
  {
   "cell_type": "markdown",
   "id": "04e5da65-a28a-4c87-9f5a-f17cbe660d1d",
   "metadata": {},
   "source": [
    "- grant 申请地址（region 不要选 China？）\n",
    "    - meta 原始权重：https://llama.meta.com/llama-downloads/\n",
    "    - hf 版本权重：https://huggingface.co/meta-llama/Meta-Llama-3-8B \n",
    "- meta\n",
    "    - https://ai.meta.com/blog/meta-llama-3/\n",
    "    - https://github.com/meta-llama/llama3\n",
    "- Huggingface\n",
    "    - https://huggingface.co/meta-llama/Meta-Llama-3-8B"
   ]
  },
  {
   "cell_type": "code",
   "execution_count": 24,
   "id": "ee4896f6-c18a-4fc3-95c9-171dbf243939",
   "metadata": {},
   "outputs": [],
   "source": [
    "# !pip install blobfile"
   ]
  },
  {
   "cell_type": "markdown",
   "id": "2994cfad-1f9b-4e95-af90-87b07e1cb381",
   "metadata": {},
   "source": [
    "## basics"
   ]
  },
  {
   "cell_type": "code",
   "execution_count": 8,
   "id": "131b872b-3ec8-4dfe-9a71-bbd090e40e33",
   "metadata": {},
   "outputs": [
    {
     "data": {
      "text/plain": [
       "'8.03B, 14.96GB'"
      ]
     },
     "execution_count": 8,
     "metadata": {},
     "output_type": "execute_result"
    }
   ],
   "source": [
    "'8.03B, {:.2f}GB'.format(8.03 * 1_000_000_000 * 2 / (1024*1024*1024))"
   ]
  },
  {
   "cell_type": "markdown",
   "id": "96a5b41b-ecd9-4469-ab09-73ba8fb8e0fb",
   "metadata": {},
   "source": [
    "|     **model**    | **heads** | **layers** | **dim** | **head_dim** |\n",
    "|------------------|-----------|------------|---------|--------------|\n",
    "| llama2-7b        | 32        | 32         | 4096    | 4096/32      |\n",
    "| llama2-13b       | 40        | 40         | 5120    | 5120/40      |\n",
    "| llama2-70b       | 64        | 80         | 8192    | 8192/64      |"
   ]
  },
  {
   "cell_type": "markdown",
   "id": "94752e36-2ee4-4567-8da1-657a169d403c",
   "metadata": {},
   "source": [
    "### tokenizer"
   ]
  },
  {
   "cell_type": "markdown",
   "id": "25952a1e-1ba0-4901-adac-4feaf3bfd8cc",
   "metadata": {},
   "source": [
    "- `tiktoken` openai 用 Rust 写的 `tiktoken`"
   ]
  },
  {
   "cell_type": "code",
   "execution_count": 19,
   "id": "b5b644b7-6dbd-4258-9b72-8b9bfe8ae5d9",
   "metadata": {},
   "outputs": [
    {
     "data": {
      "text/plain": [
       "32000"
      ]
     },
     "execution_count": 19,
     "metadata": {},
     "output_type": "execute_result"
    }
   ],
   "source": [
    "# llama2\n",
    "from sentencepiece import SentencePieceProcessor\n",
    "sp_model = SentencePieceProcessor(model_file='./llama2_tokenizer.model')\n",
    "sp_model.vocab_size()"
   ]
  },
  {
   "cell_type": "code",
   "execution_count": 27,
   "id": "dd9bdbe9-23de-478d-8353-53c4e5a0754a",
   "metadata": {},
   "outputs": [],
   "source": [
    "# llama3\n",
    "from tokenizer import Tokenizer\n",
    "llama3_tokenizer = Tokenizer('./llama3_tokenizer.model')"
   ]
  },
  {
   "cell_type": "code",
   "execution_count": 28,
   "id": "720d3ad3-c46b-4b31-940d-8e6738232117",
   "metadata": {},
   "outputs": [
    {
     "data": {
      "text/plain": [
       "128256"
      ]
     },
     "execution_count": 28,
     "metadata": {},
     "output_type": "execute_result"
    }
   ],
   "source": [
    "llama3_tokenizer.n_words"
   ]
  },
  {
   "cell_type": "code",
   "execution_count": 29,
   "id": "18f842f9-6b60-40a8-a889-f315fec55211",
   "metadata": {},
   "outputs": [
    {
     "data": {
      "text/plain": [
       "{'<|begin_of_text|>': 128000,\n",
       " '<|end_of_text|>': 128001,\n",
       " '<|reserved_special_token_0|>': 128002,\n",
       " '<|reserved_special_token_1|>': 128003,\n",
       " '<|reserved_special_token_2|>': 128004,\n",
       " '<|reserved_special_token_3|>': 128005,\n",
       " '<|start_header_id|>': 128006,\n",
       " '<|end_header_id|>': 128007,\n",
       " '<|reserved_special_token_4|>': 128008,\n",
       " '<|eot_id|>': 128009,\n",
       " '<|reserved_special_token_5|>': 128010,\n",
       " '<|reserved_special_token_6|>': 128011,\n",
       " '<|reserved_special_token_7|>': 128012,\n",
       " '<|reserved_special_token_8|>': 128013,\n",
       " '<|reserved_special_token_9|>': 128014,\n",
       " '<|reserved_special_token_10|>': 128015,\n",
       " '<|reserved_special_token_11|>': 128016,\n",
       " '<|reserved_special_token_12|>': 128017,\n",
       " '<|reserved_special_token_13|>': 128018,\n",
       " '<|reserved_special_token_14|>': 128019,\n",
       " '<|reserved_special_token_15|>': 128020,\n",
       " '<|reserved_special_token_16|>': 128021,\n",
       " '<|reserved_special_token_17|>': 128022,\n",
       " '<|reserved_special_token_18|>': 128023,\n",
       " '<|reserved_special_token_19|>': 128024,\n",
       " '<|reserved_special_token_20|>': 128025,\n",
       " '<|reserved_special_token_21|>': 128026,\n",
       " '<|reserved_special_token_22|>': 128027,\n",
       " '<|reserved_special_token_23|>': 128028,\n",
       " '<|reserved_special_token_24|>': 128029,\n",
       " '<|reserved_special_token_25|>': 128030,\n",
       " '<|reserved_special_token_26|>': 128031,\n",
       " '<|reserved_special_token_27|>': 128032,\n",
       " '<|reserved_special_token_28|>': 128033,\n",
       " '<|reserved_special_token_29|>': 128034,\n",
       " '<|reserved_special_token_30|>': 128035,\n",
       " '<|reserved_special_token_31|>': 128036,\n",
       " '<|reserved_special_token_32|>': 128037,\n",
       " '<|reserved_special_token_33|>': 128038,\n",
       " '<|reserved_special_token_34|>': 128039,\n",
       " '<|reserved_special_token_35|>': 128040,\n",
       " '<|reserved_special_token_36|>': 128041,\n",
       " '<|reserved_special_token_37|>': 128042,\n",
       " '<|reserved_special_token_38|>': 128043,\n",
       " '<|reserved_special_token_39|>': 128044,\n",
       " '<|reserved_special_token_40|>': 128045,\n",
       " '<|reserved_special_token_41|>': 128046,\n",
       " '<|reserved_special_token_42|>': 128047,\n",
       " '<|reserved_special_token_43|>': 128048,\n",
       " '<|reserved_special_token_44|>': 128049,\n",
       " '<|reserved_special_token_45|>': 128050,\n",
       " '<|reserved_special_token_46|>': 128051,\n",
       " '<|reserved_special_token_47|>': 128052,\n",
       " '<|reserved_special_token_48|>': 128053,\n",
       " '<|reserved_special_token_49|>': 128054,\n",
       " '<|reserved_special_token_50|>': 128055,\n",
       " '<|reserved_special_token_51|>': 128056,\n",
       " '<|reserved_special_token_52|>': 128057,\n",
       " '<|reserved_special_token_53|>': 128058,\n",
       " '<|reserved_special_token_54|>': 128059,\n",
       " '<|reserved_special_token_55|>': 128060,\n",
       " '<|reserved_special_token_56|>': 128061,\n",
       " '<|reserved_special_token_57|>': 128062,\n",
       " '<|reserved_special_token_58|>': 128063,\n",
       " '<|reserved_special_token_59|>': 128064,\n",
       " '<|reserved_special_token_60|>': 128065,\n",
       " '<|reserved_special_token_61|>': 128066,\n",
       " '<|reserved_special_token_62|>': 128067,\n",
       " '<|reserved_special_token_63|>': 128068,\n",
       " '<|reserved_special_token_64|>': 128069,\n",
       " '<|reserved_special_token_65|>': 128070,\n",
       " '<|reserved_special_token_66|>': 128071,\n",
       " '<|reserved_special_token_67|>': 128072,\n",
       " '<|reserved_special_token_68|>': 128073,\n",
       " '<|reserved_special_token_69|>': 128074,\n",
       " '<|reserved_special_token_70|>': 128075,\n",
       " '<|reserved_special_token_71|>': 128076,\n",
       " '<|reserved_special_token_72|>': 128077,\n",
       " '<|reserved_special_token_73|>': 128078,\n",
       " '<|reserved_special_token_74|>': 128079,\n",
       " '<|reserved_special_token_75|>': 128080,\n",
       " '<|reserved_special_token_76|>': 128081,\n",
       " '<|reserved_special_token_77|>': 128082,\n",
       " '<|reserved_special_token_78|>': 128083,\n",
       " '<|reserved_special_token_79|>': 128084,\n",
       " '<|reserved_special_token_80|>': 128085,\n",
       " '<|reserved_special_token_81|>': 128086,\n",
       " '<|reserved_special_token_82|>': 128087,\n",
       " '<|reserved_special_token_83|>': 128088,\n",
       " '<|reserved_special_token_84|>': 128089,\n",
       " '<|reserved_special_token_85|>': 128090,\n",
       " '<|reserved_special_token_86|>': 128091,\n",
       " '<|reserved_special_token_87|>': 128092,\n",
       " '<|reserved_special_token_88|>': 128093,\n",
       " '<|reserved_special_token_89|>': 128094,\n",
       " '<|reserved_special_token_90|>': 128095,\n",
       " '<|reserved_special_token_91|>': 128096,\n",
       " '<|reserved_special_token_92|>': 128097,\n",
       " '<|reserved_special_token_93|>': 128098,\n",
       " '<|reserved_special_token_94|>': 128099,\n",
       " '<|reserved_special_token_95|>': 128100,\n",
       " '<|reserved_special_token_96|>': 128101,\n",
       " '<|reserved_special_token_97|>': 128102,\n",
       " '<|reserved_special_token_98|>': 128103,\n",
       " '<|reserved_special_token_99|>': 128104,\n",
       " '<|reserved_special_token_100|>': 128105,\n",
       " '<|reserved_special_token_101|>': 128106,\n",
       " '<|reserved_special_token_102|>': 128107,\n",
       " '<|reserved_special_token_103|>': 128108,\n",
       " '<|reserved_special_token_104|>': 128109,\n",
       " '<|reserved_special_token_105|>': 128110,\n",
       " '<|reserved_special_token_106|>': 128111,\n",
       " '<|reserved_special_token_107|>': 128112,\n",
       " '<|reserved_special_token_108|>': 128113,\n",
       " '<|reserved_special_token_109|>': 128114,\n",
       " '<|reserved_special_token_110|>': 128115,\n",
       " '<|reserved_special_token_111|>': 128116,\n",
       " '<|reserved_special_token_112|>': 128117,\n",
       " '<|reserved_special_token_113|>': 128118,\n",
       " '<|reserved_special_token_114|>': 128119,\n",
       " '<|reserved_special_token_115|>': 128120,\n",
       " '<|reserved_special_token_116|>': 128121,\n",
       " '<|reserved_special_token_117|>': 128122,\n",
       " '<|reserved_special_token_118|>': 128123,\n",
       " '<|reserved_special_token_119|>': 128124,\n",
       " '<|reserved_special_token_120|>': 128125,\n",
       " '<|reserved_special_token_121|>': 128126,\n",
       " '<|reserved_special_token_122|>': 128127,\n",
       " '<|reserved_special_token_123|>': 128128,\n",
       " '<|reserved_special_token_124|>': 128129,\n",
       " '<|reserved_special_token_125|>': 128130,\n",
       " '<|reserved_special_token_126|>': 128131,\n",
       " '<|reserved_special_token_127|>': 128132,\n",
       " '<|reserved_special_token_128|>': 128133,\n",
       " '<|reserved_special_token_129|>': 128134,\n",
       " '<|reserved_special_token_130|>': 128135,\n",
       " '<|reserved_special_token_131|>': 128136,\n",
       " '<|reserved_special_token_132|>': 128137,\n",
       " '<|reserved_special_token_133|>': 128138,\n",
       " '<|reserved_special_token_134|>': 128139,\n",
       " '<|reserved_special_token_135|>': 128140,\n",
       " '<|reserved_special_token_136|>': 128141,\n",
       " '<|reserved_special_token_137|>': 128142,\n",
       " '<|reserved_special_token_138|>': 128143,\n",
       " '<|reserved_special_token_139|>': 128144,\n",
       " '<|reserved_special_token_140|>': 128145,\n",
       " '<|reserved_special_token_141|>': 128146,\n",
       " '<|reserved_special_token_142|>': 128147,\n",
       " '<|reserved_special_token_143|>': 128148,\n",
       " '<|reserved_special_token_144|>': 128149,\n",
       " '<|reserved_special_token_145|>': 128150,\n",
       " '<|reserved_special_token_146|>': 128151,\n",
       " '<|reserved_special_token_147|>': 128152,\n",
       " '<|reserved_special_token_148|>': 128153,\n",
       " '<|reserved_special_token_149|>': 128154,\n",
       " '<|reserved_special_token_150|>': 128155,\n",
       " '<|reserved_special_token_151|>': 128156,\n",
       " '<|reserved_special_token_152|>': 128157,\n",
       " '<|reserved_special_token_153|>': 128158,\n",
       " '<|reserved_special_token_154|>': 128159,\n",
       " '<|reserved_special_token_155|>': 128160,\n",
       " '<|reserved_special_token_156|>': 128161,\n",
       " '<|reserved_special_token_157|>': 128162,\n",
       " '<|reserved_special_token_158|>': 128163,\n",
       " '<|reserved_special_token_159|>': 128164,\n",
       " '<|reserved_special_token_160|>': 128165,\n",
       " '<|reserved_special_token_161|>': 128166,\n",
       " '<|reserved_special_token_162|>': 128167,\n",
       " '<|reserved_special_token_163|>': 128168,\n",
       " '<|reserved_special_token_164|>': 128169,\n",
       " '<|reserved_special_token_165|>': 128170,\n",
       " '<|reserved_special_token_166|>': 128171,\n",
       " '<|reserved_special_token_167|>': 128172,\n",
       " '<|reserved_special_token_168|>': 128173,\n",
       " '<|reserved_special_token_169|>': 128174,\n",
       " '<|reserved_special_token_170|>': 128175,\n",
       " '<|reserved_special_token_171|>': 128176,\n",
       " '<|reserved_special_token_172|>': 128177,\n",
       " '<|reserved_special_token_173|>': 128178,\n",
       " '<|reserved_special_token_174|>': 128179,\n",
       " '<|reserved_special_token_175|>': 128180,\n",
       " '<|reserved_special_token_176|>': 128181,\n",
       " '<|reserved_special_token_177|>': 128182,\n",
       " '<|reserved_special_token_178|>': 128183,\n",
       " '<|reserved_special_token_179|>': 128184,\n",
       " '<|reserved_special_token_180|>': 128185,\n",
       " '<|reserved_special_token_181|>': 128186,\n",
       " '<|reserved_special_token_182|>': 128187,\n",
       " '<|reserved_special_token_183|>': 128188,\n",
       " '<|reserved_special_token_184|>': 128189,\n",
       " '<|reserved_special_token_185|>': 128190,\n",
       " '<|reserved_special_token_186|>': 128191,\n",
       " '<|reserved_special_token_187|>': 128192,\n",
       " '<|reserved_special_token_188|>': 128193,\n",
       " '<|reserved_special_token_189|>': 128194,\n",
       " '<|reserved_special_token_190|>': 128195,\n",
       " '<|reserved_special_token_191|>': 128196,\n",
       " '<|reserved_special_token_192|>': 128197,\n",
       " '<|reserved_special_token_193|>': 128198,\n",
       " '<|reserved_special_token_194|>': 128199,\n",
       " '<|reserved_special_token_195|>': 128200,\n",
       " '<|reserved_special_token_196|>': 128201,\n",
       " '<|reserved_special_token_197|>': 128202,\n",
       " '<|reserved_special_token_198|>': 128203,\n",
       " '<|reserved_special_token_199|>': 128204,\n",
       " '<|reserved_special_token_200|>': 128205,\n",
       " '<|reserved_special_token_201|>': 128206,\n",
       " '<|reserved_special_token_202|>': 128207,\n",
       " '<|reserved_special_token_203|>': 128208,\n",
       " '<|reserved_special_token_204|>': 128209,\n",
       " '<|reserved_special_token_205|>': 128210,\n",
       " '<|reserved_special_token_206|>': 128211,\n",
       " '<|reserved_special_token_207|>': 128212,\n",
       " '<|reserved_special_token_208|>': 128213,\n",
       " '<|reserved_special_token_209|>': 128214,\n",
       " '<|reserved_special_token_210|>': 128215,\n",
       " '<|reserved_special_token_211|>': 128216,\n",
       " '<|reserved_special_token_212|>': 128217,\n",
       " '<|reserved_special_token_213|>': 128218,\n",
       " '<|reserved_special_token_214|>': 128219,\n",
       " '<|reserved_special_token_215|>': 128220,\n",
       " '<|reserved_special_token_216|>': 128221,\n",
       " '<|reserved_special_token_217|>': 128222,\n",
       " '<|reserved_special_token_218|>': 128223,\n",
       " '<|reserved_special_token_219|>': 128224,\n",
       " '<|reserved_special_token_220|>': 128225,\n",
       " '<|reserved_special_token_221|>': 128226,\n",
       " '<|reserved_special_token_222|>': 128227,\n",
       " '<|reserved_special_token_223|>': 128228,\n",
       " '<|reserved_special_token_224|>': 128229,\n",
       " '<|reserved_special_token_225|>': 128230,\n",
       " '<|reserved_special_token_226|>': 128231,\n",
       " '<|reserved_special_token_227|>': 128232,\n",
       " '<|reserved_special_token_228|>': 128233,\n",
       " '<|reserved_special_token_229|>': 128234,\n",
       " '<|reserved_special_token_230|>': 128235,\n",
       " '<|reserved_special_token_231|>': 128236,\n",
       " '<|reserved_special_token_232|>': 128237,\n",
       " '<|reserved_special_token_233|>': 128238,\n",
       " '<|reserved_special_token_234|>': 128239,\n",
       " '<|reserved_special_token_235|>': 128240,\n",
       " '<|reserved_special_token_236|>': 128241,\n",
       " '<|reserved_special_token_237|>': 128242,\n",
       " '<|reserved_special_token_238|>': 128243,\n",
       " '<|reserved_special_token_239|>': 128244,\n",
       " '<|reserved_special_token_240|>': 128245,\n",
       " '<|reserved_special_token_241|>': 128246,\n",
       " '<|reserved_special_token_242|>': 128247,\n",
       " '<|reserved_special_token_243|>': 128248,\n",
       " '<|reserved_special_token_244|>': 128249,\n",
       " '<|reserved_special_token_245|>': 128250,\n",
       " '<|reserved_special_token_246|>': 128251,\n",
       " '<|reserved_special_token_247|>': 128252,\n",
       " '<|reserved_special_token_248|>': 128253,\n",
       " '<|reserved_special_token_249|>': 128254,\n",
       " '<|reserved_special_token_250|>': 128255}"
      ]
     },
     "execution_count": 29,
     "metadata": {},
     "output_type": "execute_result"
    }
   ],
   "source": [
    "llama3_tokenizer.special_tokens"
   ]
  },
  {
   "cell_type": "markdown",
   "id": "1b973947-e7df-4163-9fef-fb1ad97ba9f3",
   "metadata": {},
   "source": [
    "### performance"
   ]
  },
  {
   "cell_type": "markdown",
   "id": "982f326f-04e0-433e-b494-71dce6e53ad4",
   "metadata": {},
   "source": [
    "- 最强小模型（7B/8B）；\n",
    "    - 对比 Gemma 7B 和 Mistral 7B\n",
    "    - 略低于 llama2 70B"
   ]
  },
  {
   "cell_type": "markdown",
   "id": "ab983832-a92b-4d16-80a0-f742ae85d0ac",
   "metadata": {},
   "source": [
    "### inference"
   ]
  },
  {
   "cell_type": "markdown",
   "id": "ab24adbc-84a5-4bdf-bda3-50c000d41304",
   "metadata": {},
   "source": [
    "- token embedding"
   ]
  },
  {
   "cell_type": "markdown",
   "id": "007dc365-a190-4a94-85c9-193a90fdb2c3",
   "metadata": {},
   "source": [
    "## meta demo"
   ]
  },
  {
   "cell_type": "markdown",
   "id": "db38f97b-bfc1-4f99-88e3-54963ab78b9b",
   "metadata": {},
   "source": [
    "## hf demo"
   ]
  },
  {
   "cell_type": "code",
   "execution_count": 15,
   "id": "534458b7-9210-48dd-b502-c0531e36da2e",
   "metadata": {},
   "outputs": [
    {
     "data": {
      "application/vnd.jupyter.widget-view+json": {
       "model_id": "daa66381604b439389e964a7671ad411",
       "version_major": 2,
       "version_minor": 0
      },
      "text/plain": [
       "Loading checkpoint shards:   0%|          | 0/4 [00:00<?, ?it/s]"
      ]
     },
     "metadata": {},
     "output_type": "display_data"
    },
    {
     "name": "stderr",
     "output_type": "stream",
     "text": [
      "Special tokens have been added in the vocabulary, make sure the associated word embeddings are fine-tuned or trained.\n",
      "Setting `pad_token_id` to `eos_token_id`:128001 for open-end generation.\n",
      "/home/whaow/workspaces/learning/transformers/src/transformers/generation/utils.py:1384: UserWarning: Using the model-agnostic default `max_length` (=20) to control the generation length. We recommend setting `max_new_tokens` to control the maximum length of the generation.\n",
      "  warnings.warn(\n"
     ]
    },
    {
     "data": {
      "text/plain": [
       "[{'generated_text': 'Hey how are you doing today? I am doing well. I am a little bit tired because I'}]"
      ]
     },
     "execution_count": 15,
     "metadata": {},
     "output_type": "execute_result"
    }
   ],
   "source": [
    "model_id = \"meta-llama/Meta-Llama-3-8B\"\n",
    "\n",
    "# model-00001-of-00004.safetensors\n",
    "# model-00002-of-00004.safetensors\n",
    "# model-00003-of-00004.safetensors\n",
    "# model-00004-of-00004.safetensors\n",
    "pipeline = transformers.pipeline(\"text-generation\", \n",
    "                                 model=model_id, \n",
    "                                 model_kwargs={\"torch_dtype\": torch.bfloat16}, \n",
    "                                 device_map=\"auto\")\n",
    "pipeline(\"Hey how are you doing today?\")"
   ]
  }
 ],
 "metadata": {
  "kernelspec": {
   "display_name": "Python 3 (ipykernel)",
   "language": "python",
   "name": "python3"
  },
  "language_info": {
   "codemirror_mode": {
    "name": "ipython",
    "version": 3
   },
   "file_extension": ".py",
   "mimetype": "text/x-python",
   "name": "python",
   "nbconvert_exporter": "python",
   "pygments_lexer": "ipython3",
   "version": "3.10.13"
  }
 },
 "nbformat": 4,
 "nbformat_minor": 5
}
