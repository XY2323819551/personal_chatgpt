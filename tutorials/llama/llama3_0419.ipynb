{
 "cells": [
  {
   "cell_type": "code",
   "execution_count": 2,
   "id": "136da083-bf21-4008-9cbe-afae9a96c49d",
   "metadata": {},
   "outputs": [
    {
     "data": {
      "text/plain": [
       "datetime.datetime(2024, 4, 19, 21, 18, 20, 56121)"
      ]
     },
     "execution_count": 2,
     "metadata": {},
     "output_type": "execute_result"
    }
   ],
   "source": [
    "from datetime import datetime\n",
    "datetime.now()"
   ]
  },
  {
   "cell_type": "code",
   "execution_count": 10,
   "id": "d11a2b9d-2af5-4b6e-bdce-d809abe45a1e",
   "metadata": {},
   "outputs": [],
   "source": [
    "import os\n",
    "os.environ['http_proxy'] = 'http://127.0.0.1:7890'\n",
    "os.environ['https_proxy'] = 'http://127.0.0.1:7890'"
   ]
  },
  {
   "cell_type": "code",
   "execution_count": 12,
   "id": "f6cadddd-deea-45e8-8896-b41d8966ab68",
   "metadata": {},
   "outputs": [],
   "source": [
    "import transformers\n",
    "import torch"
   ]
  },
  {
   "cell_type": "markdown",
   "id": "04e5da65-a28a-4c87-9f5a-f17cbe660d1d",
   "metadata": {},
   "source": [
    "- grant 申请地址（region 不要选 China？）\n",
    "    - meta 原始权重：https://llama.meta.com/llama-downloads/\n",
    "    - hf 版本权重：https://huggingface.co/meta-llama/Meta-Llama-3-8B \n",
    "- meta\n",
    "    - https://ai.meta.com/blog/meta-llama-3/\n",
    "    - https://github.com/meta-llama/llama3\n",
    "- Huggingface\n",
    "    - https://huggingface.co/meta-llama/Meta-Llama-3-8B"
   ]
  },
  {
   "cell_type": "markdown",
   "id": "2994cfad-1f9b-4e95-af90-87b07e1cb381",
   "metadata": {},
   "source": [
    "## basics"
   ]
  },
  {
   "cell_type": "code",
   "execution_count": 8,
   "id": "131b872b-3ec8-4dfe-9a71-bbd090e40e33",
   "metadata": {},
   "outputs": [
    {
     "data": {
      "text/plain": [
       "'8.03B, 14.96GB'"
      ]
     },
     "execution_count": 8,
     "metadata": {},
     "output_type": "execute_result"
    }
   ],
   "source": [
    "'8.03B, {:.2f}GB'.format(8.03 * 1_000_000_000 * 2 / (1024*1024*1024))"
   ]
  },
  {
   "cell_type": "markdown",
   "id": "96a5b41b-ecd9-4469-ab09-73ba8fb8e0fb",
   "metadata": {},
   "source": [
    "|     **model**    | **heads** | **layers** | **dim** | **head_dim** |\n",
    "|------------------|-----------|------------|---------|--------------|\n",
    "| llama2-7b        | 32        | 32         | 4096    | 4096/32      |\n",
    "| llama2-13b       | 40        | 40         | 5120    | 5120/40      |\n",
    "| llama2-70b       | 64        | 80         | 8192    | 8192/64      |"
   ]
  },
  {
   "cell_type": "markdown",
   "id": "94752e36-2ee4-4567-8da1-657a169d403c",
   "metadata": {},
   "source": [
    "### tokenizer"
   ]
  },
  {
   "cell_type": "code",
   "execution_count": 19,
   "id": "b5b644b7-6dbd-4258-9b72-8b9bfe8ae5d9",
   "metadata": {},
   "outputs": [
    {
     "data": {
      "text/plain": [
       "32000"
      ]
     },
     "execution_count": 19,
     "metadata": {},
     "output_type": "execute_result"
    }
   ],
   "source": [
    "# llama2\n",
    "from sentencepiece import SentencePieceProcessor\n",
    "sp_model = SentencePieceProcessor(model_file='./llama2_tokenizer.model')\n",
    "sp_model.vocab_size()"
   ]
  },
  {
   "cell_type": "code",
   "execution_count": 20,
   "id": "dd9bdbe9-23de-478d-8353-53c4e5a0754a",
   "metadata": {},
   "outputs": [],
   "source": [
    "# llama3"
   ]
  },
  {
   "cell_type": "markdown",
   "id": "1b973947-e7df-4163-9fef-fb1ad97ba9f3",
   "metadata": {
    "jp-MarkdownHeadingCollapsed": true
   },
   "source": [
    "### performance"
   ]
  },
  {
   "cell_type": "markdown",
   "id": "982f326f-04e0-433e-b494-71dce6e53ad4",
   "metadata": {},
   "source": [
    "- 最强小模型（7B/8B）；\n",
    "    - 对比 Gemma 7B 和 Mistral 7B\n",
    "    - 略低于 llama2 70B"
   ]
  },
  {
   "cell_type": "markdown",
   "id": "ab983832-a92b-4d16-80a0-f742ae85d0ac",
   "metadata": {},
   "source": [
    "### inference"
   ]
  },
  {
   "cell_type": "markdown",
   "id": "ab24adbc-84a5-4bdf-bda3-50c000d41304",
   "metadata": {},
   "source": [
    "- token embedding"
   ]
  },
  {
   "cell_type": "markdown",
   "id": "007dc365-a190-4a94-85c9-193a90fdb2c3",
   "metadata": {},
   "source": [
    "## meta demo"
   ]
  },
  {
   "cell_type": "markdown",
   "id": "db38f97b-bfc1-4f99-88e3-54963ab78b9b",
   "metadata": {},
   "source": [
    "## hf demo"
   ]
  },
  {
   "cell_type": "code",
   "execution_count": 15,
   "id": "534458b7-9210-48dd-b502-c0531e36da2e",
   "metadata": {},
   "outputs": [
    {
     "data": {
      "application/vnd.jupyter.widget-view+json": {
       "model_id": "daa66381604b439389e964a7671ad411",
       "version_major": 2,
       "version_minor": 0
      },
      "text/plain": [
       "Loading checkpoint shards:   0%|          | 0/4 [00:00<?, ?it/s]"
      ]
     },
     "metadata": {},
     "output_type": "display_data"
    },
    {
     "name": "stderr",
     "output_type": "stream",
     "text": [
      "Special tokens have been added in the vocabulary, make sure the associated word embeddings are fine-tuned or trained.\n",
      "Setting `pad_token_id` to `eos_token_id`:128001 for open-end generation.\n",
      "/home/whaow/workspaces/learning/transformers/src/transformers/generation/utils.py:1384: UserWarning: Using the model-agnostic default `max_length` (=20) to control the generation length. We recommend setting `max_new_tokens` to control the maximum length of the generation.\n",
      "  warnings.warn(\n"
     ]
    },
    {
     "data": {
      "text/plain": [
       "[{'generated_text': 'Hey how are you doing today? I am doing well. I am a little bit tired because I'}]"
      ]
     },
     "execution_count": 15,
     "metadata": {},
     "output_type": "execute_result"
    }
   ],
   "source": [
    "model_id = \"meta-llama/Meta-Llama-3-8B\"\n",
    "\n",
    "# model-00001-of-00004.safetensors\n",
    "# model-00002-of-00004.safetensors\n",
    "# model-00003-of-00004.safetensors\n",
    "# model-00004-of-00004.safetensors\n",
    "pipeline = transformers.pipeline(\"text-generation\", \n",
    "                                 model=model_id, \n",
    "                                 model_kwargs={\"torch_dtype\": torch.bfloat16}, \n",
    "                                 device_map=\"auto\")\n",
    "pipeline(\"Hey how are you doing today?\")"
   ]
  }
 ],
 "metadata": {
  "kernelspec": {
   "display_name": "Python 3 (ipykernel)",
   "language": "python",
   "name": "python3"
  },
  "language_info": {
   "codemirror_mode": {
    "name": "ipython",
    "version": 3
   },
   "file_extension": ".py",
   "mimetype": "text/x-python",
   "name": "python",
   "nbconvert_exporter": "python",
   "pygments_lexer": "ipython3",
   "version": "3.10.13"
  }
 },
 "nbformat": 4,
 "nbformat_minor": 5
}
