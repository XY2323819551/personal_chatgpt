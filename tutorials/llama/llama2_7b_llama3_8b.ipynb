{
 "cells": [
  {
   "cell_type": "code",
   "execution_count": 2,
   "id": "0c3d9529-3ccf-4c5a-90cd-254ec485b3c6",
   "metadata": {
    "execution": {
     "iopub.execute_input": "2024-07-13T05:14:46.803554Z",
     "iopub.status.busy": "2024-07-13T05:14:46.802917Z",
     "iopub.status.idle": "2024-07-13T05:14:46.814004Z",
     "shell.execute_reply": "2024-07-13T05:14:46.811892Z",
     "shell.execute_reply.started": "2024-07-13T05:14:46.803506Z"
    }
   },
   "outputs": [],
   "source": [
    "import transformers\n",
    "import torch\n",
    "from transformers import AutoModelForCausalLM\n",
    "\n",
    "from IPython.display import Image\n",
    "import os\n",
    "os.environ['http_proxy'] = 'http://127.0.0.1:7890'\n",
    "os.environ['https_proxy'] = 'http://127.0.0.1:7890'"
   ]
  },
  {
   "cell_type": "markdown",
   "id": "4955fc37-c7b6-4019-9a76-3a8c91a279ba",
   "metadata": {},
   "source": [
    "## huggingface "
   ]
  },
  {
   "cell_type": "markdown",
   "id": "bc326c01-5d29-4b4f-9bb8-19de4897a1a0",
   "metadata": {},
   "source": [
    "- attention mechanism （Transformer 最特色的）\n",
    "    - $X\\in\\mathbb R^{\\ell\\times d}$\n",
    "    - $W_k\\in\\mathbb R^{d\\times d_k},W_q\\in\\mathbb R^{d\\times d_k},W_v\\in\\mathbb R^{d\\times d_v}$\n",
    "    - $Q=XW_q\\in\\mathbb R^{\\ell\\times d_k}, K=XW_k\\in\\mathbb R^{\\ell\\times d_k}, V=XW_v\\in\\mathbb R^{\\ell\\times d_v}$\n",
    "\n",
    "$$\n",
    "\\text{Attention}(Q,K,V)=\\text{softmax}\\left(\\frac{QK^T}{\\sqrt{d_k}}\\right)V\n",
    "$$\n",
    "\n",
    "$$\n",
    "A_{ij}=\\frac{\\exp(\\frac{q^T_ik_j}{\\sqrt{d_k}})}{\\sum_{j'}\\exp(\\frac{q^T_ik_{j'}}{\\sqrt{d_k}})}\n",
    "$$\n"
   ]
  },
  {
   "cell_type": "code",
   "execution_count": 6,
   "id": "68a68dcf-7430-419f-9a3a-7757e48d9a5d",
   "metadata": {
    "execution": {
     "iopub.execute_input": "2024-07-13T05:17:10.636310Z",
     "iopub.status.busy": "2024-07-13T05:17:10.635673Z",
     "iopub.status.idle": "2024-07-13T05:17:10.648406Z",
     "shell.execute_reply": "2024-07-13T05:17:10.646567Z",
     "shell.execute_reply.started": "2024-07-13T05:17:10.636263Z"
    }
   },
   "outputs": [
    {
     "data": {
      "text/html": [
       "<img src=\"https://pbs.twimg.com/media/FzjhZk5X0AYAs_-?format=jpg&name=4096x4096\" width=\"500\"/>"
      ],
      "text/plain": [
       "<IPython.core.display.Image object>"
      ]
     },
     "execution_count": 6,
     "metadata": {},
     "output_type": "execute_result"
    }
   ],
   "source": [
    "# quality & computation efficiency\n",
    "Image(url='https://pbs.twimg.com/media/FzjhZk5X0AYAs_-?format=jpg&name=4096x4096', width=500)"
   ]
  },
  {
   "cell_type": "markdown",
   "id": "96e4a029-d245-42a2-b303-4d1b0ccdbdb0",
   "metadata": {},
   "source": [
    "```\n",
    "# self attn\n",
    "self.q_proj = nn.Linear(self.hidden_size, self.num_heads * self.head_dim, bias=config.attention_bias)\n",
    "# GQA，llama2: 8*128 = 1024\n",
    "# GQA，llama3: 32*(4096/32) = 1024\n",
    "self.k_proj = nn.Linear(self.hidden_size, self.num_key_value_heads * self.head_dim, bias=config.attention_bias)\n",
    "self.v_proj = nn.Linear(self.hidden_size, self.num_key_value_heads * self.head_dim, bias=config.attention_bias)\n",
    "self.o_proj = nn.Linear(self.hidden_size, self.hidden_size, bias=config.attention_bias)\n",
    "\n",
    "# GQA\n",
    "# llama2: 32/32\n",
    "# llama3: 32/8 = 4, 4对1\n",
    "self.num_key_value_groups = self.num_heads // self.num_key_value_heads\n",
    "\n",
    "# mlp\n",
    "self.gate_proj = nn.Linear(self.hidden_size, self.intermediate_size, bias=config.mlp_bias)\n",
    "self.up_proj = nn.Linear(self.hidden_size, self.intermediate_size, bias=config.mlp_bias)\n",
    "self.down_proj = nn.Linear(self.intermediate_size, self.hidden_size, bias=config.mlp_bias)\n",
    "```"
   ]
  },
  {
   "cell_type": "code",
   "execution_count": 7,
   "id": "df505404-acbd-4aa2-b368-f2d36ea5e5a1",
   "metadata": {
    "execution": {
     "iopub.execute_input": "2024-07-13T05:17:13.262003Z",
     "iopub.status.busy": "2024-07-13T05:17:13.261335Z",
     "iopub.status.idle": "2024-07-13T05:17:13.269418Z",
     "shell.execute_reply": "2024-07-13T05:17:13.268002Z",
     "shell.execute_reply.started": "2024-07-13T05:17:13.261956Z"
    }
   },
   "outputs": [],
   "source": [
    "llama2_id = 'meta-llama/Llama-2-7b-hf'\n",
    "llama3_id = \"meta-llama/Meta-Llama-3-8B\""
   ]
  },
  {
   "cell_type": "markdown",
   "id": "94342b9e-5d2a-4418-9489-4e7c1f08e625",
   "metadata": {},
   "source": [
    "|     **model**    | **heads** | **layers** | **dim** | **head_dim** |\n",
    "|------------------|-----------|------------|---------|--------------|\n",
    "| llama2-7b        | 32        | 32         | 4096    | 4096/32      |\n",
    "| llama2-13b       | 40        | 40         | 5120    | 5120/40      |\n",
    "| llama2-70b       | 64        | 80         | 8192    | 8192/64      |\n",
    "\n",
    "|     **model**    | **heads** | **layers** | **dim** | **head_dim** |\n",
    "|------------------|-----------|------------|---------|--------------|\n",
    "| llama3-8b        | 32        | 32         | 4096    | 4096/32      |\n",
    "\n",
    "-  vocab_size (Embedding):\n",
    "    - llama2: 32000\n",
    "    - llama3: 128256\n",
    "- GQA (k_proj, v_proj)\n",
    "    - head_dim: hidden_size/num_heads\n",
    "        - llama2: 4096/32 = 128\n",
    "        - llama3: 4096/32 = 128\n",
    "    - llama2: **32***(4096/32) = 4096\n",
    "    - llama3: 8*128 = 1024 (k_proj, v_proj 可以看到一个 learnable parameters 的一个降低)"
   ]
  },
  {
   "cell_type": "code",
   "execution_count": 7,
   "id": "521b7fa4-0678-4056-b035-c08266d2d691",
   "metadata": {
    "execution": {
     "iopub.execute_input": "2024-07-13T04:37:48.952985Z",
     "iopub.status.busy": "2024-07-13T04:37:48.952416Z",
     "iopub.status.idle": "2024-07-13T04:38:22.401307Z",
     "shell.execute_reply": "2024-07-13T04:38:22.399900Z",
     "shell.execute_reply.started": "2024-07-13T04:37:48.952946Z"
    }
   },
   "outputs": [
    {
     "data": {
      "application/vnd.jupyter.widget-view+json": {
       "model_id": "67299d84efbf4c8ab28a0a0fd0f3a648",
       "version_major": 2,
       "version_minor": 0
      },
      "text/plain": [
       "Loading checkpoint shards:   0%|          | 0/2 [00:00<?, ?it/s]"
      ]
     },
     "metadata": {},
     "output_type": "display_data"
    },
    {
     "name": "stderr",
     "output_type": "stream",
     "text": [
      "We've detected an older driver with an RTX 4000 series GPU. These drivers have issues with P2P. This can affect the multi-gpu inference when using accelerate device_map.Please make sure to update your driver to the latest version which resolves this.\n"
     ]
    }
   ],
   "source": [
    "# 7b => 14GB\n",
    "llama2 = AutoModelForCausalLM.from_pretrained(llama2_id, torch_dtype=torch.bfloat16, device_map='auto')"
   ]
  },
  {
   "cell_type": "code",
   "execution_count": 9,
   "id": "4ac01aac-e02a-4309-837d-a9d70e5d61cc",
   "metadata": {
    "execution": {
     "iopub.execute_input": "2024-07-13T04:39:04.276270Z",
     "iopub.status.busy": "2024-07-13T04:39:04.274976Z",
     "iopub.status.idle": "2024-07-13T04:39:04.291995Z",
     "shell.execute_reply": "2024-07-13T04:39:04.289979Z",
     "shell.execute_reply.started": "2024-07-13T04:39:04.276223Z"
    }
   },
   "outputs": [
    {
     "data": {
      "text/plain": [
       "LlamaForCausalLM(\n",
       "  (model): LlamaModel(\n",
       "    (embed_tokens): Embedding(32000, 4096)\n",
       "    (layers): ModuleList(\n",
       "      (0-31): 32 x LlamaDecoderLayer(\n",
       "        (self_attn): LlamaSdpaAttention(\n",
       "          (q_proj): Linear(in_features=4096, out_features=4096, bias=False)\n",
       "          (k_proj): Linear(in_features=4096, out_features=4096, bias=False)\n",
       "          (v_proj): Linear(in_features=4096, out_features=4096, bias=False)\n",
       "          (o_proj): Linear(in_features=4096, out_features=4096, bias=False)\n",
       "          (rotary_emb): LlamaRotaryEmbedding()\n",
       "        )\n",
       "        (mlp): LlamaMLP(\n",
       "          (gate_proj): Linear(in_features=4096, out_features=11008, bias=False)\n",
       "          (up_proj): Linear(in_features=4096, out_features=11008, bias=False)\n",
       "          (down_proj): Linear(in_features=11008, out_features=4096, bias=False)\n",
       "          (act_fn): SiLU()\n",
       "        )\n",
       "        (input_layernorm): LlamaRMSNorm()\n",
       "        (post_attention_layernorm): LlamaRMSNorm()\n",
       "      )\n",
       "    )\n",
       "    (norm): LlamaRMSNorm()\n",
       "  )\n",
       "  (lm_head): Linear(in_features=4096, out_features=32000, bias=False)\n",
       ")"
      ]
     },
     "execution_count": 9,
     "metadata": {},
     "output_type": "execute_result"
    }
   ],
   "source": [
    "llama2"
   ]
  },
  {
   "cell_type": "code",
   "execution_count": 8,
   "id": "3af87926-e879-4a3b-b652-7a2c2c0b6de8",
   "metadata": {
    "execution": {
     "iopub.execute_input": "2024-07-13T04:38:43.335142Z",
     "iopub.status.busy": "2024-07-13T04:38:43.334268Z",
     "iopub.status.idle": "2024-07-13T04:38:57.147326Z",
     "shell.execute_reply": "2024-07-13T04:38:57.146363Z",
     "shell.execute_reply.started": "2024-07-13T04:38:43.335083Z"
    }
   },
   "outputs": [
    {
     "data": {
      "application/vnd.jupyter.widget-view+json": {
       "model_id": "f172c6bbcc494978b2d7fb4c37fb0e27",
       "version_major": 2,
       "version_minor": 0
      },
      "text/plain": [
       "Loading checkpoint shards:   0%|          | 0/4 [00:00<?, ?it/s]"
      ]
     },
     "metadata": {},
     "output_type": "display_data"
    },
    {
     "name": "stderr",
     "output_type": "stream",
     "text": [
      "We've detected an older driver with an RTX 4000 series GPU. These drivers have issues with P2P. This can affect the multi-gpu inference when using accelerate device_map.Please make sure to update your driver to the latest version which resolves this.\n"
     ]
    }
   ],
   "source": [
    "llama3 = AutoModelForCausalLM.from_pretrained(llama3_id, torch_dtype=torch.bfloat16, device_map='auto')"
   ]
  },
  {
   "cell_type": "code",
   "execution_count": 10,
   "id": "345c7c7e-290c-460a-a38d-df5a9545274d",
   "metadata": {
    "execution": {
     "iopub.execute_input": "2024-07-13T04:39:09.485928Z",
     "iopub.status.busy": "2024-07-13T04:39:09.485250Z",
     "iopub.status.idle": "2024-07-13T04:39:09.502495Z",
     "shell.execute_reply": "2024-07-13T04:39:09.500384Z",
     "shell.execute_reply.started": "2024-07-13T04:39:09.485879Z"
    }
   },
   "outputs": [
    {
     "data": {
      "text/plain": [
       "LlamaForCausalLM(\n",
       "  (model): LlamaModel(\n",
       "    (embed_tokens): Embedding(128256, 4096)\n",
       "    (layers): ModuleList(\n",
       "      (0-31): 32 x LlamaDecoderLayer(\n",
       "        (self_attn): LlamaSdpaAttention(\n",
       "          (q_proj): Linear(in_features=4096, out_features=4096, bias=False)\n",
       "          (k_proj): Linear(in_features=4096, out_features=1024, bias=False)\n",
       "          (v_proj): Linear(in_features=4096, out_features=1024, bias=False)\n",
       "          (o_proj): Linear(in_features=4096, out_features=4096, bias=False)\n",
       "          (rotary_emb): LlamaRotaryEmbedding()\n",
       "        )\n",
       "        (mlp): LlamaMLP(\n",
       "          (gate_proj): Linear(in_features=4096, out_features=14336, bias=False)\n",
       "          (up_proj): Linear(in_features=4096, out_features=14336, bias=False)\n",
       "          (down_proj): Linear(in_features=14336, out_features=4096, bias=False)\n",
       "          (act_fn): SiLU()\n",
       "        )\n",
       "        (input_layernorm): LlamaRMSNorm()\n",
       "        (post_attention_layernorm): LlamaRMSNorm()\n",
       "      )\n",
       "    )\n",
       "    (norm): LlamaRMSNorm()\n",
       "  )\n",
       "  (lm_head): Linear(in_features=4096, out_features=128256, bias=False)\n",
       ")"
      ]
     },
     "execution_count": 10,
     "metadata": {},
     "output_type": "execute_result"
    }
   ],
   "source": [
    "llama3"
   ]
  },
  {
   "cell_type": "code",
   "execution_count": null,
   "id": "ef01a56d-076f-4d9c-839d-ff5261f8ce45",
   "metadata": {},
   "outputs": [],
   "source": []
  }
 ],
 "metadata": {
  "kernelspec": {
   "display_name": "Python 3 (ipykernel)",
   "language": "python",
   "name": "python3"
  },
  "language_info": {
   "codemirror_mode": {
    "name": "ipython",
    "version": 3
   },
   "file_extension": ".py",
   "mimetype": "text/x-python",
   "name": "python",
   "nbconvert_exporter": "python",
   "pygments_lexer": "ipython3",
   "version": "3.10.13"
  }
 },
 "nbformat": 4,
 "nbformat_minor": 5
}
