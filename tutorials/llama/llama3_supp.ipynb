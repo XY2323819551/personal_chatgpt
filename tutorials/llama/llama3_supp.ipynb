{
 "cells": [
  {
   "cell_type": "markdown",
   "id": "cb173ebd-83a9-4ff5-9a79-eba126781a96",
   "metadata": {},
   "source": [
    "## config"
   ]
  },
  {
   "cell_type": "markdown",
   "id": "c4dd72fd-312e-4cdc-b9d7-4cd73520863e",
   "metadata": {},
   "source": [
    "- Meta-Llama-3-8B\n",
    "\n",
    "```\n",
    "{\n",
    "   \"dim\": 4096,\n",
    "    \"n_layers\": 32,\n",
    "    \"n_heads\": 32,\n",
    "    \"n_kv_heads\": 8,\n",
    "    \"vocab_size\": 128256,\n",
    "    \"multiple_of\": 1024,\n",
    "    \"ffn_dim_multiplier\": 1.3,\n",
    "    \"norm_eps\": 1e-05,\n",
    "    \"rope_theta\": 500000.0\n",
    "}\n",
    "```\n",
    "\n",
    "- rope_theta: base\n",
    "    - $5\\times 10^{5}$"
   ]
  }
 ],
 "metadata": {
  "kernelspec": {
   "display_name": "Python 3 (ipykernel)",
   "language": "python",
   "name": "python3"
  },
  "language_info": {
   "codemirror_mode": {
    "name": "ipython",
    "version": 3
   },
   "file_extension": ".py",
   "mimetype": "text/x-python",
   "name": "python",
   "nbconvert_exporter": "python",
   "pygments_lexer": "ipython3",
   "version": "3.10.13"
  }
 },
 "nbformat": 4,
 "nbformat_minor": 5
}
