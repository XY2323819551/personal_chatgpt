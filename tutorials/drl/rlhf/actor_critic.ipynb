{
 "cells": [
  {
   "cell_type": "markdown",
   "id": "b9b7abb0-84e7-4527-b573-3e739ce4835a",
   "metadata": {},
   "source": [
    "- https://towardsdatascience.com/understanding-actor-critic-methods-931b97b6df3f"
   ]
  }
 ],
 "metadata": {
  "kernelspec": {
   "display_name": "Python 3 (ipykernel)",
   "language": "python",
   "name": "python3"
  },
  "language_info": {
   "codemirror_mode": {
    "name": "ipython",
    "version": 3
   },
   "file_extension": ".py",
   "mimetype": "text/x-python",
   "name": "python",
   "nbconvert_exporter": "python",
   "pygments_lexer": "ipython3",
   "version": "3.10.13"
  }
 },
 "nbformat": 4,
 "nbformat_minor": 5
}
