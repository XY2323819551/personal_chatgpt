{
 "cells": [
  {
   "cell_type": "markdown",
   "id": "8485461d-4a06-449f-9362-64b162752a5e",
   "metadata": {},
   "source": [
    "- references\n",
    "    - https://github.com/DeepRLChinese/DeepRL-Chinese/blob/master/09_trpo.py"
   ]
  },
  {
   "cell_type": "code",
   "execution_count": 11,
   "id": "55b6cc61-c879-4362-b8fe-5d25fbc372b4",
   "metadata": {},
   "outputs": [],
   "source": [
    "import torch\n",
    "from torch import nn\n",
    "from collections import Counter\n",
    "from torch.distributions.categorical import Categorical"
   ]
  },
  {
   "cell_type": "code",
   "execution_count": 36,
   "id": "c83a9535-4eb6-459e-a2c7-b080eaaa19f1",
   "metadata": {},
   "outputs": [
    {
     "name": "stdout",
     "output_type": "stream",
     "text": [
      "Counter({0: 143, 2: 122, 1: 119, 3: 116})\n",
      "Counter({1: 138, 0: 137, 3: 113, 2: 112})\n"
     ]
    }
   ],
   "source": [
    "# 类别型概率分布的采样\n",
    "c = Counter()\n",
    "m = Categorical(probs=torch.tensor([0.25, 0.25, 0.25, 0.25]))\n",
    "for _ in range(500):\n",
    "    c.update([m.sample().numpy().tolist()])\n",
    "print(c)\n",
    "print(Counter(m.sample((500, )).numpy().tolist()))"
   ]
  },
  {
   "cell_type": "code",
   "execution_count": 2,
   "id": "32f284ce-21c7-47d6-8826-ed02d088933c",
   "metadata": {},
   "outputs": [],
   "source": [
    "class CategoricalLayer(nn.Module):\n",
    "    \"\"\"\n",
    "    Implements a layer that outputs a multinomial distribution\n",
    "    Methods\n",
    "    ------\n",
    "    __call__(log_action_probs)\n",
    "        Takes as input log probabilities and outputs a pytorch multinomail\n",
    "        distribution\n",
    "    \"\"\"\n",
    "\n",
    "    def __init__(self):\n",
    "        super().__init__()\n",
    "\n",
    "    def __call__(self, log_action_probs):\n",
    "        return Categorical(logits=log_action_probs)"
   ]
  },
  {
   "cell_type": "code",
   "execution_count": null,
   "id": "994433f1-8d3c-413b-b163-4baa1b6b741b",
   "metadata": {},
   "outputs": [],
   "source": [
    "class PolicyNet(nn.Module):\n",
    "    def __init__(self, dim_obs, num_act):\n",
    "        super().__init__()\n",
    "        self.fc1 = nn.Linear(dim_obs, 64)\n",
    "        self.fc2 = nn.Linear(64, 32)\n",
    "        self.fc3 = nn.Linear(32, num_act)\n",
    "        self.log_softmax = nn.LogSoftmax(dim=-1)\n",
    "        self.categorical = CategoricalLayer()\n",
    "\n",
    "    def forward(self, obs):\n",
    "        x = F.relu(self.fc1(obs))\n",
    "        x = F.relu(self.fc2(x))\n",
    "        x = self.fc3(x)  # logits\n",
    "        x = self.log_softmax(x)\n",
    "        x = self.categorical(x)\n",
    "        return x"
   ]
  }
 ],
 "metadata": {
  "kernelspec": {
   "display_name": "Python 3 (ipykernel)",
   "language": "python",
   "name": "python3"
  },
  "language_info": {
   "codemirror_mode": {
    "name": "ipython",
    "version": 3
   },
   "file_extension": ".py",
   "mimetype": "text/x-python",
   "name": "python",
   "nbconvert_exporter": "python",
   "pygments_lexer": "ipython3",
   "version": "3.10.13"
  }
 },
 "nbformat": 4,
 "nbformat_minor": 5
}
