{
 "cells": [
  {
   "cell_type": "markdown",
   "id": "889918cf-f838-436c-b92f-36ad91f0ae47",
   "metadata": {},
   "source": [
    "- DQN (2014)\n",
    "    - unstable & offline method\n",
    "- TRPO（2015）: Trust Region Policy Optimization\n",
    "- PPO "
   ]
  },
  {
   "cell_type": "code",
   "execution_count": 1,
   "id": "2ba15441-f63b-4185-93dc-4fd43c21f9dc",
   "metadata": {},
   "outputs": [],
   "source": [
    "from IPython.display import Image"
   ]
  },
  {
   "cell_type": "markdown",
   "id": "3304b462-c52b-413c-8537-bfcc7ec43928",
   "metadata": {},
   "source": [
    "- references\n",
    "    - https://medium.com/@vladogim97/trpo-minimal-pytorch-implementation-859e46c4232e\n",
    "    - https://github.com/DeepRLChinese/DeepRL-Chinese/blob/master/09_trpo.py\n",
    "    - https://jonathan-hui.medium.com/rl-the-math-behind-trpo-ppo-d12f6c745f33"
   ]
  },
  {
   "cell_type": "markdown",
   "id": "f2de7a84-bd76-48eb-a472-6521fcae8abc",
   "metadata": {},
   "source": [
    "## policy gradient algorithm"
   ]
  },
  {
   "cell_type": "code",
   "execution_count": 6,
   "id": "1a959217-a1fe-4b0f-a8f9-9ff6043bdfa3",
   "metadata": {},
   "outputs": [
    {
     "data": {
      "text/html": [
       "<img src=\"https://miro.medium.com/v2/resize:fit:1400/format:webp/1*WsqKFAmxvmIrLW1Z7CoHFA.png\" width=\"400\"/>"
      ],
      "text/plain": [
       "<IPython.core.display.Image object>"
      ]
     },
     "execution_count": 6,
     "metadata": {},
     "output_type": "execute_result"
    }
   ],
   "source": [
    "Image(url='https://miro.medium.com/v2/resize:fit:1400/format:webp/1*WsqKFAmxvmIrLW1Z7CoHFA.png', width=400)"
   ]
  },
  {
   "cell_type": "markdown",
   "id": "d3fdebad-e4db-498d-a76f-d50d3d65667f",
   "metadata": {},
   "source": [
    "## TRPO"
   ]
  },
  {
   "cell_type": "markdown",
   "id": "f5fc81b3-efcd-4d3c-bf43-1a767b08340a",
   "metadata": {},
   "source": [
    "- references\n",
    "    - https://spinningup.openai.com/en/latest/algorithms/trpo.html"
   ]
  },
  {
   "cell_type": "markdown",
   "id": "480ee13b-7579-4d4f-9e5c-5d8cc7b383ef",
   "metadata": {},
   "source": [
    "- $\\pi_\\theta$: a policy with parameters $\\theta$.\n",
    "    - $\\pi_{\\theta_k}$: old policy\n",
    "- ${\\mathcal L}(\\theta_k, \\theta)$ is the surrogate advantage;\n",
    "    - a measure of how policy $\\pi_{\\theta}$ performs relative to the old policy $\\pi_{\\theta_k}$ using data from the old policy:\n",
    "- 需要特别注意的是 $D_{kl}(\\theta\\|\\theta_k)$ 是一种 reverse 的形式；"
   ]
  },
  {
   "cell_type": "markdown",
   "id": "39bbbc46-8c92-48ec-8c4a-a5584b2aab94",
   "metadata": {},
   "source": [
    "### objectives"
   ]
  },
  {
   "cell_type": "code",
   "execution_count": 2,
   "id": "5ef4cb54-f5ff-4510-ac80-56a4d325739a",
   "metadata": {},
   "outputs": [
    {
     "data": {
      "text/html": [
       "<img src=\"https://spinningup.openai.com/en/latest/_images/math/23edf1f72f63a4729c40371c1481a36549a0b713.svg\" width=\"400\"/>"
      ],
      "text/plain": [
       "<IPython.core.display.Image object>"
      ]
     },
     "execution_count": 2,
     "metadata": {},
     "output_type": "execute_result"
    }
   ],
   "source": [
    "Image(url='https://spinningup.openai.com/en/latest/_images/math/23edf1f72f63a4729c40371c1481a36549a0b713.svg', width=400)"
   ]
  },
  {
   "cell_type": "code",
   "execution_count": null,
   "id": "874096e6-b53c-4605-9afb-858d9ebdc11d",
   "metadata": {},
   "outputs": [
    {
     "data": {
      "text/html": [
       "<img src=\"https://spinningup.openai.com/en/latest/_images/math/ae8edab1e9c727bed15e54d4dda492382538b5fe.svg\" width=\"400\"/>"
      ],
      "text/plain": [
       "<IPython.core.display.Image object>"
      ]
     },
     "execution_count": 7,
     "metadata": {},
     "output_type": "execute_result"
    }
   ],
   "source": [
    "# A 是关于的 old policy\n",
    "Image(url='https://spinningup.openai.com/en/latest/_images/math/ae8edab1e9c727bed15e54d4dda492382538b5fe.svg', width=400)"
   ]
  },
  {
   "cell_type": "code",
   "execution_count": 5,
   "id": "8ce5bf51-9cd1-495b-9c38-2d3e1435aa3b",
   "metadata": {},
   "outputs": [
    {
     "data": {
      "text/html": [
       "<img src=\"https://miro.medium.com/v2/resize:fit:1400/format:webp/1*pbhUlYWNamKq-2CE_Z8rUA.png\" width=\"400\"/>"
      ],
      "text/plain": [
       "<IPython.core.display.Image object>"
      ]
     },
     "execution_count": 5,
     "metadata": {},
     "output_type": "execute_result"
    }
   ],
   "source": [
    "Image(url='https://miro.medium.com/v2/resize:fit:1400/format:webp/1*pbhUlYWNamKq-2CE_Z8rUA.png', width=400)"
   ]
  },
  {
   "cell_type": "code",
   "execution_count": 4,
   "id": "c1c6a7f6-27f3-42f4-b727-22cd1f4c8c5b",
   "metadata": {},
   "outputs": [
    {
     "data": {
      "text/html": [
       "<img src=\"https://spinningup.openai.com/en/latest/_images/math/78a651e0ce4979bd3e17198594ad952ac20b9b45.svg\" width=\"400\"/>"
      ],
      "text/plain": [
       "<IPython.core.display.Image object>"
      ]
     },
     "execution_count": 4,
     "metadata": {},
     "output_type": "execute_result"
    }
   ],
   "source": [
    "Image(url='https://spinningup.openai.com/en/latest/_images/math/78a651e0ce4979bd3e17198594ad952ac20b9b45.svg', width=400)"
   ]
  },
  {
   "cell_type": "markdown",
   "id": "37dadd69-5d85-4dd4-a432-cb1e5f417045",
   "metadata": {},
   "source": [
    "### approx"
   ]
  },
  {
   "cell_type": "code",
   "execution_count": 2,
   "id": "ac83989a-1b91-4065-bbe4-6a959c9ff71d",
   "metadata": {},
   "outputs": [
    {
     "data": {
      "text/html": [
       "<img src=\"https://spinningup.openai.com/en/latest/_images/math/7cdaa039734ec1d09adcc3e4dc351085823085cf.svg\" width=\"400\"/>"
      ],
      "text/plain": [
       "<IPython.core.display.Image object>"
      ]
     },
     "execution_count": 2,
     "metadata": {},
     "output_type": "execute_result"
    }
   ],
   "source": [
    "Image(url='https://spinningup.openai.com/en/latest/_images/math/7cdaa039734ec1d09adcc3e4dc351085823085cf.svg', width=400)"
   ]
  },
  {
   "cell_type": "markdown",
   "id": "d6c331a0-c045-4715-b972-b57e3db2f50f",
   "metadata": {},
   "source": [
    "- $\\mathcal L$（关于 w.r.t. $\\theta$）的函数，现对其在 $\\theta=\\theta_k$ 处做一阶泰勒展开得\n",
    "- $D_{kl}(\\theta\\|\\theta_k)$ （关于 w.r.t. $\\theta$）的函数，现对其在 $\\theta=\\theta_k$ 处做 2 阶泰勒展开得\n",
    "    - 在TRPO中对KL散度进行二阶泰勒展开，并忽略0阶和1阶项，只保留二次项，是为了利用KL散度的局部曲率信息来控制策略更新的步长，保证更新的稳定性和效率。这种方法在约束优化问题中是常见的，特别是在需要控制优化步长以避免过大变动时。"
   ]
  },
  {
   "cell_type": "code",
   "execution_count": 3,
   "id": "3663a388-08fc-4979-a7c8-5e248c2cb05e",
   "metadata": {},
   "outputs": [
    {
     "data": {
      "text/html": [
       "<img src=\"https://spinningup.openai.com/en/latest/_images/math/69c9dcbe2fe1c669a1b2cb3a312a479cdfcb27a1.svg\" width=\"400\"/>"
      ],
      "text/plain": [
       "<IPython.core.display.Image object>"
      ]
     },
     "execution_count": 3,
     "metadata": {},
     "output_type": "execute_result"
    }
   ],
   "source": [
    "Image(url='https://spinningup.openai.com/en/latest/_images/math/69c9dcbe2fe1c669a1b2cb3a312a479cdfcb27a1.svg', width=400)"
   ]
  },
  {
   "cell_type": "markdown",
   "id": "77f9a178-6bfa-44b9-8279-9493d648aa14",
   "metadata": {},
   "source": [
    "## exactly analytically solution"
   ]
  },
  {
   "cell_type": "markdown",
   "id": "43b0f666-adfa-47be-a897-eb11c1ba934c",
   "metadata": {},
   "source": [
    "- 对于上述有约束的优化问题，可以通过  Lagrangian duality 来求解"
   ]
  },
  {
   "cell_type": "code",
   "execution_count": 4,
   "id": "e408ae2b-9cc5-4a2c-9a99-586506753fe6",
   "metadata": {},
   "outputs": [
    {
     "data": {
      "text/html": [
       "<img src=\"https://spinningup.openai.com/en/latest/_images/math/e990f7ff0230a8fa93cf1242ea0d49fdf63d05d7.svg\" width=\"400\"/>"
      ],
      "text/plain": [
       "<IPython.core.display.Image object>"
      ]
     },
     "execution_count": 4,
     "metadata": {},
     "output_type": "execute_result"
    }
   ],
   "source": [
    "Image(url='https://spinningup.openai.com/en/latest/_images/math/e990f7ff0230a8fa93cf1242ea0d49fdf63d05d7.svg', width=400)"
   ]
  }
 ],
 "metadata": {
  "kernelspec": {
   "display_name": "Python 3 (ipykernel)",
   "language": "python",
   "name": "python3"
  },
  "language_info": {
   "codemirror_mode": {
    "name": "ipython",
    "version": 3
   },
   "file_extension": ".py",
   "mimetype": "text/x-python",
   "name": "python",
   "nbconvert_exporter": "python",
   "pygments_lexer": "ipython3",
   "version": "3.10.13"
  }
 },
 "nbformat": 4,
 "nbformat_minor": 5
}
