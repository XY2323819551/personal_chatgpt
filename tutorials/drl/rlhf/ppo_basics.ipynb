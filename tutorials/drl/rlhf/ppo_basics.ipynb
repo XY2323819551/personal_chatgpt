{
 "cells": [
  {
   "cell_type": "code",
   "execution_count": 1,
   "id": "e64fff97-e1e0-443d-ba0a-3cde7665d679",
   "metadata": {
    "tags": []
   },
   "outputs": [],
   "source": [
    "from IPython.display import Image"
   ]
  },
  {
   "cell_type": "markdown",
   "id": "bbdf8007-92e9-4db3-bf1a-a57a6db98a82",
   "metadata": {
    "tags": []
   },
   "source": [
    "## on policy vs. off policy"
   ]
  },
  {
   "cell_type": "markdown",
   "id": "6fd24e56-ed58-4000-a2d7-fc3842c914ba",
   "metadata": {},
   "source": [
    "- Policy gradient的方法，一般是on policy的，ppo通过importance sampling的方式，将其变为off policy"
   ]
  },
  {
   "cell_type": "code",
   "execution_count": 4,
   "id": "1078d830-bbea-4d5f-8b49-4ac0451dd0fd",
   "metadata": {
    "tags": []
   },
   "outputs": [
    {
     "data": {
      "text/html": [
       "<img src=\"https://huggingface.co/blog/assets/73_deep_rl_q_part2/off-on-4.jpg\" width=\"500\"/>"
      ],
      "text/plain": [
       "<IPython.core.display.Image object>"
      ]
     },
     "execution_count": 4,
     "metadata": {},
     "output_type": "execute_result"
    }
   ],
   "source": [
    "Image(url='https://huggingface.co/blog/assets/73_deep_rl_q_part2/off-on-4.jpg', width=500)"
   ]
  }
 ],
 "metadata": {
  "kernelspec": {
   "display_name": "Python 3 (ipykernel)",
   "language": "python",
   "name": "python3"
  },
  "language_info": {
   "codemirror_mode": {
    "name": "ipython",
    "version": 3
   },
   "file_extension": ".py",
   "mimetype": "text/x-python",
   "name": "python",
   "nbconvert_exporter": "python",
   "pygments_lexer": "ipython3",
   "version": "3.10.13"
  }
 },
 "nbformat": 4,
 "nbformat_minor": 5
}
