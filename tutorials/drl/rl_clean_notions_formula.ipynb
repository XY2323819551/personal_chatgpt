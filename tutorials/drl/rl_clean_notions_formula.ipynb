{
 "cells": [
  {
   "cell_type": "markdown",
   "id": "169c3054",
   "metadata": {},
   "source": [
    "\n",
    "- reward function\n",
    "\n",
    "    $$\n",
    "    r_t=r(s_t,a_t)\\in \\mathbb R\n",
    "    $$\n",
    "    \n",
    "    - $s_t$ 下采取 $a_t$，当转移不是确定性的时，是 stochastic 时，这里的 $r(\\cdot,\\cdot)$ 也是取期望；\n",
    "\n",
    "\n",
    "- state-action value function\n",
    "\n",
    "    $$\n",
    "    Q: \\mathcal S\\times \\mathcal A\\longmapsto \\mathbb R\n",
    "    $$\n",
    "    \n",
    "    - $Q(s,a)$ estimates the expected future reward taking action $a$ in state $s$.\n",
    "\n",
    "- advantage function\n",
    "\n",
    "    $$\n",
    "    A(s,a)=Q(s,a)-V(s)\n",
    "    $$\n",
    "\n"
   ]
  }
 ],
 "metadata": {
  "kernelspec": {
   "display_name": "Python 3 (ipykernel)",
   "language": "python",
   "name": "python3"
  },
  "language_info": {
   "codemirror_mode": {
    "name": "ipython",
    "version": 3
   },
   "file_extension": ".py",
   "mimetype": "text/x-python",
   "name": "python",
   "nbconvert_exporter": "python",
   "pygments_lexer": "ipython3",
   "version": "3.10.13"
  },
  "toc": {
   "base_numbering": 1,
   "nav_menu": {},
   "number_sections": true,
   "sideBar": true,
   "skip_h1_title": false,
   "title_cell": "Table of Contents",
   "title_sidebar": "Contents",
   "toc_cell": false,
   "toc_position": {},
   "toc_section_display": true,
   "toc_window_display": false
  }
 },
 "nbformat": 4,
 "nbformat_minor": 5
}
