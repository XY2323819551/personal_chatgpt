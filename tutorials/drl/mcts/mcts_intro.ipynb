{
 "cells": [
  {
   "cell_type": "code",
   "execution_count": 5,
   "id": "d03c5f6d",
   "metadata": {
    "ExecuteTime": {
     "end_time": "2024-03-12T14:37:21.484016Z",
     "start_time": "2024-03-12T14:37:21.478702Z"
    }
   },
   "outputs": [],
   "source": [
    "from IPython.display import SVG, Image"
   ]
  },
  {
   "cell_type": "markdown",
   "id": "f2176cb5",
   "metadata": {},
   "source": [
    "- reference\n",
    "    - Bandit based Monte-Carlo Planning：http://ggp.stanford.edu/readings/uct.pdf"
   ]
  },
  {
   "cell_type": "code",
   "execution_count": 8,
   "id": "dbf13968",
   "metadata": {
    "ExecuteTime": {
     "end_time": "2024-03-12T14:37:32.606567Z",
     "start_time": "2024-03-12T14:37:32.596638Z"
    }
   },
   "outputs": [
    {
     "data": {
      "text/html": [
       "<img src=\"../../../imgs/2880px-MCTS_(English).svg.png\" width=\"600\"/>"
      ],
      "text/plain": [
       "<IPython.core.display.Image object>"
      ]
     },
     "execution_count": 8,
     "metadata": {},
     "output_type": "execute_result"
    }
   ],
   "source": [
    "Image(url='../../../imgs/2880px-MCTS_(English).svg.png', width=600)"
   ]
  },
  {
   "cell_type": "markdown",
   "id": "27789dbc",
   "metadata": {},
   "source": [
    "## outline"
   ]
  },
  {
   "cell_type": "markdown",
   "id": "cdd7d25b",
   "metadata": {},
   "source": [
    "- MCTS Node：刻画/表示的是 state\n",
    "\n",
    "- Select 选择的是 leaf node（从 leaf node 中选择），既不是root 也不是internal node\n",
    "    - select 的依据是 UCT (UCB1 vs. UCT)\n",
    "        - The main idea in this paper it to apply a particular bandit algorithm, UCB1 (UCB stands for Upper Confidence Bounds), for rollout-based Monte-Carlo planning. The new algorithm, called UCT (UCB applied to trees) described in Section 2 is called UCT.\n",
    "        \n",
    "$$\n",
    "\\frac{w_i}{n_i} + C\\sqrt{\\frac{t_i}{n_i}}, \\quad C=\\sqrt2\n",
    "$$\n",
    "\n",
    "- Expand & Simulate (rollout）\n",
    "    - 什么时候需要rollout，节点是全新（没有被 simulate）的时候；\n",
    "        - new node ＝> rollout\n",
    "        - old node ＝> expand\n",
    "\n"
   ]
  }
 ],
 "metadata": {
  "kernelspec": {
   "display_name": "Python 3 (ipykernel)",
   "language": "python",
   "name": "python3"
  },
  "language_info": {
   "codemirror_mode": {
    "name": "ipython",
    "version": 3
   },
   "file_extension": ".py",
   "mimetype": "text/x-python",
   "name": "python",
   "nbconvert_exporter": "python",
   "pygments_lexer": "ipython3",
   "version": "3.10.13"
  },
  "toc": {
   "base_numbering": 1,
   "nav_menu": {},
   "number_sections": true,
   "sideBar": true,
   "skip_h1_title": false,
   "title_cell": "Table of Contents",
   "title_sidebar": "Contents",
   "toc_cell": false,
   "toc_position": {},
   "toc_section_display": true,
   "toc_window_display": false
  }
 },
 "nbformat": 4,
 "nbformat_minor": 5
}
