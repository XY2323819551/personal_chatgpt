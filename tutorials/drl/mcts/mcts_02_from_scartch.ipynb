{
 "cells": [
  {
   "cell_type": "markdown",
   "id": "4d66efc0",
   "metadata": {},
   "source": [
    "- 补充\n",
    "    - nodes correspond to states $s$\n",
    "    - edges refer to actions $a$\n",
    "        - each edge transfers the environment from its parent state to its child state\n",
    "            - state transition\n",
    "    - game tree\n",
    "        - 交替落子 minimax setting；白子的 v（value） 是黑子的 -v；\n",
    "            - 当前层黑子（边是黑子的action），下一层的为白子（边是白子的action）\n",
    "            - 交替落子；\n",
    "- 参考\n",
    "    - https://github.com/brilee/python_uct\n",
    "    - https://www.moderndescartes.com/essays/deep_dive_mcts/\n"
   ]
  },
  {
   "cell_type": "code",
   "execution_count": 1,
   "id": "9ad8d83a",
   "metadata": {
    "ExecuteTime": {
     "end_time": "2024-03-19T14:30:03.483835Z",
     "start_time": "2024-03-19T14:30:03.347040Z"
    }
   },
   "outputs": [],
   "source": [
    "import collections\n",
    "import numpy as np\n",
    "import math"
   ]
  },
  {
   "cell_type": "markdown",
   "id": "76b194f9",
   "metadata": {},
   "source": [
    "## Node & search "
   ]
  },
  {
   "cell_type": "markdown",
   "id": "907e4c7b",
   "metadata": {},
   "source": [
    "### Node"
   ]
  },
  {
   "cell_type": "markdown",
   "id": "f5e774f8",
   "metadata": {},
   "source": [
    "- 因为 simulate（rollout/evaluate）完了之后涉及到 bp（反向传播或者回溯），每个 node 除了需要指向 children，还需要维护 parent"
   ]
  },
  {
   "cell_type": "code",
   "execution_count": 2,
   "id": "6ab0680a",
   "metadata": {
    "ExecuteTime": {
     "end_time": "2024-03-19T14:30:03.501165Z",
     "start_time": "2024-03-19T14:30:03.486314Z"
    }
   },
   "outputs": [],
   "source": [
    "name_id = 0\n",
    "\n",
    "class UCTNode():\n",
    "    def __init__(self, name, state, action, parent=None):\n",
    "        self.name = name\n",
    "        self.state = state\n",
    "        self.action = action\n",
    "        \n",
    "        self.is_expanded = False\n",
    "        \n",
    "        # self.parent.child_total_value[self.action]\n",
    "        # self.parent.child_number_visits[self.action]\n",
    "        # 指向self\n",
    "        self.parent = parent  # Optional[UCTNode]\n",
    "        \n",
    "        self.children = {}  # Dict[action, UCTNode]\n",
    "        self.child_priors = np.zeros([10], dtype=np.float32)\n",
    "        # ti\n",
    "        self.child_total_value = np.zeros([10], dtype=np.float32)\n",
    "        # ni\n",
    "        self.child_number_visits = np.zeros([10], dtype=np.float32)\n",
    "    \n",
    "    \n",
    "    # Ni\n",
    "    @property\n",
    "    def number_visits(self):\n",
    "        return self.parent.child_number_visits[self.action]\n",
    "\n",
    "    @number_visits.setter\n",
    "    def number_visits(self, value):\n",
    "        self.parent.child_number_visits[self.action] = value\n",
    "        \n",
    "    # ti\n",
    "    @property\n",
    "    def total_value(self):\n",
    "        return self.parent.child_total_value[self.action]\n",
    "\n",
    "    @total_value.setter\n",
    "    def total_value(self, value):\n",
    "        self.parent.child_total_value[self.action] = value\n",
    "\n",
    "    # pUCT\n",
    "    # https://courses.cs.washington.edu/courses/cse599i/18wi/resources/lecture19/lecture19.pdf\n",
    "    def child_Q(self) -> np.ndarray:\n",
    "        return self.child_total_value / (1 + self.child_number_visits)\n",
    "\n",
    "\n",
    "    def child_U(self) -> np.ndarray:\n",
    "        return math.sqrt(self.number_visits) * (\n",
    "            self.child_priors / (1 + self.child_number_visits))\n",
    "    \n",
    "    \n",
    "    def best_child(self) -> int:\n",
    "        return np.argmax(self.child_Q() + self.child_U())\n",
    "    \n",
    "    # traversal\n",
    "    def select_leaf(self):\n",
    "        current = self\n",
    "        while current.is_expanded:\n",
    "            best_action = current.best_child()\n",
    "            current = current.maybe_add_child(best_action)\n",
    "        return current\n",
    "\n",
    "    def expand(self, child_priors):\n",
    "        self.is_expanded = True\n",
    "        self.child_priors = child_priors\n",
    "\n",
    "    def maybe_add_child(self, action):\n",
    "        global name_id\n",
    "        if action not in self.children:\n",
    "            # 新增 child 节点时，切换 player 身份（白子 => 黑子，黑子 => 白子）\n",
    "            name_id += 1\n",
    "            self.children[action] = UCTNode(\n",
    "                name_id, self.state.play(action), action, parent=self)\n",
    "        return self.children[action]\n",
    "\n",
    "    def backup(self, value_estimate: float):\n",
    "        current = self\n",
    "        while current.parent is not None:\n",
    "            current.number_visits += 1\n",
    "            current.total_value += (value_estimate * self.state.to_play)\n",
    "            current = current.parent"
   ]
  },
  {
   "cell_type": "markdown",
   "id": "8dbe5203",
   "metadata": {},
   "source": [
    "### Q + U"
   ]
  },
  {
   "cell_type": "markdown",
   "id": "7284d1e5",
   "metadata": {},
   "source": [
    "$$\n",
    "\\begin{split}\n",
    "&Q=\\frac{t_i}{1+n_i}\\\\\n",
    "&U=\\sqrt{\\ln N_i}\\times \\frac{P}{1+n_i}\n",
    "\\end{split}\n",
    "$$"
   ]
  },
  {
   "cell_type": "markdown",
   "id": "70e811d8",
   "metadata": {},
   "source": [
    "## Game state"
   ]
  },
  {
   "cell_type": "code",
   "execution_count": 3,
   "id": "622d0d2c",
   "metadata": {
    "ExecuteTime": {
     "end_time": "2024-03-19T14:30:03.524760Z",
     "start_time": "2024-03-19T14:30:03.503365Z"
    }
   },
   "outputs": [],
   "source": [
    "# 交替落子 minimax setting；白子的 v（value） 是黑子的 -v；\n",
    "class GameState:\n",
    "    def __init__(self, to_play=1):\n",
    "        self.to_play = to_play\n",
    "    def play(self, action):\n",
    "        return GameState(to_play=-self.to_play)"
   ]
  },
  {
   "cell_type": "markdown",
   "id": "3fa882b0",
   "metadata": {},
   "source": [
    "## Policy network & Value network"
   ]
  },
  {
   "cell_type": "markdown",
   "id": "bbaac55a",
   "metadata": {},
   "source": [
    "- 结合使用策略网络（Policy network）来指导搜索方向, 并使用价值网络来评估棋局的潜在价值, 可以显著减少搜索树的大小，提高搜索的效率。\n",
    "    - 策略网络（Policy network）能够从先前的对局中学习到有效的走棋模式和策略，这相当于在搜索过程中加入了大量的“先验知识”（child_priors）。\n",
    "- 价值网络（value network）可以给出对当前棋局胜负的直接评估，而不需要到达游戏的终局。这种评估能力对于减少搜索深度、加速决策过程至关重要。"
   ]
  },
  {
   "cell_type": "code",
   "execution_count": 4,
   "id": "9c94c710",
   "metadata": {
    "ExecuteTime": {
     "end_time": "2024-03-19T14:30:03.536795Z",
     "start_time": "2024-03-19T14:30:03.529928Z"
    }
   },
   "outputs": [],
   "source": [
    "class NeuralNet():\n",
    "    @classmethod\n",
    "    def evaluate(self, game_state):\n",
    "        # return policy_network(state), value_network(state)\n",
    "        # policy_network(state): return pi(a|s)\n",
    "        # value_network(state): return v(s)\n",
    "        return np.random.random([10]), np.random.random()"
   ]
  },
  {
   "cell_type": "markdown",
   "id": "bced64a2",
   "metadata": {},
   "source": [
    "## UCT_search"
   ]
  },
  {
   "cell_type": "code",
   "execution_count": 5,
   "id": "163fb797",
   "metadata": {
    "ExecuteTime": {
     "end_time": "2024-03-19T14:30:03.547491Z",
     "start_time": "2024-03-19T14:30:03.539661Z"
    }
   },
   "outputs": [],
   "source": [
    "class DummyNode(object):\n",
    "    def __init__(self):\n",
    "        self.parent = None\n",
    "        self.child_total_value = collections.defaultdict(float)\n",
    "        self.child_number_visits = collections.defaultdict(float)"
   ]
  },
  {
   "cell_type": "code",
   "execution_count": 6,
   "id": "e0c3254a",
   "metadata": {
    "ExecuteTime": {
     "end_time": "2024-03-19T14:30:03.562332Z",
     "start_time": "2024-03-19T14:30:03.551358Z"
    }
   },
   "outputs": [],
   "source": [
    "def print_tree_level_width(root: UCTNode):\n",
    "    if not root:\n",
    "        return\n",
    "    \n",
    "    queue = [(root, 0)]  # 初始化队列，元素为 (节点, 层级)\n",
    "    current_level = 0\n",
    "    level_nodes = []\n",
    "\n",
    "    while queue:\n",
    "        node, level = queue.pop(0)  # 从队列中取出当前节点和它的层级\n",
    "        # 当进入新的一层时，打印上一层的信息并重置\n",
    "        if level > current_level:\n",
    "            print(f\"Level {current_level} width: {len(level_nodes)}\")\n",
    "            level_nodes = [f'{node.action}']  # 重置当前层的节点列表\n",
    "            current_level = level\n",
    "        else:\n",
    "            level_nodes.append(f'{node.action}')\n",
    "        \n",
    "        # 将当前节点的所有子节点加入队列\n",
    "        for child in node.children.values():\n",
    "            queue.append((child, level + 1))\n",
    "    \n",
    "    # 打印最后一层的信息\n",
    "    print(f\"Level {current_level} width: {len(level_nodes)}\")"
   ]
  },
  {
   "cell_type": "code",
   "execution_count": 7,
   "id": "77066960",
   "metadata": {
    "ExecuteTime": {
     "end_time": "2024-03-19T14:30:03.574844Z",
     "start_time": "2024-03-19T14:30:03.566539Z"
    }
   },
   "outputs": [],
   "source": [
    "def UCT_search(state, num_reads):\n",
    "    root = UCTNode(0, state, action=None, parent=DummyNode())\n",
    "    for _ in range(num_reads):\n",
    "        # 每次都是从根节点出发\n",
    "        leaf = root.select_leaf()\n",
    "        # child_priors: [0, 1]\n",
    "        child_priors, value_estimate = NeuralNet().evaluate(leaf.state)\n",
    "        leaf.expand(child_priors)\n",
    "        leaf.backup(value_estimate)\n",
    "    print_tree_level_width(root)\n",
    "    return root, root.best_child()"
   ]
  },
  {
   "cell_type": "code",
   "execution_count": 8,
   "id": "9f3b804d",
   "metadata": {
    "ExecuteTime": {
     "end_time": "2024-03-19T14:30:03.590067Z",
     "start_time": "2024-03-19T14:30:03.578664Z"
    },
    "scrolled": true
   },
   "outputs": [
    {
     "name": "stdout",
     "output_type": "stream",
     "text": [
      "Level 0 width: 1\n",
      "Level 1 width: 8\n",
      "Level 2 width: 6\n",
      "Took 0.004031181335449219 sec to run 15 times\n",
      "Consumed 98188B memory\n"
     ]
    }
   ],
   "source": [
    "num_reads = 15\n",
    "import time\n",
    "tick = time.time()\n",
    "root, _ = UCT_search(GameState(), num_reads)\n",
    "tock = time.time()\n",
    "print(\"Took %s sec to run %s times\" % (tock - tick, num_reads))\n",
    "import resource\n",
    "print(\"Consumed %sB memory\" % resource.getrusage(resource.RUSAGE_SELF).ru_maxrss)"
   ]
  },
  {
   "cell_type": "code",
   "execution_count": 9,
   "id": "dcaddc9f",
   "metadata": {
    "ExecuteTime": {
     "end_time": "2024-03-19T14:30:03.599359Z",
     "start_time": "2024-03-19T14:30:03.593739Z"
    }
   },
   "outputs": [],
   "source": [
    "# !pip install igraph"
   ]
  },
  {
   "cell_type": "code",
   "execution_count": 10,
   "id": "fc62d16a",
   "metadata": {
    "ExecuteTime": {
     "end_time": "2024-03-19T14:30:04.010668Z",
     "start_time": "2024-03-19T14:30:03.605141Z"
    }
   },
   "outputs": [],
   "source": [
    "import igraph as ig\n",
    "g = ig.Graph(directed=True)\n",
    "\n",
    "# 用于跟踪已添加节点的字典\n",
    "nodes_dict = {}\n",
    "\n",
    "def add_nodes_and_edges(node, parent_id=None):\n",
    "    # 添加当前节点（如果尚未添加）\n",
    "    if node not in nodes_dict:\n",
    "        nodes_dict[node.name] = len(nodes_dict)\n",
    "        g.add_vertices(1)\n",
    "    \n",
    "    current_id = nodes_dict[node.name]\n",
    "    \n",
    "    # 添加从父节点到当前节点的边\n",
    "    if parent_id is not None:\n",
    "        g.add_edges([(parent_id, current_id)])\n",
    "    \n",
    "    # 递归为子节点做同样的处理\n",
    "    for child in node.children.values():\n",
    "        add_nodes_and_edges(child, current_id)"
   ]
  },
  {
   "cell_type": "code",
   "execution_count": 11,
   "id": "65ff924e",
   "metadata": {
    "ExecuteTime": {
     "end_time": "2024-03-19T14:30:04.038310Z",
     "start_time": "2024-03-19T14:30:04.013227Z"
    }
   },
   "outputs": [
    {
     "data": {
      "image/svg+xml": [
       "<?xml version=\"1.0\" encoding=\"UTF-8\"?>\n",
       "<svg xmlns=\"http://www.w3.org/2000/svg\" xmlns:xlink=\"http://www.w3.org/1999/xlink\" width=\"300pt\" height=\"300pt\" viewBox=\"0 0 300 300\" version=\"1.1\">\n",
       "<defs>\n",
       "<g>\n",
       "<symbol overflow=\"visible\" id=\"glyph0-0\">\n",
       "<path style=\"stroke:none;\" d=\"M 1.3125 0 L 1.3125 -10 L 7.0625 -10 L 7.0625 0 Z M 2.03125 -0.71875 L 6.359375 -0.71875 L 6.359375 -9.28125 L 2.03125 -9.28125 Z M 2.03125 -0.71875 \"/>\n",
       "</symbol>\n",
       "<symbol overflow=\"visible\" id=\"glyph0-1\">\n",
       "<path style=\"stroke:none;\" d=\"M 7.328125 -5.015625 C 7.328125 -3.941406 7.210938 -3.019531 6.984375 -2.25 C 6.765625 -1.476562 6.410156 -0.882812 5.921875 -0.46875 C 5.429688 -0.0625 4.785156 0.140625 3.984375 0.140625 C 2.859375 0.140625 2.023438 -0.3125 1.484375 -1.21875 C 0.953125 -2.132812 0.6875 -3.398438 0.6875 -5.015625 C 0.6875 -6.097656 0.796875 -7.019531 1.015625 -7.78125 C 1.234375 -8.550781 1.582031 -9.140625 2.0625 -9.546875 C 2.550781 -9.953125 3.191406 -10.15625 3.984375 -10.15625 C 5.109375 -10.15625 5.945312 -9.703125 6.5 -8.796875 C 7.050781 -7.898438 7.328125 -6.640625 7.328125 -5.015625 Z M 1.921875 -5.015625 C 1.921875 -3.640625 2.078125 -2.609375 2.390625 -1.921875 C 2.703125 -1.242188 3.234375 -0.90625 3.984375 -0.90625 C 4.734375 -0.90625 5.269531 -1.242188 5.59375 -1.921875 C 5.914062 -2.597656 6.078125 -3.628906 6.078125 -5.015625 C 6.078125 -6.378906 5.914062 -7.398438 5.59375 -8.078125 C 5.269531 -8.753906 4.734375 -9.09375 3.984375 -9.09375 C 3.234375 -9.09375 2.703125 -8.753906 2.390625 -8.078125 C 2.078125 -7.398438 1.921875 -6.378906 1.921875 -5.015625 Z M 1.921875 -5.015625 \"/>\n",
       "</symbol>\n",
       "<symbol overflow=\"visible\" id=\"glyph0-2\">\n",
       "<path style=\"stroke:none;\" d=\"M 4.96875 0 L 3.765625 0 L 3.765625 -6.984375 C 3.765625 -7.390625 3.769531 -7.710938 3.78125 -7.953125 C 3.789062 -8.191406 3.804688 -8.441406 3.828125 -8.703125 C 3.671875 -8.554688 3.53125 -8.429688 3.40625 -8.328125 C 3.289062 -8.222656 3.140625 -8.09375 2.953125 -7.9375 L 1.890625 -7.0625 L 1.25 -7.890625 L 3.953125 -10 L 4.96875 -10 Z M 4.96875 0 \"/>\n",
       "</symbol>\n",
       "<symbol overflow=\"visible\" id=\"glyph0-3\">\n",
       "<path style=\"stroke:none;\" d=\"M 7.28125 0 L 0.671875 0 L 0.671875 -1.015625 L 3.296875 -3.671875 C 3.796875 -4.171875 4.21875 -4.613281 4.5625 -5 C 4.90625 -5.394531 5.164062 -5.78125 5.34375 -6.15625 C 5.519531 -6.539062 5.609375 -6.957031 5.609375 -7.40625 C 5.609375 -7.957031 5.445312 -8.375 5.125 -8.65625 C 4.800781 -8.945312 4.375 -9.09375 3.84375 -9.09375 C 3.363281 -9.09375 2.9375 -9.003906 2.5625 -8.828125 C 2.195312 -8.660156 1.820312 -8.429688 1.4375 -8.140625 L 0.78125 -8.953125 C 1.175781 -9.285156 1.625 -9.566406 2.125 -9.796875 C 2.632812 -10.023438 3.207031 -10.140625 3.84375 -10.140625 C 4.78125 -10.140625 5.519531 -9.898438 6.0625 -9.421875 C 6.601562 -8.953125 6.875 -8.300781 6.875 -7.46875 C 6.875 -6.945312 6.765625 -6.457031 6.546875 -6 C 6.335938 -5.539062 6.039062 -5.085938 5.65625 -4.640625 C 5.269531 -4.203125 4.820312 -3.734375 4.3125 -3.234375 L 2.21875 -1.171875 L 2.21875 -1.125 L 7.28125 -1.125 Z M 7.28125 0 \"/>\n",
       "</symbol>\n",
       "<symbol overflow=\"visible\" id=\"glyph0-4\">\n",
       "<path style=\"stroke:none;\" d=\"M 3.984375 -10.140625 C 4.867188 -10.140625 5.585938 -9.929688 6.140625 -9.515625 C 6.703125 -9.109375 6.984375 -8.515625 6.984375 -7.734375 C 6.984375 -7.335938 6.894531 -6.988281 6.71875 -6.6875 C 6.550781 -6.394531 6.320312 -6.132812 6.03125 -5.90625 C 5.738281 -5.675781 5.421875 -5.472656 5.078125 -5.296875 C 5.492188 -5.097656 5.867188 -4.875 6.203125 -4.625 C 6.535156 -4.375 6.800781 -4.085938 7 -3.765625 C 7.207031 -3.441406 7.3125 -3.050781 7.3125 -2.59375 C 7.3125 -1.75 7.015625 -1.082031 6.421875 -0.59375 C 5.828125 -0.101562 5.03125 0.140625 4.03125 0.140625 C 2.957031 0.140625 2.128906 -0.09375 1.546875 -0.5625 C 0.972656 -1.039062 0.6875 -1.703125 0.6875 -2.546875 C 0.6875 -3.003906 0.78125 -3.398438 0.96875 -3.734375 C 1.164062 -4.066406 1.421875 -4.351562 1.734375 -4.59375 C 2.054688 -4.84375 2.398438 -5.050781 2.765625 -5.21875 C 2.273438 -5.5 1.859375 -5.835938 1.515625 -6.234375 C 1.179688 -6.628906 1.015625 -7.132812 1.015625 -7.75 C 1.015625 -8.269531 1.144531 -8.703125 1.40625 -9.046875 C 1.664062 -9.398438 2.019531 -9.671875 2.46875 -9.859375 C 2.914062 -10.046875 3.421875 -10.140625 3.984375 -10.140625 Z M 3.96875 -9.140625 C 3.457031 -9.140625 3.035156 -9.015625 2.703125 -8.765625 C 2.378906 -8.523438 2.21875 -8.171875 2.21875 -7.703125 C 2.21875 -7.359375 2.296875 -7.066406 2.453125 -6.828125 C 2.617188 -6.597656 2.84375 -6.398438 3.125 -6.234375 C 3.40625 -6.066406 3.710938 -5.910156 4.046875 -5.765625 C 4.535156 -5.972656 4.941406 -6.21875 5.265625 -6.5 C 5.597656 -6.789062 5.765625 -7.191406 5.765625 -7.703125 C 5.765625 -8.171875 5.597656 -8.523438 5.265625 -8.765625 C 4.941406 -9.015625 4.507812 -9.140625 3.96875 -9.140625 Z M 1.890625 -2.53125 C 1.890625 -2.050781 2.0625 -1.648438 2.40625 -1.328125 C 2.75 -1.003906 3.28125 -0.84375 4 -0.84375 C 4.6875 -0.84375 5.207031 -1.003906 5.5625 -1.328125 C 5.925781 -1.648438 6.109375 -2.066406 6.109375 -2.578125 C 6.109375 -3.054688 5.914062 -3.457031 5.53125 -3.78125 C 5.144531 -4.101562 4.632812 -4.390625 4 -4.640625 L 3.78125 -4.71875 C 3.164062 -4.457031 2.695312 -4.15625 2.375 -3.8125 C 2.050781 -3.46875 1.890625 -3.039062 1.890625 -2.53125 Z M 1.890625 -2.53125 \"/>\n",
       "</symbol>\n",
       "<symbol overflow=\"visible\" id=\"glyph0-5\">\n",
       "<path style=\"stroke:none;\" d=\"M 6.90625 -7.65625 C 6.90625 -6.988281 6.71875 -6.453125 6.34375 -6.046875 C 5.96875 -5.648438 5.460938 -5.390625 4.828125 -5.265625 L 4.828125 -5.203125 C 5.628906 -5.109375 6.222656 -4.859375 6.609375 -4.453125 C 7.003906 -4.046875 7.203125 -3.507812 7.203125 -2.84375 C 7.203125 -2.257812 7.066406 -1.738281 6.796875 -1.28125 C 6.523438 -0.832031 6.109375 -0.484375 5.546875 -0.234375 C 4.984375 0.015625 4.257812 0.140625 3.375 0.140625 C 2.851562 0.140625 2.367188 0.0976562 1.921875 0.015625 C 1.472656 -0.0546875 1.039062 -0.195312 0.625 -0.40625 L 0.625 -1.546875 C 1.050781 -1.347656 1.503906 -1.1875 1.984375 -1.0625 C 2.472656 -0.945312 2.941406 -0.890625 3.390625 -0.890625 C 4.285156 -0.890625 4.929688 -1.066406 5.328125 -1.421875 C 5.722656 -1.773438 5.921875 -2.257812 5.921875 -2.875 C 5.921875 -3.5 5.675781 -3.945312 5.1875 -4.21875 C 4.695312 -4.5 4.007812 -4.640625 3.125 -4.640625 L 2.15625 -4.640625 L 2.15625 -5.6875 L 3.140625 -5.6875 C 3.960938 -5.6875 4.582031 -5.859375 5 -6.203125 C 5.425781 -6.546875 5.640625 -7.003906 5.640625 -7.578125 C 5.640625 -8.054688 5.472656 -8.425781 5.140625 -8.6875 C 4.816406 -8.957031 4.378906 -9.09375 3.828125 -9.09375 C 3.285156 -9.09375 2.820312 -9.015625 2.4375 -8.859375 C 2.050781 -8.703125 1.671875 -8.503906 1.296875 -8.265625 L 0.6875 -9.09375 C 1.039062 -9.375 1.476562 -9.617188 2 -9.828125 C 2.53125 -10.035156 3.132812 -10.140625 3.8125 -10.140625 C 4.851562 -10.140625 5.628906 -9.90625 6.140625 -9.4375 C 6.648438 -8.96875 6.90625 -8.375 6.90625 -7.65625 Z M 6.90625 -7.65625 \"/>\n",
       "</symbol>\n",
       "<symbol overflow=\"visible\" id=\"glyph0-6\">\n",
       "<path style=\"stroke:none;\" d=\"M 7.734375 -2.265625 L 6.265625 -2.265625 L 6.265625 0 L 5.078125 0 L 5.078125 -2.265625 L 0.296875 -2.265625 L 0.296875 -3.3125 L 5 -10.046875 L 6.265625 -10.046875 L 6.265625 -3.375 L 7.734375 -3.375 Z M 5.078125 -6.53125 C 5.078125 -7.007812 5.085938 -7.421875 5.109375 -7.765625 C 5.128906 -8.109375 5.144531 -8.429688 5.15625 -8.734375 L 5.09375 -8.734375 C 5.019531 -8.554688 4.925781 -8.363281 4.8125 -8.15625 C 4.695312 -7.957031 4.59375 -7.785156 4.5 -7.640625 L 1.5 -3.375 L 5.078125 -3.375 Z M 5.078125 -6.53125 \"/>\n",
       "</symbol>\n",
       "<symbol overflow=\"visible\" id=\"glyph0-7\">\n",
       "<path style=\"stroke:none;\" d=\"M 3.84375 -6.125 C 4.875 -6.125 5.691406 -5.867188 6.296875 -5.359375 C 6.898438 -4.847656 7.203125 -4.125 7.203125 -3.1875 C 7.203125 -2.15625 6.875 -1.34375 6.21875 -0.75 C 5.5625 -0.15625 4.644531 0.140625 3.46875 0.140625 C 2.957031 0.140625 2.472656 0.09375 2.015625 0 C 1.566406 -0.09375 1.1875 -0.226562 0.875 -0.40625 L 0.875 -1.5625 C 1.21875 -1.363281 1.628906 -1.203125 2.109375 -1.078125 C 2.585938 -0.960938 3.046875 -0.90625 3.484375 -0.90625 C 4.222656 -0.90625 4.816406 -1.078125 5.265625 -1.421875 C 5.722656 -1.773438 5.953125 -2.320312 5.953125 -3.0625 C 5.953125 -3.71875 5.75 -4.21875 5.34375 -4.5625 C 4.945312 -4.914062 4.3125 -5.09375 3.4375 -5.09375 C 3.175781 -5.09375 2.878906 -5.066406 2.546875 -5.015625 C 2.210938 -4.972656 1.941406 -4.929688 1.734375 -4.890625 L 1.125 -5.28125 L 1.5 -10 L 6.515625 -10 L 6.515625 -8.875 L 2.546875 -8.875 L 2.3125 -5.984375 C 2.46875 -6.003906 2.679688 -6.03125 2.953125 -6.0625 C 3.222656 -6.101562 3.519531 -6.125 3.84375 -6.125 Z M 3.84375 -6.125 \"/>\n",
       "</symbol>\n",
       "<symbol overflow=\"visible\" id=\"glyph0-8\">\n",
       "<path style=\"stroke:none;\" d=\"M 0.765625 -4.265625 C 0.765625 -4.984375 0.828125 -5.691406 0.953125 -6.390625 C 1.078125 -7.085938 1.304688 -7.71875 1.640625 -8.28125 C 1.972656 -8.84375 2.4375 -9.289062 3.03125 -9.625 C 3.632812 -9.96875 4.40625 -10.140625 5.34375 -10.140625 C 5.539062 -10.140625 5.757812 -10.128906 6 -10.109375 C 6.238281 -10.085938 6.429688 -10.054688 6.578125 -10.015625 L 6.578125 -8.953125 C 6.410156 -9.015625 6.222656 -9.054688 6.015625 -9.078125 C 5.804688 -9.109375 5.59375 -9.125 5.375 -9.125 C 4.726562 -9.125 4.191406 -9.015625 3.765625 -8.796875 C 3.335938 -8.585938 3 -8.296875 2.75 -7.921875 C 2.5 -7.546875 2.316406 -7.113281 2.203125 -6.625 C 2.097656 -6.144531 2.03125 -5.628906 2 -5.078125 L 2.09375 -5.078125 C 2.300781 -5.410156 2.597656 -5.691406 2.984375 -5.921875 C 3.367188 -6.148438 3.859375 -6.265625 4.453125 -6.265625 C 5.316406 -6.265625 6.015625 -6 6.546875 -5.46875 C 7.078125 -4.9375 7.34375 -4.1875 7.34375 -3.21875 C 7.34375 -2.175781 7.054688 -1.351562 6.484375 -0.75 C 5.910156 -0.15625 5.140625 0.140625 4.171875 0.140625 C 3.535156 0.140625 2.960938 -0.015625 2.453125 -0.328125 C 1.941406 -0.648438 1.53125 -1.132812 1.21875 -1.78125 C 0.914062 -2.4375 0.765625 -3.265625 0.765625 -4.265625 Z M 4.15625 -0.890625 C 4.75 -0.890625 5.222656 -1.078125 5.578125 -1.453125 C 5.941406 -1.835938 6.125 -2.425781 6.125 -3.21875 C 6.125 -3.851562 5.960938 -4.359375 5.640625 -4.734375 C 5.328125 -5.109375 4.847656 -5.296875 4.203125 -5.296875 C 3.765625 -5.296875 3.378906 -5.203125 3.046875 -5.015625 C 2.722656 -4.835938 2.46875 -4.609375 2.28125 -4.328125 C 2.101562 -4.046875 2.015625 -3.753906 2.015625 -3.453125 C 2.015625 -3.054688 2.09375 -2.660156 2.25 -2.265625 C 2.40625 -1.867188 2.640625 -1.539062 2.953125 -1.28125 C 3.273438 -1.019531 3.675781 -0.890625 4.15625 -0.890625 Z M 4.15625 -0.890625 \"/>\n",
       "</symbol>\n",
       "<symbol overflow=\"visible\" id=\"glyph0-9\">\n",
       "<path style=\"stroke:none;\" d=\"M 1.90625 0 L 6 -8.875 L 0.609375 -8.875 L 0.609375 -10 L 7.328125 -10 L 7.328125 -9.046875 L 3.265625 0 Z M 1.90625 0 \"/>\n",
       "</symbol>\n",
       "<symbol overflow=\"visible\" id=\"glyph0-10\">\n",
       "<path style=\"stroke:none;\" d=\"M 7.28125 -5.71875 C 7.28125 -5 7.21875 -4.289062 7.09375 -3.59375 C 6.96875 -2.90625 6.738281 -2.28125 6.40625 -1.71875 C 6.070312 -1.15625 5.601562 -0.703125 5 -0.359375 C 4.40625 -0.0234375 3.632812 0.140625 2.6875 0.140625 C 2.5 0.140625 2.28125 0.125 2.03125 0.09375 C 1.789062 0.0703125 1.585938 0.0390625 1.421875 0 L 1.421875 -1.046875 C 1.785156 -0.929688 2.195312 -0.875 2.65625 -0.875 C 3.3125 -0.875 3.847656 -0.976562 4.265625 -1.1875 C 4.691406 -1.40625 5.03125 -1.695312 5.28125 -2.0625 C 5.539062 -2.4375 5.722656 -2.867188 5.828125 -3.359375 C 5.941406 -3.847656 6.007812 -4.363281 6.03125 -4.90625 L 5.953125 -4.90625 C 5.742188 -4.582031 5.445312 -4.304688 5.0625 -4.078125 C 4.675781 -3.847656 4.175781 -3.734375 3.5625 -3.734375 C 2.707031 -3.734375 2.015625 -3.992188 1.484375 -4.515625 C 0.960938 -5.046875 0.703125 -5.796875 0.703125 -6.765625 C 0.703125 -7.460938 0.832031 -8.0625 1.09375 -8.5625 C 1.363281 -9.070312 1.734375 -9.460938 2.203125 -9.734375 C 2.679688 -10.003906 3.242188 -10.140625 3.890625 -10.140625 C 4.523438 -10.140625 5.097656 -9.976562 5.609375 -9.65625 C 6.128906 -9.332031 6.535156 -8.84375 6.828125 -8.1875 C 7.128906 -7.539062 7.28125 -6.71875 7.28125 -5.71875 Z M 3.890625 -9.09375 C 3.316406 -9.09375 2.84375 -8.898438 2.46875 -8.515625 C 2.101562 -8.140625 1.921875 -7.5625 1.921875 -6.78125 C 1.921875 -6.132812 2.078125 -5.625 2.390625 -5.25 C 2.703125 -4.882812 3.1875 -4.703125 3.84375 -4.703125 C 4.289062 -4.703125 4.675781 -4.789062 5 -4.96875 C 5.320312 -5.15625 5.570312 -5.390625 5.75 -5.671875 C 5.9375 -5.953125 6.03125 -6.238281 6.03125 -6.53125 C 6.03125 -6.9375 5.953125 -7.332031 5.796875 -7.71875 C 5.640625 -8.113281 5.398438 -8.441406 5.078125 -8.703125 C 4.765625 -8.960938 4.367188 -9.09375 3.890625 -9.09375 Z M 3.890625 -9.09375 \"/>\n",
       "</symbol>\n",
       "</g>\n",
       "</defs>\n",
       "<g id=\"surface2\">\n",
       "<rect x=\"0\" y=\"0\" width=\"300\" height=\"300\" style=\"fill:rgb(100%,100%,100%);fill-opacity:1;stroke:none;\"/>\n",
       "<path style=\"fill:none;stroke-width:1;stroke-linecap:butt;stroke-linejoin:miter;stroke:rgb(26.666667%,26.666667%,26.666667%);stroke-opacity:1;stroke-miterlimit:10;\" d=\"M 177.625 20 L 51.046875 133.777344 \"/>\n",
       "<path style=\" stroke:none;fill-rule:nonzero;fill:rgb(26.666667%,26.666667%,26.666667%);fill-opacity:1;\" d=\"M 40.4375 143.316406 L 47.949219 130.332031 L 54.144531 137.226562 L 40.4375 143.316406 \"/>\n",
       "<path style=\"fill:none;stroke-width:1;stroke-linecap:butt;stroke-linejoin:miter;stroke:rgb(26.666667%,26.666667%,26.666667%);stroke-opacity:1;stroke-miterlimit:10;\" d=\"M 33 150 L 22.414062 255.855469 \"/>\n",
       "<path style=\" stroke:none;fill-rule:nonzero;fill:rgb(26.666667%,26.666667%,26.666667%);fill-opacity:1;\" d=\"M 20.996094 270.050781 L 17.800781 255.394531 L 27.027344 256.316406 L 20.996094 270.050781 \"/>\n",
       "<path style=\"fill:none;stroke-width:1;stroke-linecap:butt;stroke-linejoin:miter;stroke:rgb(26.666667%,26.666667%,26.666667%);stroke-opacity:1;stroke-miterlimit:10;\" d=\"M 33 150 L 43.585938 255.855469 \"/>\n",
       "<path style=\" stroke:none;fill-rule:nonzero;fill:rgb(26.666667%,26.666667%,26.666667%);fill-opacity:1;\" d=\"M 45.003906 270.050781 L 38.972656 256.316406 L 48.199219 255.394531 L 45.003906 270.050781 \"/>\n",
       "<path style=\"fill:none;stroke-width:1;stroke-linecap:butt;stroke-linejoin:miter;stroke:rgb(26.666667%,26.666667%,26.666667%);stroke-opacity:1;stroke-miterlimit:10;\" d=\"M 177.625 20 L 110.675781 129.308594 \"/>\n",
       "<path style=\" stroke:none;fill-rule:nonzero;fill:rgb(26.666667%,26.666667%,26.666667%);fill-opacity:1;\" d=\"M 103.222656 141.472656 L 106.722656 126.886719 L 114.628906 131.726562 L 103.222656 141.472656 \"/>\n",
       "<path style=\"fill:none;stroke-width:1;stroke-linecap:butt;stroke-linejoin:miter;stroke:rgb(26.666667%,26.666667%,26.666667%);stroke-opacity:1;stroke-miterlimit:10;\" d=\"M 98 150 L 76.757812 256.207031 \"/>\n",
       "<path style=\" stroke:none;fill-rule:nonzero;fill:rgb(26.666667%,26.666667%,26.666667%);fill-opacity:1;\" d=\"M 73.960938 270.195312 L 72.214844 255.296875 L 81.304688 257.113281 L 73.960938 270.195312 \"/>\n",
       "<path style=\"fill:none;stroke-width:1;stroke-linecap:butt;stroke-linejoin:miter;stroke:rgb(26.666667%,26.666667%,26.666667%);stroke-opacity:1;stroke-miterlimit:10;\" d=\"M 98 150 L 98 255.734375 \"/>\n",
       "<path style=\" stroke:none;fill-rule:nonzero;fill:rgb(26.666667%,26.666667%,26.666667%);fill-opacity:1;\" d=\"M 98 270 L 93.363281 255.734375 L 102.636719 255.734375 L 98 270 \"/>\n",
       "<path style=\"fill:none;stroke-width:1;stroke-linecap:butt;stroke-linejoin:miter;stroke:rgb(26.666667%,26.666667%,26.666667%);stroke-opacity:1;stroke-miterlimit:10;\" d=\"M 98 150 L 119.242188 256.207031 \"/>\n",
       "<path style=\" stroke:none;fill-rule:nonzero;fill:rgb(26.666667%,26.666667%,26.666667%);fill-opacity:1;\" d=\"M 122.039062 270.195312 L 114.695312 257.113281 L 123.785156 255.296875 L 122.039062 270.195312 \"/>\n",
       "<path style=\"fill:none;stroke-width:1;stroke-linecap:butt;stroke-linejoin:miter;stroke:rgb(26.666667%,26.666667%,26.666667%);stroke-opacity:1;stroke-miterlimit:10;\" d=\"M 177.625 20 L 155.042969 126.265625 \"/>\n",
       "<path style=\" stroke:none;fill-rule:nonzero;fill:rgb(26.666667%,26.666667%,26.666667%);fill-opacity:1;\" d=\"M 152.078125 140.21875 L 150.511719 125.300781 L 159.578125 127.226562 L 152.078125 140.21875 \"/>\n",
       "<path style=\"fill:none;stroke-width:1;stroke-linecap:butt;stroke-linejoin:miter;stroke:rgb(26.666667%,26.666667%,26.666667%);stroke-opacity:1;stroke-miterlimit:10;\" d=\"M 150 150 L 150 255.734375 \"/>\n",
       "<path style=\" stroke:none;fill-rule:nonzero;fill:rgb(26.666667%,26.666667%,26.666667%);fill-opacity:1;\" d=\"M 150 270 L 145.363281 255.734375 L 154.636719 255.734375 L 150 270 \"/>\n",
       "<path style=\"fill:none;stroke-width:1;stroke-linecap:butt;stroke-linejoin:miter;stroke:rgb(26.666667%,26.666667%,26.666667%);stroke-opacity:1;stroke-miterlimit:10;\" d=\"M 177.625 20 L 176.304688 125.734375 \"/>\n",
       "<path style=\" stroke:none;fill-rule:nonzero;fill:rgb(26.666667%,26.666667%,26.666667%);fill-opacity:1;\" d=\"M 176.125 140 L 171.667969 125.679688 L 180.9375 125.792969 L 176.125 140 \"/>\n",
       "<path style=\"fill:none;stroke-width:1;stroke-linecap:butt;stroke-linejoin:miter;stroke:rgb(26.666667%,26.666667%,26.666667%);stroke-opacity:1;stroke-miterlimit:10;\" d=\"M 177.625 20 L 197.527344 126.148438 \"/>\n",
       "<path style=\" stroke:none;fill-rule:nonzero;fill:rgb(26.666667%,26.666667%,26.666667%);fill-opacity:1;\" d=\"M 200.15625 140.171875 L 192.972656 127.003906 L 202.082031 125.296875 L 200.15625 140.171875 \"/>\n",
       "<path style=\"fill:none;stroke-width:1;stroke-linecap:butt;stroke-linejoin:miter;stroke:rgb(26.666667%,26.666667%,26.666667%);stroke-opacity:1;stroke-miterlimit:10;\" d=\"M 177.625 20 L 219.230469 127.375 \"/>\n",
       "<path style=\" stroke:none;fill-rule:nonzero;fill:rgb(26.666667%,26.666667%,26.666667%);fill-opacity:1;\" d=\"M 224.386719 140.675781 L 214.910156 129.046875 L 223.554688 125.699219 L 224.386719 140.675781 \"/>\n",
       "<path style=\"fill:none;stroke-width:1;stroke-linecap:butt;stroke-linejoin:miter;stroke:rgb(26.666667%,26.666667%,26.666667%);stroke-opacity:1;stroke-miterlimit:10;\" d=\"M 177.625 20 L 241.707031 129.078125 \"/>\n",
       "<path style=\" stroke:none;fill-rule:nonzero;fill:rgb(26.666667%,26.666667%,26.666667%);fill-opacity:1;\" d=\"M 248.933594 141.378906 L 237.710938 131.425781 L 245.703125 126.730469 L 248.933594 141.378906 \"/>\n",
       "<path style=\"fill:none;stroke-width:1;stroke-linecap:butt;stroke-linejoin:miter;stroke:rgb(26.666667%,26.666667%,26.666667%);stroke-opacity:1;stroke-miterlimit:10;\" d=\"M 177.625 20 L 264.988281 130.9375 \"/>\n",
       "<path style=\" stroke:none;fill-rule:nonzero;fill:rgb(26.666667%,26.666667%,26.666667%);fill-opacity:1;\" d=\"M 273.8125 142.144531 L 261.34375 133.804688 L 268.628906 128.066406 L 273.8125 142.144531 \"/>\n",
       "<path style=\"fill-rule:nonzero;fill:rgb(100%,0%,0%);fill-opacity:1;stroke-width:1;stroke-linecap:butt;stroke-linejoin:miter;stroke:rgb(0%,0%,0%);stroke-opacity:1;stroke-miterlimit:10;\" d=\"M 187.625 20 C 187.625 25.523438 183.148438 30 177.625 30 C 172.101562 30 167.625 25.523438 167.625 20 C 167.625 14.476562 172.101562 10 177.625 10 C 183.148438 10 187.625 14.476562 187.625 20 \"/>\n",
       "<path style=\"fill-rule:nonzero;fill:rgb(100%,0%,0%);fill-opacity:1;stroke-width:1;stroke-linecap:butt;stroke-linejoin:miter;stroke:rgb(0%,0%,0%);stroke-opacity:1;stroke-miterlimit:10;\" d=\"M 43 150 C 43 155.523438 38.523438 160 33 160 C 27.476562 160 23 155.523438 23 150 C 23 144.476562 27.476562 140 33 140 C 38.523438 140 43 144.476562 43 150 \"/>\n",
       "<path style=\"fill-rule:nonzero;fill:rgb(100%,0%,0%);fill-opacity:1;stroke-width:1;stroke-linecap:butt;stroke-linejoin:miter;stroke:rgb(0%,0%,0%);stroke-opacity:1;stroke-miterlimit:10;\" d=\"M 30 280 C 30 285.523438 25.523438 290 20 290 C 14.476562 290 10 285.523438 10 280 C 10 274.476562 14.476562 270 20 270 C 25.523438 270 30 274.476562 30 280 \"/>\n",
       "<path style=\"fill-rule:nonzero;fill:rgb(100%,0%,0%);fill-opacity:1;stroke-width:1;stroke-linecap:butt;stroke-linejoin:miter;stroke:rgb(0%,0%,0%);stroke-opacity:1;stroke-miterlimit:10;\" d=\"M 56 280 C 56 285.523438 51.523438 290 46 290 C 40.476562 290 36 285.523438 36 280 C 36 274.476562 40.476562 270 46 270 C 51.523438 270 56 274.476562 56 280 \"/>\n",
       "<path style=\"fill-rule:nonzero;fill:rgb(100%,0%,0%);fill-opacity:1;stroke-width:1;stroke-linecap:butt;stroke-linejoin:miter;stroke:rgb(0%,0%,0%);stroke-opacity:1;stroke-miterlimit:10;\" d=\"M 108 150 C 108 155.523438 103.523438 160 98 160 C 92.476562 160 88 155.523438 88 150 C 88 144.476562 92.476562 140 98 140 C 103.523438 140 108 144.476562 108 150 \"/>\n",
       "<path style=\"fill-rule:nonzero;fill:rgb(100%,0%,0%);fill-opacity:1;stroke-width:1;stroke-linecap:butt;stroke-linejoin:miter;stroke:rgb(0%,0%,0%);stroke-opacity:1;stroke-miterlimit:10;\" d=\"M 82 280 C 82 285.523438 77.523438 290 72 290 C 66.476562 290 62 285.523438 62 280 C 62 274.476562 66.476562 270 72 270 C 77.523438 270 82 274.476562 82 280 \"/>\n",
       "<path style=\"fill-rule:nonzero;fill:rgb(100%,0%,0%);fill-opacity:1;stroke-width:1;stroke-linecap:butt;stroke-linejoin:miter;stroke:rgb(0%,0%,0%);stroke-opacity:1;stroke-miterlimit:10;\" d=\"M 108 280 C 108 285.523438 103.523438 290 98 290 C 92.476562 290 88 285.523438 88 280 C 88 274.476562 92.476562 270 98 270 C 103.523438 270 108 274.476562 108 280 \"/>\n",
       "<path style=\"fill-rule:nonzero;fill:rgb(100%,0%,0%);fill-opacity:1;stroke-width:1;stroke-linecap:butt;stroke-linejoin:miter;stroke:rgb(0%,0%,0%);stroke-opacity:1;stroke-miterlimit:10;\" d=\"M 134 280 C 134 285.523438 129.523438 290 124 290 C 118.476562 290 114 285.523438 114 280 C 114 274.476562 118.476562 270 124 270 C 129.523438 270 134 274.476562 134 280 \"/>\n",
       "<path style=\"fill-rule:nonzero;fill:rgb(100%,0%,0%);fill-opacity:1;stroke-width:1;stroke-linecap:butt;stroke-linejoin:miter;stroke:rgb(0%,0%,0%);stroke-opacity:1;stroke-miterlimit:10;\" d=\"M 160 150 C 160 155.523438 155.523438 160 150 160 C 144.476562 160 140 155.523438 140 150 C 140 144.476562 144.476562 140 150 140 C 155.523438 140 160 144.476562 160 150 \"/>\n",
       "<path style=\"fill-rule:nonzero;fill:rgb(100%,0%,0%);fill-opacity:1;stroke-width:1;stroke-linecap:butt;stroke-linejoin:miter;stroke:rgb(0%,0%,0%);stroke-opacity:1;stroke-miterlimit:10;\" d=\"M 160 280 C 160 285.523438 155.523438 290 150 290 C 144.476562 290 140 285.523438 140 280 C 140 274.476562 144.476562 270 150 270 C 155.523438 270 160 274.476562 160 280 \"/>\n",
       "<path style=\"fill-rule:nonzero;fill:rgb(100%,0%,0%);fill-opacity:1;stroke-width:1;stroke-linecap:butt;stroke-linejoin:miter;stroke:rgb(0%,0%,0%);stroke-opacity:1;stroke-miterlimit:10;\" d=\"M 186 150 C 186 155.523438 181.523438 160 176 160 C 170.476562 160 166 155.523438 166 150 C 166 144.476562 170.476562 140 176 140 C 181.523438 140 186 144.476562 186 150 \"/>\n",
       "<path style=\"fill-rule:nonzero;fill:rgb(100%,0%,0%);fill-opacity:1;stroke-width:1;stroke-linecap:butt;stroke-linejoin:miter;stroke:rgb(0%,0%,0%);stroke-opacity:1;stroke-miterlimit:10;\" d=\"M 212 150 C 212 155.523438 207.523438 160 202 160 C 196.476562 160 192 155.523438 192 150 C 192 144.476562 196.476562 140 202 140 C 207.523438 140 212 144.476562 212 150 \"/>\n",
       "<path style=\"fill-rule:nonzero;fill:rgb(100%,0%,0%);fill-opacity:1;stroke-width:1;stroke-linecap:butt;stroke-linejoin:miter;stroke:rgb(0%,0%,0%);stroke-opacity:1;stroke-miterlimit:10;\" d=\"M 238 150 C 238 155.523438 233.523438 160 228 160 C 222.476562 160 218 155.523438 218 150 C 218 144.476562 222.476562 140 228 140 C 233.523438 140 238 144.476562 238 150 \"/>\n",
       "<path style=\"fill-rule:nonzero;fill:rgb(100%,0%,0%);fill-opacity:1;stroke-width:1;stroke-linecap:butt;stroke-linejoin:miter;stroke:rgb(0%,0%,0%);stroke-opacity:1;stroke-miterlimit:10;\" d=\"M 264 150 C 264 155.523438 259.523438 160 254 160 C 248.476562 160 244 155.523438 244 150 C 244 144.476562 248.476562 140 254 140 C 259.523438 140 264 144.476562 264 150 \"/>\n",
       "<path style=\"fill-rule:nonzero;fill:rgb(100%,0%,0%);fill-opacity:1;stroke-width:1;stroke-linecap:butt;stroke-linejoin:miter;stroke:rgb(0%,0%,0%);stroke-opacity:1;stroke-miterlimit:10;\" d=\"M 290 150 C 290 155.523438 285.523438 160 280 160 C 274.476562 160 270 155.523438 270 150 C 270 144.476562 274.476562 140 280 140 C 285.523438 140 290 144.476562 290 150 \"/>\n",
       "<g style=\"fill:rgb(0%,0%,0%);fill-opacity:1;\">\n",
       "  <use xlink:href=\"#glyph0-1\" x=\"173.621094\" y=\"27.125\"/>\n",
       "</g>\n",
       "<g style=\"fill:rgb(0%,0%,0%);fill-opacity:1;\">\n",
       "  <use xlink:href=\"#glyph0-2\" x=\"29.890625\" y=\"157.050781\"/>\n",
       "</g>\n",
       "<g style=\"fill:rgb(0%,0%,0%);fill-opacity:1;\">\n",
       "  <use xlink:href=\"#glyph0-2\" x=\"11.710938\" y=\"287.125\"/>\n",
       "  <use xlink:href=\"#glyph0-1\" x=\"19.718938\" y=\"287.125\"/>\n",
       "</g>\n",
       "<g style=\"fill:rgb(0%,0%,0%);fill-opacity:1;\">\n",
       "  <use xlink:href=\"#glyph0-2\" x=\"38.886719\" y=\"287.050781\"/>\n",
       "  <use xlink:href=\"#glyph0-2\" x=\"46.894719\" y=\"287.050781\"/>\n",
       "</g>\n",
       "<g style=\"fill:rgb(0%,0%,0%);fill-opacity:1;\">\n",
       "  <use xlink:href=\"#glyph0-3\" x=\"94.023438\" y=\"157.117188\"/>\n",
       "</g>\n",
       "<g style=\"fill:rgb(0%,0%,0%);fill-opacity:1;\">\n",
       "  <use xlink:href=\"#glyph0-4\" x=\"68.003906\" y=\"287.117188\"/>\n",
       "</g>\n",
       "<g style=\"fill:rgb(0%,0%,0%);fill-opacity:1;\">\n",
       "  <use xlink:href=\"#glyph0-2\" x=\"89.734375\" y=\"287.117188\"/>\n",
       "  <use xlink:href=\"#glyph0-3\" x=\"97.742375\" y=\"287.117188\"/>\n",
       "</g>\n",
       "<g style=\"fill:rgb(0%,0%,0%);fill-opacity:1;\">\n",
       "  <use xlink:href=\"#glyph0-2\" x=\"115.769531\" y=\"287.117188\"/>\n",
       "  <use xlink:href=\"#glyph0-5\" x=\"123.777531\" y=\"287.117188\"/>\n",
       "</g>\n",
       "<g style=\"fill:rgb(0%,0%,0%);fill-opacity:1;\">\n",
       "  <use xlink:href=\"#glyph0-5\" x=\"146.078125\" y=\"157.117188\"/>\n",
       "</g>\n",
       "<g style=\"fill:rgb(0%,0%,0%);fill-opacity:1;\">\n",
       "  <use xlink:href=\"#glyph0-2\" x=\"141.507812\" y=\"287.078125\"/>\n",
       "  <use xlink:href=\"#glyph0-6\" x=\"149.515813\" y=\"287.078125\"/>\n",
       "</g>\n",
       "<g style=\"fill:rgb(0%,0%,0%);fill-opacity:1;\">\n",
       "  <use xlink:href=\"#glyph0-6\" x=\"171.988281\" y=\"157.078125\"/>\n",
       "</g>\n",
       "<g style=\"fill:rgb(0%,0%,0%);fill-opacity:1;\">\n",
       "  <use xlink:href=\"#glyph0-7\" x=\"197.953125\" y=\"157.050781\"/>\n",
       "</g>\n",
       "<g style=\"fill:rgb(0%,0%,0%);fill-opacity:1;\">\n",
       "  <use xlink:href=\"#glyph0-8\" x=\"223.941406\" y=\"157.117188\"/>\n",
       "</g>\n",
       "<g style=\"fill:rgb(0%,0%,0%);fill-opacity:1;\">\n",
       "  <use xlink:href=\"#glyph0-9\" x=\"250.03125\" y=\"157.050781\"/>\n",
       "</g>\n",
       "<g style=\"fill:rgb(0%,0%,0%);fill-opacity:1;\">\n",
       "  <use xlink:href=\"#glyph0-10\" x=\"276.011719\" y=\"157.117188\"/>\n",
       "</g>\n",
       "</g>\n",
       "</svg>\n"
      ],
      "text/plain": [
       "<igraph.drawing.cairo.plot.CairoPlot at 0x72da203cc670>"
      ]
     },
     "execution_count": 11,
     "metadata": {
      "image/svg+xml": {
       "isolated": true
      }
     },
     "output_type": "execute_result"
    }
   ],
   "source": [
    "# 从根节点开始添加节点和边\n",
    "add_nodes_and_edges(root)\n",
    "layout = g.layout(\"tree\", root=[0])\n",
    "\n",
    "# 设置节点名称\n",
    "g.vs[\"label\"] = list(nodes_dict.keys())\n",
    "\n",
    "# 可视化\n",
    "ig.plot(g, layout=layout, bbox=(300, 300), margin=20)"
   ]
  },
  {
   "cell_type": "markdown",
   "id": "7ccd8932",
   "metadata": {},
   "source": [
    "## tic-tac-toe"
   ]
  },
  {
   "cell_type": "markdown",
   "id": "fbb74fab",
   "metadata": {},
   "source": [
    "- https://pastebin.com/bUcRrKwF\n",
    "    - https://www.youtube.com/watch?v=gvlO_-Fdk9w"
   ]
  }
 ],
 "metadata": {
  "kernelspec": {
   "display_name": "Python 3 (ipykernel)",
   "language": "python",
   "name": "python3"
  },
  "language_info": {
   "codemirror_mode": {
    "name": "ipython",
    "version": 3
   },
   "file_extension": ".py",
   "mimetype": "text/x-python",
   "name": "python",
   "nbconvert_exporter": "python",
   "pygments_lexer": "ipython3",
   "version": "3.10.13"
  },
  "toc": {
   "base_numbering": 1,
   "nav_menu": {},
   "number_sections": true,
   "sideBar": true,
   "skip_h1_title": false,
   "title_cell": "Table of Contents",
   "title_sidebar": "Contents",
   "toc_cell": false,
   "toc_position": {},
   "toc_section_display": true,
   "toc_window_display": false
  }
 },
 "nbformat": 4,
 "nbformat_minor": 5
}
