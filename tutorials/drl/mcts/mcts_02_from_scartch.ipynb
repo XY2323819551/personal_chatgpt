{
 "cells": [
  {
   "cell_type": "markdown",
   "id": "4d66efc0",
   "metadata": {},
   "source": [
    "- 补充\n",
    "    - nodes correspond to states $s$\n",
    "    - edges refer to actions $a$\n",
    "        - each edge transfers the environment from its parent state to its child state\n",
    "            - state transition"
   ]
  },
  {
   "cell_type": "code",
   "execution_count": 1,
   "id": "9ad8d83a",
   "metadata": {
    "ExecuteTime": {
     "end_time": "2024-03-18T13:39:33.423636Z",
     "start_time": "2024-03-18T13:39:33.295515Z"
    }
   },
   "outputs": [],
   "source": [
    "import collections\n",
    "import numpy as np\n",
    "import math"
   ]
  },
  {
   "cell_type": "markdown",
   "id": "76b194f9",
   "metadata": {},
   "source": [
    "## Node & search "
   ]
  },
  {
   "cell_type": "markdown",
   "id": "907e4c7b",
   "metadata": {},
   "source": [
    "### Node"
   ]
  },
  {
   "cell_type": "markdown",
   "id": "f5e774f8",
   "metadata": {},
   "source": [
    "- 因为 simulate（rollout/evaluate）完了之后涉及到 bp（反向传播或者回溯），每个 node 除了需要指向 children，还需要维护 parent"
   ]
  },
  {
   "cell_type": "code",
   "execution_count": 3,
   "id": "6ab0680a",
   "metadata": {
    "ExecuteTime": {
     "end_time": "2024-03-18T14:48:59.094280Z",
     "start_time": "2024-03-18T14:48:59.082443Z"
    }
   },
   "outputs": [],
   "source": [
    "class UCTNode():\n",
    "    def __init__(self, state, action, parent=None):\n",
    "        # self.id = id\n",
    "        self.state = state\n",
    "        self.action = action\n",
    "        \n",
    "        self.is_expanded = False\n",
    "        \n",
    "        # self.parent.child_total_value[self.action]\n",
    "        # self.parent.child_number_visits[self.action]\n",
    "        # 指向self\n",
    "        self.parent = parent  # Optional[UCTNode]\n",
    "        \n",
    "        self.children = {}  # Dict[action, UCTNode]\n",
    "        self.child_priors = np.zeros([10], dtype=np.float32)\n",
    "        self.child_total_value = np.zeros([10], dtype=np.float32)\n",
    "        self.child_number_visits = np.zeros([10], dtype=np.float32)"
   ]
  },
  {
   "cell_type": "markdown",
   "id": "7ccd8932",
   "metadata": {},
   "source": [
    "## tic-tac-toe"
   ]
  },
  {
   "cell_type": "markdown",
   "id": "fbb74fab",
   "metadata": {},
   "source": [
    "- https://pastebin.com/bUcRrKwF\n",
    "    - https://www.youtube.com/watch?v=gvlO_-Fdk9w"
   ]
  }
 ],
 "metadata": {
  "kernelspec": {
   "display_name": "Python 3 (ipykernel)",
   "language": "python",
   "name": "python3"
  },
  "language_info": {
   "codemirror_mode": {
    "name": "ipython",
    "version": 3
   },
   "file_extension": ".py",
   "mimetype": "text/x-python",
   "name": "python",
   "nbconvert_exporter": "python",
   "pygments_lexer": "ipython3",
   "version": "3.10.13"
  },
  "toc": {
   "base_numbering": 1,
   "nav_menu": {},
   "number_sections": true,
   "sideBar": true,
   "skip_h1_title": false,
   "title_cell": "Table of Contents",
   "title_sidebar": "Contents",
   "toc_cell": false,
   "toc_position": {},
   "toc_section_display": true,
   "toc_window_display": false
  }
 },
 "nbformat": 4,
 "nbformat_minor": 5
}
