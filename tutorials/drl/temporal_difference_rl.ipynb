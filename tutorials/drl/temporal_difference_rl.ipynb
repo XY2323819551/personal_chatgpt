{
 "cells": [
  {
   "cell_type": "markdown",
   "id": "0994b928",
   "metadata": {},
   "source": [
    "## basics"
   ]
  },
  {
   "cell_type": "markdown",
   "id": "3a4256c0",
   "metadata": {},
   "source": [
    "- model-based vs. model-free\n",
    "    - model-based\n",
    "        - 我们需要知道关于环境的model，即 $P_a(s'|s)$（转移函数，transitions） 和 $r(s,a,s')$（奖励函数，rewards）\n",
    "        - value iteration\n",
    "    - model-free\n",
    "        - 不需要知道 $P_a(s'|s)$ 和 $r(s,a,s')$\n",
    "        - Q-learning & SARSA\n",
    "        - 那么在所知信息十分有限的情况下，如何计算得到 policy 呢？\n",
    "            - 基于 learning，或者说叫 sample based methods\n",
    "            - We learn through **experience** by trying actions and seeing what the results is, making this machine learning problem.\n",
    "        - we learn a value function or a policy directly；\n",
    "- on-policy vs. off-policy"
   ]
  }
 ],
 "metadata": {
  "kernelspec": {
   "display_name": "Python 3 (ipykernel)",
   "language": "python",
   "name": "python3"
  },
  "language_info": {
   "codemirror_mode": {
    "name": "ipython",
    "version": 3
   },
   "file_extension": ".py",
   "mimetype": "text/x-python",
   "name": "python",
   "nbconvert_exporter": "python",
   "pygments_lexer": "ipython3",
   "version": "3.10.13"
  },
  "toc": {
   "base_numbering": 1,
   "nav_menu": {},
   "number_sections": true,
   "sideBar": true,
   "skip_h1_title": false,
   "title_cell": "Table of Contents",
   "title_sidebar": "Contents",
   "toc_cell": false,
   "toc_position": {},
   "toc_section_display": true,
   "toc_window_display": false
  }
 },
 "nbformat": 4,
 "nbformat_minor": 5
}
