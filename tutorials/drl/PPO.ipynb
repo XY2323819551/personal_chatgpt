{
 "cells": [
  {
   "cell_type": "markdown",
   "id": "3db90a5d-2266-4b26-996d-c2cc993ee1f0",
   "metadata": {},
   "source": [
    "## basics"
   ]
  },
  {
   "cell_type": "markdown",
   "id": "0530076f-1350-4e85-b78f-f8458cb80a2a",
   "metadata": {},
   "source": [
    "- 两个迭代训练的神经网络\n",
    "    - Policy network\n",
    "    - value function network\n",
    "        - VF"
   ]
  }
 ],
 "metadata": {
  "kernelspec": {
   "display_name": "Python 3 (ipykernel)",
   "language": "python",
   "name": "python3"
  },
  "language_info": {
   "codemirror_mode": {
    "name": "ipython",
    "version": 3
   },
   "file_extension": ".py",
   "mimetype": "text/x-python",
   "name": "python",
   "nbconvert_exporter": "python",
   "pygments_lexer": "ipython3",
   "version": "3.10.13"
  }
 },
 "nbformat": 4,
 "nbformat_minor": 5
}
