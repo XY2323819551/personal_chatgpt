{
 "cells": [
  {
   "cell_type": "markdown",
   "id": "0c3a4339",
   "metadata": {},
   "source": [
    "- references\n",
    "    - https://www.youtube.com/watch?v=l87rgLg90HI"
   ]
  },
  {
   "cell_type": "code",
   "execution_count": 1,
   "id": "05d2029a",
   "metadata": {
    "ExecuteTime": {
     "end_time": "2023-11-29T14:57:32.475535Z",
     "start_time": "2023-11-29T14:57:32.121633Z"
    }
   },
   "outputs": [],
   "source": [
    "from IPython.display import Image\n",
    "from collections import defaultdict\n",
    "from matplotlib import animation\n",
    "import matplotlib.pyplot as plt\n",
    "from IPython.display import HTML"
   ]
  },
  {
   "cell_type": "code",
   "execution_count": 2,
   "id": "7b14656f",
   "metadata": {
    "ExecuteTime": {
     "end_time": "2023-11-29T14:57:33.095582Z",
     "start_time": "2023-11-29T14:57:33.092903Z"
    }
   },
   "outputs": [],
   "source": [
    "import sys\n",
    "import os\n",
    "sys.path.append(os.path.abspath('../'))"
   ]
  },
  {
   "cell_type": "markdown",
   "id": "dcf18d27",
   "metadata": {},
   "source": [
    "## MDPs with $P$ and $R$"
   ]
  },
  {
   "cell_type": "markdown",
   "id": "82332829",
   "metadata": {},
   "source": [
    "- solving MDPs \n",
    "    - finding the optimal policy\n",
    "\n",
    "- MDPs\n",
    "    - $S$: set of states\n",
    "    - $A$: set of actions\n",
    "    - $P$: transition function\n",
    "    - $R$: reward function"
   ]
  },
  {
   "cell_type": "markdown",
   "id": "4788546d",
   "metadata": {},
   "source": [
    "### bellman equation"
   ]
  },
  {
   "cell_type": "markdown",
   "id": "c33947d5",
   "metadata": {},
   "source": [
    "$$\n",
    "V^*(s)=\\max_{a\\in A}\\sum_{s'\\in S}P(s'|s,a)\\left[R(s,a,s')+\\gamma V^*(s')\\right]\n",
    "$$\n",
    "\n",
    "- 状态 $V^*(s)$ 的递归定义；\n",
    "- iteratively solve via dynamic programming\n",
    "    - start with $V_0(s)=0$ for all states $s$\n",
    "        - $V_{t+1}(s)\\leftarrow \\max_{a\\in A}\\sum_{s'\\in S}P(s'|s,a)\\left[R(s,a,s')+\\gamma V_t(s')\\right]$\n",
    "    - 迭代更新 bellman equation 直到收敛\n",
    "- note\n",
    "    - $R(s_k,a_k)$：表示在 $s_k$ 时采取 $a_k$ 就能得到的 reward（reward 的计算仅依赖当前状态 $s_k$ 和当前状态下采取的 $a_k$\n",
    "    - $P(s_{k+1}|s_k,a_k)$ 这里刻画转移；"
   ]
  },
  {
   "cell_type": "markdown",
   "id": "e9dd08be",
   "metadata": {},
   "source": [
    "### value iteration algo"
   ]
  },
  {
   "cell_type": "markdown",
   "id": "432d3383",
   "metadata": {},
   "source": [
    "- $Q(s,a)$: expected total reward for taking action $a$ in state $s$；\n",
    "    - 如下是不考虑折扣因子的情况\n",
    "\n",
    "    $$\n",
    "    Q(s,a)=R(s,a)+\\sum_{s'}P(s'|s,a)V(s')\n",
    "    $$\n",
    "    \n",
    "    - 考虑折扣因子的情况\n",
    "    \n",
    "    $$\n",
    "    Q(s,a)=R(s,a)+\\gamma\\sum_{s'}P(s'|s,a)V(s')\n",
    "    $$\n",
    "    \n",
    "- $V(s)$：maximum expected total reward starting from state $s$（value function）\n",
    "\n",
    "    $$\n",
    "    V^*(s)=\\max_{a}Q(s,a)\n",
    "    $$"
   ]
  },
  {
   "cell_type": "code",
   "execution_count": null,
   "id": "0497cf56",
   "metadata": {
    "ExecuteTime": {
     "end_time": "2023-11-29T14:09:31.228668Z",
     "start_time": "2023-11-29T14:09:31.202324Z"
    },
    "scrolled": false
   },
   "outputs": [],
   "source": [
    "Image('../../imgs/value_iteration.png', width=400)"
   ]
  },
  {
   "cell_type": "markdown",
   "id": "a09e8447",
   "metadata": {},
   "source": [
    "### gambler's game"
   ]
  },
  {
   "cell_type": "code",
   "execution_count": null,
   "id": "ee7b95e4",
   "metadata": {
    "ExecuteTime": {
     "end_time": "2023-11-29T14:08:40.788690Z",
     "start_time": "2023-11-29T14:08:40.782993Z"
    }
   },
   "outputs": [],
   "source": [
    "# target \n",
    "N = 10\n",
    "# win bet\n",
    "p = 0.4\n",
    "S = [*range(0, N+1)]\n",
    "A = [*range(0, N+1)]"
   ]
  },
  {
   "cell_type": "code",
   "execution_count": null,
   "id": "68576551",
   "metadata": {
    "ExecuteTime": {
     "end_time": "2023-11-29T13:53:03.245326Z",
     "start_time": "2023-11-29T13:53:03.235809Z"
    }
   },
   "outputs": [],
   "source": [
    "def value_iteration(S, A, P, R):\n",
    "    V = {s: 0 for s in S}\n",
    "    optimal_policy = {}\n",
    "    while True:\n",
    "        oldV = V.copy()\n",
    "        for s in S:\n",
    "            Q={}\n",
    "            for a in A:\n",
    "                Q[a] = R(s,a) + sum(P(s, a, s_next) * oldV[s_next] for s_next in S)\n",
    "            V[s] = max(Q.values())\n",
    "            optimal_policy[s] = max(Q, key=Q.get)\n",
    "        if all(oldV[s] == V[s] for s in S):\n",
    "            break\n",
    "    return V, optimal_policy"
   ]
  },
  {
   "cell_type": "code",
   "execution_count": null,
   "id": "470417e4",
   "metadata": {
    "ExecuteTime": {
     "end_time": "2023-11-29T13:53:04.173234Z",
     "start_time": "2023-11-29T13:53:04.166740Z"
    }
   },
   "outputs": [],
   "source": [
    "def P(s, a, s_next):\n",
    "    if a <= min(s, N-s) and 0 < s < N and s_next == s + a:\n",
    "        return p\n",
    "    elif a <= min(s, N-s) and 0 < s < N and s_next == s - a:\n",
    "        return 1-p\n",
    "    return 0"
   ]
  },
  {
   "cell_type": "code",
   "execution_count": null,
   "id": "19927b9c",
   "metadata": {
    "ExecuteTime": {
     "end_time": "2023-11-29T13:53:06.039492Z",
     "start_time": "2023-11-29T13:53:06.034658Z"
    }
   },
   "outputs": [],
   "source": [
    "def R(s, a):\n",
    "    if s == N:\n",
    "        return 1\n",
    "    return 0"
   ]
  },
  {
   "cell_type": "code",
   "execution_count": null,
   "id": "091e6c81",
   "metadata": {
    "ExecuteTime": {
     "end_time": "2023-11-29T13:53:07.410228Z",
     "start_time": "2023-11-29T13:53:07.302906Z"
    }
   },
   "outputs": [],
   "source": [
    "V, optimal_policy = value_iteration(S, A, P, R)"
   ]
  },
  {
   "cell_type": "code",
   "execution_count": null,
   "id": "408eef9b",
   "metadata": {
    "ExecuteTime": {
     "end_time": "2023-11-29T13:53:08.311509Z",
     "start_time": "2023-11-29T13:53:08.305467Z"
    }
   },
   "outputs": [],
   "source": [
    "V"
   ]
  },
  {
   "cell_type": "code",
   "execution_count": null,
   "id": "9249911e",
   "metadata": {
    "ExecuteTime": {
     "end_time": "2023-11-29T13:53:10.169096Z",
     "start_time": "2023-11-29T13:53:10.162042Z"
    }
   },
   "outputs": [],
   "source": [
    "optimal_policy"
   ]
  },
  {
   "cell_type": "markdown",
   "id": "8d9be916",
   "metadata": {},
   "source": [
    "## grid world"
   ]
  },
  {
   "cell_type": "markdown",
   "id": "1d964d6c",
   "metadata": {},
   "source": [
    "- value function: $V(s)$（关于状态 $s$ 的价值函数）\n",
    "    - 数据结构：`defaultdict(lambda: 0.)`（key：state）\n",
    "- q table：$Q(s,a)$\n",
    "    - 数据结构：`defaultdict(lambda: 0.)`（key：(state, action)）\n",
    "- 以上两个都是离散状态"
   ]
  },
  {
   "cell_type": "code",
   "execution_count": 3,
   "id": "6b4f539d",
   "metadata": {
    "ExecuteTime": {
     "end_time": "2023-11-29T14:57:43.127301Z",
     "start_time": "2023-11-29T14:57:43.117634Z"
    }
   },
   "outputs": [],
   "source": [
    "class ValueIteration:\n",
    "    def __init__(self, mdp):\n",
    "        self.mdp = mdp\n",
    "        self.V = defaultdict(lambda: 0.0)\n",
    "        self.Q = defaultdict(lambda: 0.0)\n",
    "\n",
    "    def value_iteration(self, max_iterations=100, theta=0.001):\n",
    "\n",
    "        for i in range(max_iterations):\n",
    "            delta = 0.0\n",
    "            new_values = defaultdict(lambda: 0.0)\n",
    "            # 状态空间\n",
    "            for state in self.mdp.get_states():\n",
    "#                 # 计算 q(state, a) given state\n",
    "#                 qtable = defaultdict(lambda: 0.)\n",
    "                # 动作空间: 当前状态 state 下允许转移的 action（valid action）\n",
    "                for action in self.mdp.get_actions(state):\n",
    "                    # Calculate the value of Q(s,a)\n",
    "                    new_value = 0.0\n",
    "                    for (new_state, probability) in self.mdp.get_transitions(state, action):\n",
    "                        # instant reward\n",
    "                        reward = self.mdp.get_reward(state, action, new_state)\n",
    "                        new_value += probability * (\n",
    "                            reward + (self.mdp.get_discount_factor() * self.V[new_state])\n",
    "                        )\n",
    "#                     qtable[(state, action)] = new_value\n",
    "                    self.Q[(state, action)] = new_value\n",
    "\n",
    "                # V(s) = max_a Q(sa)\n",
    "                max_q = float('-inf')\n",
    "                arg_max_q = None\n",
    "                for action in self.mdp.get_actions(state):\n",
    "                    if max_q < self.Q[(state, action)]:\n",
    "                        max_q = self.Q[(state, action)]\n",
    "                        arg_max_q = action \n",
    "                        \n",
    "                delta = max(delta, abs(self.V[state] - max_q))\n",
    "                new_values[state] = max_q\n",
    "\n",
    "            self.V = new_values.copy()\n",
    "            print(f'iteration: {i}, max delta: {delta}')\n",
    "            # Terminate if the value function has converged\n",
    "            if delta < theta:\n",
    "                return i"
   ]
  },
  {
   "cell_type": "code",
   "execution_count": 4,
   "id": "244ebc27",
   "metadata": {
    "ExecuteTime": {
     "end_time": "2023-11-29T14:57:45.343305Z",
     "start_time": "2023-11-29T14:57:45.339011Z"
    }
   },
   "outputs": [],
   "source": [
    "os.chdir('./utils') "
   ]
  },
  {
   "cell_type": "code",
   "execution_count": 5,
   "id": "8e5991da",
   "metadata": {
    "ExecuteTime": {
     "end_time": "2023-11-29T14:57:46.423749Z",
     "start_time": "2023-11-29T14:57:46.398205Z"
    },
    "scrolled": true
   },
   "outputs": [],
   "source": [
    "from utils import gridworld"
   ]
  },
  {
   "cell_type": "code",
   "execution_count": 6,
   "id": "c1f8e79d",
   "metadata": {
    "ExecuteTime": {
     "end_time": "2023-11-29T14:57:48.456936Z",
     "start_time": "2023-11-29T14:57:48.451298Z"
    }
   },
   "outputs": [],
   "source": [
    "gw = gridworld.GridWorld()"
   ]
  },
  {
   "cell_type": "code",
   "execution_count": 7,
   "id": "24dc50f5",
   "metadata": {
    "ExecuteTime": {
     "end_time": "2023-11-29T14:57:50.422487Z",
     "start_time": "2023-11-29T14:57:50.418090Z"
    }
   },
   "outputs": [],
   "source": [
    "model = ValueIteration(gw)"
   ]
  },
  {
   "cell_type": "code",
   "execution_count": 8,
   "id": "9020d89b",
   "metadata": {
    "ExecuteTime": {
     "end_time": "2023-11-29T14:57:51.506771Z",
     "start_time": "2023-11-29T14:57:51.464358Z"
    }
   },
   "outputs": [
    {
     "name": "stdout",
     "output_type": "stream",
     "text": [
      "iteration: 0, max delta: 1.0\n",
      "iteration: 1, max delta: 0.7200000000000001\n",
      "iteration: 2, max delta: 0.5184000000000001\n",
      "iteration: 3, max delta: 0.3732480000000001\n",
      "iteration: 4, max delta: 0.26873856000000007\n",
      "iteration: 5, max delta: 0.21347919360000006\n",
      "iteration: 6, max delta: 0.13127206809600006\n",
      "iteration: 7, max delta: 0.07603935720192012\n",
      "iteration: 8, max delta: 0.03713760877501443\n",
      "iteration: 9, max delta: 0.017503646213894386\n",
      "iteration: 10, max delta: 0.00782998158524284\n",
      "iteration: 11, max delta: 0.006619227655718318\n",
      "iteration: 12, max delta: 0.003824154683289116\n",
      "iteration: 13, max delta: 0.002105095303100324\n",
      "iteration: 14, max delta: 0.0010683398432171365\n",
      "iteration: 15, max delta: 0.0005207601015905228\n"
     ]
    },
    {
     "data": {
      "text/plain": [
       "15"
      ]
     },
     "execution_count": 8,
     "metadata": {},
     "output_type": "execute_result"
    }
   ],
   "source": [
    "model.value_iteration()"
   ]
  },
  {
   "cell_type": "code",
   "execution_count": null,
   "id": "a6953ace",
   "metadata": {
    "ExecuteTime": {
     "end_time": "2023-11-29T14:45:29.731943Z",
     "start_time": "2023-11-29T14:45:29.723547Z"
    }
   },
   "outputs": [],
   "source": [
    "model.V"
   ]
  },
  {
   "cell_type": "code",
   "execution_count": 9,
   "id": "6f3fcecd",
   "metadata": {
    "ExecuteTime": {
     "end_time": "2023-11-29T14:57:54.920376Z",
     "start_time": "2023-11-29T14:57:54.773196Z"
    }
   },
   "outputs": [
    {
     "data": {
      "image/png": "[encoded data removed]",
      "text/plain": [
       "<Figure size 600x450 with 1 Axes>"
      ]
     },
     "metadata": {},
     "output_type": "display_data"
    }
   ],
   "source": [
    "gw.visualise_value_function(model.V)"
   ]
  },
  {
   "cell_type": "code",
   "execution_count": 10,
   "id": "b507465a",
   "metadata": {
    "ExecuteTime": {
     "end_time": "2023-11-29T14:57:56.841038Z",
     "start_time": "2023-11-29T14:57:56.836245Z"
    }
   },
   "outputs": [],
   "source": [
    "def get_q_value(mdp, s, a, V):\n",
    "    q_value = 0.0\n",
    "    for (next_s, p) in mdp.get_transitions(s, a):\n",
    "        r = mdp.get_reward(s, a, next_s)\n",
    "#         print(s, a, next_s, p, r)\n",
    "        q_value += p*(r + mdp.discount_factor * V[next_s])\n",
    "    return q_value\n",
    "\n",
    "def extract_policy(mdp, V):\n",
    "    policy = defaultdict(lambda: None)\n",
    "    for s in mdp.get_states():\n",
    "        max_q = float('-inf')\n",
    "        for a in mdp.get_actions(s):\n",
    "            cur_q = get_q_value(mdp, s, a, V)\n",
    "#             print(s, a, cur_q)\n",
    "            if cur_q > max_q:\n",
    "                max_q = cur_q\n",
    "                policy[s] = a\n",
    "    return policy"
   ]
  },
  {
   "cell_type": "code",
   "execution_count": 14,
   "id": "cc677865",
   "metadata": {
    "ExecuteTime": {
     "end_time": "2023-11-29T15:04:55.216378Z",
     "start_time": "2023-11-29T15:04:55.207066Z"
    },
    "scrolled": false
   },
   "outputs": [
    {
     "data": {
      "text/plain": [
       "defaultdict(<function __main__.extract_policy.<locals>.<lambda>()>,\n",
       "            {('terminal', 'terminal'): 'terminate',\n",
       "             (0, 0): '▲',\n",
       "             (0, 1): '▲',\n",
       "             (0, 2): '►',\n",
       "             (1, 0): '◄',\n",
       "             (1, 2): '►',\n",
       "             (2, 0): '▲',\n",
       "             (2, 1): '▲',\n",
       "             (2, 2): '►',\n",
       "             (3, 0): '◄',\n",
       "             (3, 1): 'terminate',\n",
       "             (3, 2): 'terminate'})"
      ]
     },
     "execution_count": 14,
     "metadata": {},
     "output_type": "execute_result"
    }
   ],
   "source": [
    "policy = extract_policy(gw, model.V)\n",
    "policy"
   ]
  },
  {
   "cell_type": "code",
   "execution_count": 15,
   "id": "0e89d0fb",
   "metadata": {
    "ExecuteTime": {
     "end_time": "2023-11-29T15:04:57.625210Z",
     "start_time": "2023-11-29T15:04:57.469638Z"
    }
   },
   "outputs": [
    {
     "data": {
      "image/png": "[encoded data removed]",
      "text/plain": [
       "<Figure size 600x450 with 1 Axes>"
      ]
     },
     "metadata": {},
     "output_type": "display_data"
    }
   ],
   "source": [
    "gw.visualise_policy(policy)"
   ]
  },
  {
   "cell_type": "code",
   "execution_count": 16,
   "id": "55593904",
   "metadata": {
    "ExecuteTime": {
     "end_time": "2023-11-29T15:05:06.100131Z",
     "start_time": "2023-11-29T15:05:06.088987Z"
    }
   },
   "outputs": [
    {
     "data": {
      "text/plain": [
       "defaultdict(<function __main__.ValueIteration.__init__.<locals>.<lambda>()>,\n",
       "            {(('terminal', 'terminal'), 'terminate'): 0.0,\n",
       "             ((0, 0), '▲'): 0.4905111290848818,\n",
       "             ((0, 0), '▼'): 0.4358313274983339,\n",
       "             ((0, 0), '◄'): 0.4481047986029814,\n",
       "             ((0, 0), '►'): 0.40459683135234953,\n",
       "             ((0, 1), '▲'): 0.5662859470207978,\n",
       "             ((0, 1), '▼'): 0.4549397738012999,\n",
       "             ((0, 1), '◄'): 0.5098678966436481,\n",
       "             ((0, 1), '►'): 0.5098678966436481,\n",
       "             ((0, 2), '▲'): 0.5894014364519162,\n",
       "             ((0, 2), '▼'): 0.5327350648189662,\n",
       "             ((0, 2), '◄'): 0.5733692434749165,\n",
       "             ((0, 2), '►'): 0.6449604156579638,\n",
       "             ((1, 0), '▲'): 0.39640443660932984,\n",
       "             ((1, 0), '▼'): 0.39640443660932984,\n",
       "             ((1, 0), '◄'): 0.430392831592005,\n",
       "             ((1, 0), '►'): 0.4195334752343953,\n",
       "             ((1, 2), '▲'): 0.6702974088148523,\n",
       "             ((1, 2), '▼'): 0.6702974088148523,\n",
       "             ((1, 2), '◄'): 0.5983503329747971,\n",
       "             ((1, 2), '►'): 0.7443799065969555,\n",
       "             ((2, 0), '▲'): 0.47534495797204973,\n",
       "             ((2, 0), '▼'): 0.40576328059298905,\n",
       "             ((2, 0), '◄'): 0.40374472673701123,\n",
       "             ((2, 0), '►'): 0.2935831696057611,\n",
       "             ((2, 1), '▲'): 0.5718588780335343,\n",
       "             ((2, 1), '▼'): 0.3036237748342684,\n",
       "             ((2, 1), '◄'): 0.5308066932366198,\n",
       "             ((2, 1), '►'): -0.6009314865085618,\n",
       "             ((2, 2), '▲'): 0.7673857560811711,\n",
       "             ((2, 2), '▼'): 0.5687323302609658,\n",
       "             ((2, 2), '◄'): 0.6637194272900966,\n",
       "             ((2, 2), '►'): 0.847766223163821,\n",
       "             ((3, 0), '▲'): -0.652312145411504,\n",
       "             ((3, 0), '▼'): 0.2670341889303444,\n",
       "             ((3, 0), '◄'): 0.2770747941588517,\n",
       "             ((3, 0), '►'): 0.13426462613457935,\n",
       "             ((3, 1), 'terminate'): -1.0,\n",
       "             ((3, 2), 'terminate'): 1.0})"
      ]
     },
     "execution_count": 16,
     "metadata": {},
     "output_type": "execute_result"
    }
   ],
   "source": [
    "policy_2 = defaultdict(lambda: None)\n",
    "for (s, a)"
   ]
  },
  {
   "cell_type": "code",
   "execution_count": null,
   "id": "24b49119",
   "metadata": {},
   "outputs": [],
   "source": []
  }
 ],
 "metadata": {
  "kernelspec": {
   "display_name": "Python 3 (ipykernel)",
   "language": "python",
   "name": "python3"
  },
  "language_info": {
   "codemirror_mode": {
    "name": "ipython",
    "version": 3
   },
   "file_extension": ".py",
   "mimetype": "text/x-python",
   "name": "python",
   "nbconvert_exporter": "python",
   "pygments_lexer": "ipython3",
   "version": "3.10.13"
  },
  "toc": {
   "base_numbering": 1,
   "nav_menu": {},
   "number_sections": true,
   "sideBar": true,
   "skip_h1_title": false,
   "title_cell": "Table of Contents",
   "title_sidebar": "Contents",
   "toc_cell": false,
   "toc_position": {},
   "toc_section_display": true,
   "toc_window_display": false
  }
 },
 "nbformat": 4,
 "nbformat_minor": 5
}
