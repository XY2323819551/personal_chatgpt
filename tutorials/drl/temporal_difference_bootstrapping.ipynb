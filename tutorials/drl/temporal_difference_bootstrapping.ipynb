{
 "cells": [
  {
   "cell_type": "code",
   "execution_count": 1,
   "id": "8e5dca78-073d-4a04-b823-5560b83516a1",
   "metadata": {},
   "outputs": [],
   "source": [
    "from IPython.display import Image"
   ]
  },
  {
   "cell_type": "markdown",
   "id": "3a4256c0",
   "metadata": {},
   "source": [
    "- model-based vs. model-free\n",
    "    - model-based\n",
    "        - 我们需要知道关于环境的model，即 $P_a(s'|s)$（转移函数，transitions） 和 $r(s,a,s')$（奖励函数，rewards）\n",
    "        - value iteration\n",
    "    - model-free\n",
    "        - 不需要知道 $P_a(s'|s)$ 和 $r(s,a,s')$\n",
    "        - Q-learning & SARSA\n",
    "        - 那么在所知信息十分有限的情况下，如何计算得到 policy 呢？\n",
    "            - 基于 learning，或者说叫 sample based methods\n",
    "            - We learn through **experience** by trying actions and seeing what the results is, making this machine learning problem.\n",
    "        - we learn a value function or a policy directly；\n",
    "- on-policy vs. off-policy"
   ]
  },
  {
   "cell_type": "markdown",
   "id": "e6f5da4d-cdcd-4136-b4ad-d40b2052fb9d",
   "metadata": {},
   "source": [
    "- references, 0507\n",
    "    - https://www.youtube.com/watch?v=XCINqY640mE"
   ]
  },
  {
   "cell_type": "markdown",
   "id": "821b4d74-2474-46a9-87e5-168158cc0857",
   "metadata": {},
   "source": [
    "## TD learning"
   ]
  },
  {
   "cell_type": "markdown",
   "id": "cc62f04b-400c-46dc-8bfa-1524386ca6c4",
   "metadata": {},
   "source": [
    "- is a method that value-based rl algos, like Q-learning, use to iteratively learn state-value function ($V(s)$) or state-action value functions ($Q(s, a)$)"
   ]
  },
  {
   "cell_type": "code",
   "execution_count": 3,
   "id": "cd61053c-06fe-4a38-afc8-77cc4a7e9f0f",
   "metadata": {},
   "outputs": [
    {
     "data": {
      "text/html": [
       "<img src=\"./imgs/td_learning.png\" width=\"500\"/>"
      ],
      "text/plain": [
       "<IPython.core.display.Image object>"
      ]
     },
     "execution_count": 3,
     "metadata": {},
     "output_type": "execute_result"
    }
   ],
   "source": [
    "Image(url='./imgs/td_learning.png', width=500)"
   ]
  }
 ],
 "metadata": {
  "kernelspec": {
   "display_name": "Python 3 (ipykernel)",
   "language": "python",
   "name": "python3"
  },
  "language_info": {
   "codemirror_mode": {
    "name": "ipython",
    "version": 3
   },
   "file_extension": ".py",
   "mimetype": "text/x-python",
   "name": "python",
   "nbconvert_exporter": "python",
   "pygments_lexer": "ipython3",
   "version": "3.10.13"
  },
  "toc": {
   "base_numbering": 1,
   "nav_menu": {},
   "number_sections": true,
   "sideBar": true,
   "skip_h1_title": false,
   "title_cell": "Table of Contents",
   "title_sidebar": "Contents",
   "toc_cell": false,
   "toc_position": {},
   "toc_section_display": true,
   "toc_window_display": false
  }
 },
 "nbformat": 4,
 "nbformat_minor": 5
}
