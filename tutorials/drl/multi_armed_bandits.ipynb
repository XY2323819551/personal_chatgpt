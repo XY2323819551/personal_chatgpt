{
 "cells": [
  {
   "cell_type": "markdown",
   "id": "331fcb5f",
   "metadata": {},
   "source": [
    "- 多臂老虎机是后续学习 MCTS 的基础；\n",
    "    - 蕴含了很多搜索的思想；\n",
    "    - double EE：exploration & exploition\n",
    "        - epsilon greedy；\n",
    "    - 状态/action：价值的度量；\n",
    "    - 序列决策问题？？"
   ]
  },
  {
   "cell_type": "code",
   "execution_count": 3,
   "id": "83443f29",
   "metadata": {
    "ExecuteTime": {
     "end_time": "2023-12-07T14:32:27.658885Z",
     "start_time": "2023-12-07T14:32:27.650886Z"
    }
   },
   "outputs": [],
   "source": [
    "from IPython.display import Image\n",
    "from collections import defaultdict\n",
    "from matplotlib import animation\n",
    "import matplotlib.pyplot as plt\n",
    "import random"
   ]
  },
  {
   "cell_type": "code",
   "execution_count": 2,
   "id": "55942744",
   "metadata": {
    "ExecuteTime": {
     "end_time": "2023-12-07T14:21:53.593589Z",
     "start_time": "2023-12-07T14:21:53.587577Z"
    }
   },
   "outputs": [],
   "source": [
    "import sys\n",
    "import os\n",
    "sys.path.append(os.path.abspath('../'))"
   ]
  },
  {
   "cell_type": "markdown",
   "id": "e73e50e5",
   "metadata": {},
   "source": [
    "## Bandit"
   ]
  },
  {
   "cell_type": "markdown",
   "id": "7c9d1b4d",
   "metadata": {},
   "source": [
    "- state：Dummy state 1；\n",
    "- action：index of arms；"
   ]
  },
  {
   "cell_type": "code",
   "execution_count": 6,
   "id": "8a4c62f5",
   "metadata": {
    "ExecuteTime": {
     "end_time": "2023-12-07T14:58:03.315058Z",
     "start_time": "2023-12-07T14:58:03.309187Z"
    }
   },
   "outputs": [],
   "source": [
    "class MultiArmedBandit():\n",
    "\n",
    "    \"\"\" Select an action for this state given from a list given a Q-function \"\"\"\n",
    "\n",
    "    def select(self, state, actions, qfunction):\n",
    "        abstract\n",
    "\n",
    "    \"\"\" Reset a multi-armed bandit to its initial configuration \"\"\"\n",
    "\n",
    "    def reset(self):\n",
    "        self.__init__()"
   ]
  },
  {
   "cell_type": "code",
   "execution_count": 4,
   "id": "6bc60303",
   "metadata": {
    "ExecuteTime": {
     "end_time": "2023-12-07T14:38:05.479890Z",
     "start_time": "2023-12-07T14:38:05.471267Z"
    }
   },
   "outputs": [],
   "source": [
    "def get_max_q(qtable, state, actions):\n",
    "    max_q = float('-inf')\n",
    "    # 也就是 a\n",
    "    arg_max_q = None\n",
    "    for a in actions:\n",
    "        q = qtable[(state, a)]\n",
    "        if max_q < q:\n",
    "            max_q = q\n",
    "            arg_max_q = a\n",
    "    return arg_max_q, max_q"
   ]
  },
  {
   "cell_type": "code",
   "execution_count": 7,
   "id": "fb036177",
   "metadata": {
    "ExecuteTime": {
     "end_time": "2023-12-07T14:58:06.308007Z",
     "start_time": "2023-12-07T14:58:06.297418Z"
    }
   },
   "outputs": [],
   "source": [
    "class EpsilonGreedy(MultiArmedBandit):\n",
    "    def __init__(self, epsilon=0.1):\n",
    "        self.epsilon = epsilon\n",
    "\n",
    "    def reset(self):\n",
    "        pass\n",
    "\n",
    "    def select(self, state, actions, qtable):\n",
    "        # epsilon greedy\n",
    "        if random.random() < self.epsilon:\n",
    "            return random.choice(actions)\n",
    "        (arg_max_q, _) = get_max_q(qtable, sta)\n",
    "        return arg_max_q"
   ]
  }
 ],
 "metadata": {
  "kernelspec": {
   "display_name": "Python 3 (ipykernel)",
   "language": "python",
   "name": "python3"
  },
  "language_info": {
   "codemirror_mode": {
    "name": "ipython",
    "version": 3
   },
   "file_extension": ".py",
   "mimetype": "text/x-python",
   "name": "python",
   "nbconvert_exporter": "python",
   "pygments_lexer": "ipython3",
   "version": "3.10.13"
  },
  "toc": {
   "base_numbering": 1,
   "nav_menu": {},
   "number_sections": true,
   "sideBar": true,
   "skip_h1_title": false,
   "title_cell": "Table of Contents",
   "title_sidebar": "Contents",
   "toc_cell": false,
   "toc_position": {},
   "toc_section_display": true,
   "toc_window_display": false
  }
 },
 "nbformat": 4,
 "nbformat_minor": 5
}
