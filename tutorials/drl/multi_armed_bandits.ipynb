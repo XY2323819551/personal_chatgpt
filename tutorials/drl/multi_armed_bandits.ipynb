{
 "cells": [
  {
   "cell_type": "code",
   "execution_count": 3,
   "id": "83443f29",
   "metadata": {
    "ExecuteTime": {
     "end_time": "2023-12-16T04:12:13.122198Z",
     "start_time": "2023-12-16T04:12:12.659476Z"
    }
   },
   "outputs": [],
   "source": [
    "from IPython.display import Image\n",
    "from collections import defaultdict\n",
    "from matplotlib import animation\n",
    "import matplotlib.pyplot as plt\n",
    "import random"
   ]
  },
  {
   "cell_type": "code",
   "execution_count": 2,
   "id": "55942744",
   "metadata": {
    "ExecuteTime": {
     "end_time": "2023-12-07T14:21:53.593589Z",
     "start_time": "2023-12-07T14:21:53.587577Z"
    }
   },
   "outputs": [],
   "source": [
    "import sys\n",
    "import os\n",
    "sys.path.append(os.path.abspath('../'))"
   ]
  },
  {
   "cell_type": "markdown",
   "id": "e73e50e5",
   "metadata": {},
   "source": [
    "## Bandit"
   ]
  },
  {
   "cell_type": "markdown",
   "id": "7c9d1b4d",
   "metadata": {},
   "source": [
    "- 什么叫多臂老虎机（Multi-Armed Bandit，MAB）\n",
    "    - 一个拥有 $N$ 根拉杆 （arms）的老虎机，拉动每一根拉杆都对应一个关于奖励的概率分布 $\\mathcal R$;\n",
    "    - 每次拉动其中一根拉杆，就可以从该拉杆对应的概率分布 $\\mathcal R$ 中获得一个奖励 $r$（observation，观测值），\n",
    "        - $r\\sim \\mathcal R$\n",
    "    - 序列决策问题：我们在各根拉杆奖励的概率分布 $\\mathcal R$ 分布未知的情况下，从头开始尝试，目标在操作 $T$ 次拉杆后获得尽可能高的累积奖励（cumulative rewards）\n",
    "- 仍属于 value-based methods\n",
    "    - 状态/action：价值的度量；\n",
    "- 多臂老虎机是后续学习 MCTS 的基础；\n",
    "    - 蕴含了很多搜索的思想；\n",
    "    - double EE：exploration & exploition\n",
    "        - epsilon greedy；\n",
    "        - exploration：探索拉杆的获奖概率；\n",
    "        - exploition：根据经验选择获奖最多的拉杆；\n",
    "    - 序列决策问题？？\n",
    "- representation 表示上；\n",
    "    - state：Dummy state 1；\n",
    "    - action：index of arms，有多少个臂，就意味着有多大的动作空间；"
   ]
  },
  {
   "cell_type": "markdown",
   "id": "81027d75",
   "metadata": {},
   "source": [
    "## 问题定义"
   ]
  },
  {
   "cell_type": "markdown",
   "id": "7f438a6c",
   "metadata": {},
   "source": [
    "- $N$ armed "
   ]
  },
  {
   "cell_type": "code",
   "execution_count": 1,
   "id": "8a4c62f5",
   "metadata": {
    "ExecuteTime": {
     "end_time": "2023-12-16T03:37:52.581966Z",
     "start_time": "2023-12-16T03:37:52.566355Z"
    }
   },
   "outputs": [],
   "source": [
    "class MultiArmedBandit:\n",
    "\n",
    "    \"\"\" Select an action for this state given from a list given a Q-function \"\"\"\n",
    "\n",
    "    def select(self, state, actions, qfunction):\n",
    "        abstract\n",
    "\n",
    "    \"\"\" Reset a multi-armed bandit to its initial configuration \"\"\"\n",
    "\n",
    "    def reset(self):\n",
    "        self.__init__()"
   ]
  },
  {
   "cell_type": "code",
   "execution_count": 6,
   "id": "a4a9c265",
   "metadata": {
    "ExecuteTime": {
     "end_time": "2023-12-16T04:12:28.590213Z",
     "start_time": "2023-12-16T04:12:28.581471Z"
    }
   },
   "outputs": [
    {
     "data": {
      "text/html": [
       "<img src=\"./imgs/mab_algo.png\" width=\"600\"/>"
      ],
      "text/plain": [
       "<IPython.core.display.Image object>"
      ]
     },
     "execution_count": 6,
     "metadata": {},
     "output_type": "execute_result"
    }
   ],
   "source": [
    "Image(url='./imgs/mab_algo.png', width=600)"
   ]
  },
  {
   "cell_type": "code",
   "execution_count": 2,
   "id": "331363b9",
   "metadata": {
    "ExecuteTime": {
     "end_time": "2023-12-16T04:04:10.778513Z",
     "start_time": "2023-12-16T04:04:10.767880Z"
    }
   },
   "outputs": [],
   "source": [
    "def run_bandit(bandit, episodes=200, episode_length=500):\n",
    "    \n",
    "    # 5 arms or 5 actions\n",
    "    actions = [0, 1, 2, 3, 4]\n",
    "    rewards = []\n",
    "    dummy_state = 0\n",
    "    \n",
    "    for _ in range(episodes):\n",
    "        bandit.reset()\n",
    "        # 各个臂上 reward = 5 的 p，1-p 时 reward = 0\n",
    "        probabilities = [0.1, 0.3, 0.7, 0.2, 0.1]\n",
    "        N_dict = defaultdict(int)\n",
    "        # (state, action)\n",
    "        Q_table = defaultdict(lambda: 0.)\n",
    "        episode_rewards = []\n",
    "        for step in range(episode_length):\n",
    "            action = bandit.select(dummy_state, actions, q_table)\n",
    "            reward = 0\n",
    "            if random.random() < probabilities[action]:\n",
    "                reward = 5\n",
    "            episode_rewards.append(reward)\n",
    "            N_dict[action] += 1\n",
    "            Q_table[(dummy_state, action)] += (reward - Q_table[(dummy_state, action)]) / N_dict[action]\n",
    "        rewards += episode_rewards\n",
    "    return reward"
   ]
  },
  {
   "cell_type": "code",
   "execution_count": 4,
   "id": "6bc60303",
   "metadata": {
    "ExecuteTime": {
     "end_time": "2023-12-07T14:38:05.479890Z",
     "start_time": "2023-12-07T14:38:05.471267Z"
    }
   },
   "outputs": [],
   "source": [
    "def get_max_q(qtable, state, actions):\n",
    "    max_q = float('-inf')\n",
    "    # 也就是 a\n",
    "    arg_max_q = None\n",
    "    for a in actions:\n",
    "        q = qtable[(state, a)]\n",
    "        if max_q < q:\n",
    "            max_q = q\n",
    "            arg_max_q = a\n",
    "    return arg_max_q, max_q"
   ]
  },
  {
   "cell_type": "code",
   "execution_count": 7,
   "id": "fb036177",
   "metadata": {
    "ExecuteTime": {
     "end_time": "2023-12-07T14:58:06.308007Z",
     "start_time": "2023-12-07T14:58:06.297418Z"
    }
   },
   "outputs": [],
   "source": [
    "class EpsilonGreedy(MultiArmedBandit):\n",
    "    def __init__(self, epsilon=0.1):\n",
    "        self.epsilon = epsilon\n",
    "\n",
    "    def reset(self):\n",
    "        pass\n",
    "\n",
    "    def select(self, state, actions, qtable):\n",
    "        # epsilon greedy\n",
    "        if random.random() < self.epsilon:\n",
    "            return random.choice(actions)\n",
    "        (arg_max_q, _) = get_max_q(qtable, sta)\n",
    "        return arg_max_q"
   ]
  }
 ],
 "metadata": {
  "kernelspec": {
   "display_name": "Python 3 (ipykernel)",
   "language": "python",
   "name": "python3"
  },
  "language_info": {
   "codemirror_mode": {
    "name": "ipython",
    "version": 3
   },
   "file_extension": ".py",
   "mimetype": "text/x-python",
   "name": "python",
   "nbconvert_exporter": "python",
   "pygments_lexer": "ipython3",
   "version": "3.10.13"
  },
  "toc": {
   "base_numbering": 1,
   "nav_menu": {},
   "number_sections": true,
   "sideBar": true,
   "skip_h1_title": false,
   "title_cell": "Table of Contents",
   "title_sidebar": "Contents",
   "toc_cell": false,
   "toc_position": {},
   "toc_section_display": true,
   "toc_window_display": false
  }
 },
 "nbformat": 4,
 "nbformat_minor": 5
}
