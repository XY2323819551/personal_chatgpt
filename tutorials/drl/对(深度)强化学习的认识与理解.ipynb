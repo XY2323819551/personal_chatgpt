{
 "cells": [
  {
   "cell_type": "code",
   "execution_count": 1,
   "id": "dc2a9d31",
   "metadata": {
    "ExecuteTime": {
     "end_time": "2023-12-03T06:46:36.028221Z",
     "start_time": "2023-12-03T06:46:36.014065Z"
    }
   },
   "outputs": [],
   "source": [
    "from IPython.display import Image"
   ]
  },
  {
   "cell_type": "markdown",
   "id": "acedc5be",
   "metadata": {},
   "source": [
    "## 基本设定"
   ]
  },
  {
   "cell_type": "code",
   "execution_count": 4,
   "id": "c742145e",
   "metadata": {
    "ExecuteTime": {
     "end_time": "2023-12-03T06:47:18.085579Z",
     "start_time": "2023-12-03T06:47:18.079108Z"
    }
   },
   "outputs": [
    {
     "data": {
      "text/html": [
       "<img src=\"../../imgs/agent_rl.png\" width=\"400\"/>"
      ],
      "text/plain": [
       "<IPython.core.display.Image object>"
      ]
     },
     "execution_count": 4,
     "metadata": {},
     "output_type": "execute_result"
    }
   ],
   "source": [
    "Image(url='../../imgs/agent_rl.png', width=400)"
   ]
  },
  {
   "cell_type": "markdown",
   "id": "71e2f4bf",
   "metadata": {},
   "source": [
    "- reward 从哪里来\n",
    "    - 目前都是 agent 跟 env 交互的过程中，从 env 中来；\n",
    "    - 但现实世界中的 human，其 reward 是自我奖励的；\n",
    "        - 最本质\n",
    "- agent = neural network\n",
    "    - 尤其是在 DRL 中，如上图所示；\n",
    "    - 也就是 nn map observations to actions；\n",
    "- model free model base\n",
    "    - model free\n",
    "        - policy gradient\n",
    "        - Q learning "
   ]
  }
 ],
 "metadata": {
  "kernelspec": {
   "display_name": "Python 3 (ipykernel)",
   "language": "python",
   "name": "python3"
  },
  "language_info": {
   "codemirror_mode": {
    "name": "ipython",
    "version": 3
   },
   "file_extension": ".py",
   "mimetype": "text/x-python",
   "name": "python",
   "nbconvert_exporter": "python",
   "pygments_lexer": "ipython3",
   "version": "3.10.13"
  },
  "toc": {
   "base_numbering": 1,
   "nav_menu": {},
   "number_sections": true,
   "sideBar": true,
   "skip_h1_title": false,
   "title_cell": "Table of Contents",
   "title_sidebar": "Contents",
   "toc_cell": false,
   "toc_position": {},
   "toc_section_display": true,
   "toc_window_display": false
  }
 },
 "nbformat": 4,
 "nbformat_minor": 5
}
