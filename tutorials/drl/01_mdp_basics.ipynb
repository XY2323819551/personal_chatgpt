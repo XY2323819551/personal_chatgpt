{
 "cells": [
  {
   "cell_type": "markdown",
   "id": "46bbf108",
   "metadata": {},
   "source": [
    "## value based & policy based"
   ]
  },
  {
   "cell_type": "markdown",
   "id": "d83acf31",
   "metadata": {},
   "source": [
    "- Value based\n",
    "    - value iteration\n",
    "- Policy based\n",
    "    - Policy gradient"
   ]
  },
  {
   "cell_type": "markdown",
   "id": "25980c2a",
   "metadata": {},
   "source": [
    "## $V(s)$ 与 $Q(s,a)$"
   ]
  },
  {
   "cell_type": "markdown",
   "id": "68a5c429",
   "metadata": {},
   "source": [
    "\n",
    "- reference\n",
    "    - https://lilianweng.github.io/posts/2018-04-08-policy-gradient/\n",
    "\n",
    "- $V(s)$: State-value function\n",
    "    - $V(s)$: State-value function measures the expected return of state $s$ \n",
    "    - $V_w(s)$: is a value function parameterized by $w$\n",
    "    - $V^\\pi(s)$: The value of state $s$ when we follow a policy $\\pi$\n",
    "        $$\n",
    "        V^\\pi (s) = \\mathbb{E}_{a\\sim \\pi} [G_t \\vert S_t = s]\n",
    "        $$\n",
    "        - $G_t=\\sum_{k=0}\\gamma^kR_{t+k+1}=R_{t+1}+\\gamma R_{t+2}+\\gamma^2R_{t+3}+\\cdots$\n",
    "\n",
    "- $Q(s,a)$: Action-value function, but it assesses the expected return of a pair of state and action $(s,a)$;\n",
    "    - $Q_w(\\cdot)$: is a action value function parameterized by $w$\n",
    "    - $Q^{\\pi}(s,a)$: $Q^\\pi(s, a) = \\mathbb{E}_{a\\sim \\pi} [G_t \\vert S_t = s, A_t = a]$\n",
    "\n",
    "- $A(s,a)=Q(s,a)-V(s)$, Advantage function, "
   ]
  }
 ],
 "metadata": {
  "kernelspec": {
   "display_name": "Python 3 (ipykernel)",
   "language": "python",
   "name": "python3"
  },
  "language_info": {
   "codemirror_mode": {
    "name": "ipython",
    "version": 3
   },
   "file_extension": ".py",
   "mimetype": "text/x-python",
   "name": "python",
   "nbconvert_exporter": "python",
   "pygments_lexer": "ipython3",
   "version": "3.10.9"
  },
  "toc": {
   "base_numbering": 1,
   "nav_menu": {},
   "number_sections": true,
   "sideBar": true,
   "skip_h1_title": false,
   "title_cell": "Table of Contents",
   "title_sidebar": "Contents",
   "toc_cell": false,
   "toc_position": {},
   "toc_section_display": true,
   "toc_window_display": false
  }
 },
 "nbformat": 4,
 "nbformat_minor": 5
}
